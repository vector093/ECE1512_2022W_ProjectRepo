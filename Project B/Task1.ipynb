{
  "nbformat": 4,
  "nbformat_minor": 0,
  "metadata": {
    "colab": {
      "name": "Task1.ipynb",
      "provenance": [],
      "collapsed_sections": [
        "H2EFLQROP2R7",
        "kAZwfvW5P63q",
        "8JWGucyrQGav",
        "JS8xkuH0QbOS",
        "RJ1uyvurQ3w4",
        "NQL1lJdaRPT1",
        "sj1N38fnRTNB",
        "WNrH_1emRbGA",
        "yq3JTpQ4RuhR"
      ]
    },
    "kernelspec": {
      "name": "python3",
      "display_name": "Python 3"
    },
    "language_info": {
      "name": "python"
    },
    "widgets": {
      "application/vnd.jupyter.widget-state+json": {
        "b25d5ee899f94210adfa6c2950edc5ac": {
          "model_module": "@jupyter-widgets/controls",
          "model_name": "HBoxModel",
          "model_module_version": "1.5.0",
          "state": {
            "_dom_classes": [],
            "_model_module": "@jupyter-widgets/controls",
            "_model_module_version": "1.5.0",
            "_model_name": "HBoxModel",
            "_view_count": null,
            "_view_module": "@jupyter-widgets/controls",
            "_view_module_version": "1.5.0",
            "_view_name": "HBoxView",
            "box_style": "",
            "children": [
              "IPY_MODEL_a55843b3b53e4c55aad5a915e745fad8",
              "IPY_MODEL_335c1e7ac069452f9b55cfdda18c29e6",
              "IPY_MODEL_08afb1b2859a433e8a39143aa1e73506"
            ],
            "layout": "IPY_MODEL_f0c6ba799b1c486c87f7e67f835632ed"
          }
        },
        "a55843b3b53e4c55aad5a915e745fad8": {
          "model_module": "@jupyter-widgets/controls",
          "model_name": "HTMLModel",
          "model_module_version": "1.5.0",
          "state": {
            "_dom_classes": [],
            "_model_module": "@jupyter-widgets/controls",
            "_model_module_version": "1.5.0",
            "_model_name": "HTMLModel",
            "_view_count": null,
            "_view_module": "@jupyter-widgets/controls",
            "_view_module_version": "1.5.0",
            "_view_name": "HTMLView",
            "description": "",
            "description_tooltip": null,
            "layout": "IPY_MODEL_9bbc45293df54a8baf7152b0832428cd",
            "placeholder": "​",
            "style": "IPY_MODEL_29d9f1368abd49a59d12dc8121643803",
            "value": "Dl Completed...: 100%"
          }
        },
        "335c1e7ac069452f9b55cfdda18c29e6": {
          "model_module": "@jupyter-widgets/controls",
          "model_name": "FloatProgressModel",
          "model_module_version": "1.5.0",
          "state": {
            "_dom_classes": [],
            "_model_module": "@jupyter-widgets/controls",
            "_model_module_version": "1.5.0",
            "_model_name": "FloatProgressModel",
            "_view_count": null,
            "_view_module": "@jupyter-widgets/controls",
            "_view_module_version": "1.5.0",
            "_view_name": "ProgressView",
            "bar_style": "success",
            "description": "",
            "description_tooltip": null,
            "layout": "IPY_MODEL_f6a8530909504d58addc072072478ea7",
            "max": 4,
            "min": 0,
            "orientation": "horizontal",
            "style": "IPY_MODEL_9ba8b233f54c406091660b726ef5eeb8",
            "value": 4
          }
        },
        "08afb1b2859a433e8a39143aa1e73506": {
          "model_module": "@jupyter-widgets/controls",
          "model_name": "HTMLModel",
          "model_module_version": "1.5.0",
          "state": {
            "_dom_classes": [],
            "_model_module": "@jupyter-widgets/controls",
            "_model_module_version": "1.5.0",
            "_model_name": "HTMLModel",
            "_view_count": null,
            "_view_module": "@jupyter-widgets/controls",
            "_view_module_version": "1.5.0",
            "_view_name": "HTMLView",
            "description": "",
            "description_tooltip": null,
            "layout": "IPY_MODEL_f69967002d5b4e259253c7ca89f1527d",
            "placeholder": "​",
            "style": "IPY_MODEL_d49a47ec53154819b0ff5ea86e24b70b",
            "value": " 4/4 [00:00&lt;00:00,  5.81 file/s]"
          }
        },
        "f0c6ba799b1c486c87f7e67f835632ed": {
          "model_module": "@jupyter-widgets/base",
          "model_name": "LayoutModel",
          "model_module_version": "1.2.0",
          "state": {
            "_model_module": "@jupyter-widgets/base",
            "_model_module_version": "1.2.0",
            "_model_name": "LayoutModel",
            "_view_count": null,
            "_view_module": "@jupyter-widgets/base",
            "_view_module_version": "1.2.0",
            "_view_name": "LayoutView",
            "align_content": null,
            "align_items": null,
            "align_self": null,
            "border": null,
            "bottom": null,
            "display": null,
            "flex": null,
            "flex_flow": null,
            "grid_area": null,
            "grid_auto_columns": null,
            "grid_auto_flow": null,
            "grid_auto_rows": null,
            "grid_column": null,
            "grid_gap": null,
            "grid_row": null,
            "grid_template_areas": null,
            "grid_template_columns": null,
            "grid_template_rows": null,
            "height": null,
            "justify_content": null,
            "justify_items": null,
            "left": null,
            "margin": null,
            "max_height": null,
            "max_width": null,
            "min_height": null,
            "min_width": null,
            "object_fit": null,
            "object_position": null,
            "order": null,
            "overflow": null,
            "overflow_x": null,
            "overflow_y": null,
            "padding": null,
            "right": null,
            "top": null,
            "visibility": null,
            "width": null
          }
        },
        "9bbc45293df54a8baf7152b0832428cd": {
          "model_module": "@jupyter-widgets/base",
          "model_name": "LayoutModel",
          "model_module_version": "1.2.0",
          "state": {
            "_model_module": "@jupyter-widgets/base",
            "_model_module_version": "1.2.0",
            "_model_name": "LayoutModel",
            "_view_count": null,
            "_view_module": "@jupyter-widgets/base",
            "_view_module_version": "1.2.0",
            "_view_name": "LayoutView",
            "align_content": null,
            "align_items": null,
            "align_self": null,
            "border": null,
            "bottom": null,
            "display": null,
            "flex": null,
            "flex_flow": null,
            "grid_area": null,
            "grid_auto_columns": null,
            "grid_auto_flow": null,
            "grid_auto_rows": null,
            "grid_column": null,
            "grid_gap": null,
            "grid_row": null,
            "grid_template_areas": null,
            "grid_template_columns": null,
            "grid_template_rows": null,
            "height": null,
            "justify_content": null,
            "justify_items": null,
            "left": null,
            "margin": null,
            "max_height": null,
            "max_width": null,
            "min_height": null,
            "min_width": null,
            "object_fit": null,
            "object_position": null,
            "order": null,
            "overflow": null,
            "overflow_x": null,
            "overflow_y": null,
            "padding": null,
            "right": null,
            "top": null,
            "visibility": null,
            "width": null
          }
        },
        "29d9f1368abd49a59d12dc8121643803": {
          "model_module": "@jupyter-widgets/controls",
          "model_name": "DescriptionStyleModel",
          "model_module_version": "1.5.0",
          "state": {
            "_model_module": "@jupyter-widgets/controls",
            "_model_module_version": "1.5.0",
            "_model_name": "DescriptionStyleModel",
            "_view_count": null,
            "_view_module": "@jupyter-widgets/base",
            "_view_module_version": "1.2.0",
            "_view_name": "StyleView",
            "description_width": ""
          }
        },
        "f6a8530909504d58addc072072478ea7": {
          "model_module": "@jupyter-widgets/base",
          "model_name": "LayoutModel",
          "model_module_version": "1.2.0",
          "state": {
            "_model_module": "@jupyter-widgets/base",
            "_model_module_version": "1.2.0",
            "_model_name": "LayoutModel",
            "_view_count": null,
            "_view_module": "@jupyter-widgets/base",
            "_view_module_version": "1.2.0",
            "_view_name": "LayoutView",
            "align_content": null,
            "align_items": null,
            "align_self": null,
            "border": null,
            "bottom": null,
            "display": null,
            "flex": null,
            "flex_flow": null,
            "grid_area": null,
            "grid_auto_columns": null,
            "grid_auto_flow": null,
            "grid_auto_rows": null,
            "grid_column": null,
            "grid_gap": null,
            "grid_row": null,
            "grid_template_areas": null,
            "grid_template_columns": null,
            "grid_template_rows": null,
            "height": null,
            "justify_content": null,
            "justify_items": null,
            "left": null,
            "margin": null,
            "max_height": null,
            "max_width": null,
            "min_height": null,
            "min_width": null,
            "object_fit": null,
            "object_position": null,
            "order": null,
            "overflow": null,
            "overflow_x": null,
            "overflow_y": null,
            "padding": null,
            "right": null,
            "top": null,
            "visibility": null,
            "width": null
          }
        },
        "9ba8b233f54c406091660b726ef5eeb8": {
          "model_module": "@jupyter-widgets/controls",
          "model_name": "ProgressStyleModel",
          "model_module_version": "1.5.0",
          "state": {
            "_model_module": "@jupyter-widgets/controls",
            "_model_module_version": "1.5.0",
            "_model_name": "ProgressStyleModel",
            "_view_count": null,
            "_view_module": "@jupyter-widgets/base",
            "_view_module_version": "1.2.0",
            "_view_name": "StyleView",
            "bar_color": null,
            "description_width": ""
          }
        },
        "f69967002d5b4e259253c7ca89f1527d": {
          "model_module": "@jupyter-widgets/base",
          "model_name": "LayoutModel",
          "model_module_version": "1.2.0",
          "state": {
            "_model_module": "@jupyter-widgets/base",
            "_model_module_version": "1.2.0",
            "_model_name": "LayoutModel",
            "_view_count": null,
            "_view_module": "@jupyter-widgets/base",
            "_view_module_version": "1.2.0",
            "_view_name": "LayoutView",
            "align_content": null,
            "align_items": null,
            "align_self": null,
            "border": null,
            "bottom": null,
            "display": null,
            "flex": null,
            "flex_flow": null,
            "grid_area": null,
            "grid_auto_columns": null,
            "grid_auto_flow": null,
            "grid_auto_rows": null,
            "grid_column": null,
            "grid_gap": null,
            "grid_row": null,
            "grid_template_areas": null,
            "grid_template_columns": null,
            "grid_template_rows": null,
            "height": null,
            "justify_content": null,
            "justify_items": null,
            "left": null,
            "margin": null,
            "max_height": null,
            "max_width": null,
            "min_height": null,
            "min_width": null,
            "object_fit": null,
            "object_position": null,
            "order": null,
            "overflow": null,
            "overflow_x": null,
            "overflow_y": null,
            "padding": null,
            "right": null,
            "top": null,
            "visibility": null,
            "width": null
          }
        },
        "d49a47ec53154819b0ff5ea86e24b70b": {
          "model_module": "@jupyter-widgets/controls",
          "model_name": "DescriptionStyleModel",
          "model_module_version": "1.5.0",
          "state": {
            "_model_module": "@jupyter-widgets/controls",
            "_model_module_version": "1.5.0",
            "_model_name": "DescriptionStyleModel",
            "_view_count": null,
            "_view_module": "@jupyter-widgets/base",
            "_view_module_version": "1.2.0",
            "_view_name": "StyleView",
            "description_width": ""
          }
        }
      }
    },
    "accelerator": "GPU"
  },
  "cells": [
    {
      "cell_type": "markdown",
      "source": [
        "# Project B: Knowledge Distillation for Building Lightweight Deep Learning Models in Visual Classification Tasks"
      ],
      "metadata": {
        "id": "6WYMfvCNPwpm"
      }
    },
    {
      "cell_type": "code",
      "source": [
        "import tensorflow.compat.v2 as tf\n",
        "import tensorflow_datasets as tfds\n",
        "from typing import Union\n",
        "from tensorflow.keras.layers import * \n",
        "from keras.preprocessing.image import ImageDataGenerator\n",
        "from keras.utils.np_utils import to_categorical\n",
        "import keras\n",
        "import numpy\n",
        "import pandas as pd\n",
        "import matplotlib.pyplot as plt\n",
        "\n",
        "tf.enable_v2_behavior()\n",
        "\n",
        "builder = tfds.builder('mnist')\n",
        "BATCH_SIZE = 256\n",
        "NUM_EPOCHS = 12\n",
        "NUM_CLASSES = 10  # 10 total classes."
      ],
      "metadata": {
        "id": "vA8ppgB2P0aJ"
      },
      "execution_count": null,
      "outputs": []
    },
    {
      "cell_type": "code",
      "source": [
        "from google.colab import drive\n",
        "drive.mount('/content/drive')"
      ],
      "metadata": {
        "id": "sfoCAqhNZ4Oo",
        "colab": {
          "base_uri": "https://localhost:8080/"
        },
        "outputId": "1edf990b-74a9-4cf6-b678-0e9a017c88aa"
      },
      "execution_count": null,
      "outputs": [
        {
          "output_type": "stream",
          "name": "stdout",
          "text": [
            "Mounted at /content/drive\n"
          ]
        }
      ]
    },
    {
      "cell_type": "code",
      "source": [
        "import os\n",
        "os.chdir(r'/content/drive/My Drive/mhist_dataset')  # Change the directory to the project folder in your drive"
      ],
      "metadata": {
        "id": "L3hSZdkt7bg0"
      },
      "execution_count": null,
      "outputs": []
    },
    {
      "cell_type": "markdown",
      "source": [
        "# Data loading"
      ],
      "metadata": {
        "id": "H2EFLQROP2R7"
      }
    },
    {
      "cell_type": "code",
      "source": [
        "# Load train and test splits.\n",
        "def preprocess(x):\n",
        "  image = tf.image.convert_image_dtype(x['image'], tf.float32)\n",
        "  subclass_labels = tf.one_hot(x['label'], builder.info.features['label'].num_classes)\n",
        "  return image, subclass_labels\n",
        "\n",
        "\n",
        "mnist_train = tfds.load('mnist', split='train', shuffle_files=False).cache()\n",
        "mnist_train = mnist_train.map(preprocess)\n",
        "mnist_train = mnist_train.shuffle(builder.info.splits['train'].num_examples)\n",
        "mnist_train = mnist_train.batch(BATCH_SIZE, drop_remainder=True)\n",
        "\n",
        "mnist_test = tfds.load('mnist', split='test').cache()\n",
        "mnist_test = mnist_test.map(preprocess).batch(BATCH_SIZE)"
      ],
      "metadata": {
        "id": "ynByMG_UP4A4",
        "colab": {
          "base_uri": "https://localhost:8080/",
          "referenced_widgets": [
            "b25d5ee899f94210adfa6c2950edc5ac",
            "a55843b3b53e4c55aad5a915e745fad8",
            "335c1e7ac069452f9b55cfdda18c29e6",
            "08afb1b2859a433e8a39143aa1e73506",
            "f0c6ba799b1c486c87f7e67f835632ed",
            "9bbc45293df54a8baf7152b0832428cd",
            "29d9f1368abd49a59d12dc8121643803",
            "f6a8530909504d58addc072072478ea7",
            "9ba8b233f54c406091660b726ef5eeb8",
            "f69967002d5b4e259253c7ca89f1527d",
            "d49a47ec53154819b0ff5ea86e24b70b"
          ]
        },
        "outputId": "c558e738-50af-422b-bad6-aadd6d15403b"
      },
      "execution_count": null,
      "outputs": [
        {
          "output_type": "stream",
          "name": "stdout",
          "text": [
            "\u001b[1mDownloading and preparing dataset mnist/3.0.1 (download: 11.06 MiB, generated: 21.00 MiB, total: 32.06 MiB) to /root/tensorflow_datasets/mnist/3.0.1...\u001b[0m\n"
          ]
        },
        {
          "output_type": "stream",
          "name": "stderr",
          "text": [
            "WARNING:absl:Dataset mnist is hosted on GCS. It will automatically be downloaded to your\n",
            "local data directory. If you'd instead prefer to read directly from our public\n",
            "GCS bucket (recommended if you're running on GCP), you can instead pass\n",
            "`try_gcs=True` to `tfds.load` or set `data_dir=gs://tfds-data/datasets`.\n",
            "\n"
          ]
        },
        {
          "output_type": "display_data",
          "data": {
            "text/plain": [
              "Dl Completed...:   0%|          | 0/4 [00:00<?, ? file/s]"
            ],
            "application/vnd.jupyter.widget-view+json": {
              "version_major": 2,
              "version_minor": 0,
              "model_id": "b25d5ee899f94210adfa6c2950edc5ac"
            }
          },
          "metadata": {}
        },
        {
          "output_type": "stream",
          "name": "stdout",
          "text": [
            "\n",
            "\u001b[1mDataset mnist downloaded and prepared to /root/tensorflow_datasets/mnist/3.0.1. Subsequent calls will reuse this data.\u001b[0m\n"
          ]
        }
      ]
    },
    {
      "cell_type": "code",
      "source": [
        "mnist_train"
      ],
      "metadata": {
        "colab": {
          "base_uri": "https://localhost:8080/"
        },
        "id": "7LyXIrcMksJJ",
        "outputId": "013a6716-0765-4574-d673-4e17ccd1492b"
      },
      "execution_count": null,
      "outputs": [
        {
          "output_type": "execute_result",
          "data": {
            "text/plain": [
              "<BatchDataset element_spec=(TensorSpec(shape=(256, 28, 28, 1), dtype=tf.float32, name=None), TensorSpec(shape=(256, 10), dtype=tf.float32, name=None))>"
            ]
          },
          "metadata": {},
          "execution_count": 5
        }
      ]
    },
    {
      "cell_type": "markdown",
      "source": [
        "# Model creation"
      ],
      "metadata": {
        "id": "kAZwfvW5P63q"
      }
    },
    {
      "cell_type": "code",
      "source": [
        "#@test {\"output\": \"ignore\"}\n",
        "\n",
        "# Build CNN teacher.\n",
        "cnn_model = tf.keras.Sequential([Conv2D(filters=32, \n",
        "                           kernel_size=(3,3), \n",
        "                           strides=1, \n",
        "                           padding='same',\n",
        "                           activation='relu',\n",
        "                           input_shape=(28,28,1)),\n",
        "\n",
        "                    MaxPool2D(pool_size=(2, 2), strides=1),\n",
        "\n",
        "                    Conv2D(filters=64, \n",
        "                           kernel_size=(3,3), \n",
        "                           strides=1, \n",
        "                           padding='same',\n",
        "                           activation='relu'),\n",
        "\n",
        "                   MaxPool2D(pool_size=(2, 2), strides=2),\n",
        "                   Flatten(),\n",
        "                   Dropout(rate=0.5),\n",
        "                   Dense(units=128, activation='relu'),\n",
        "                   Dropout(rate=0.5),\n",
        "                   Dense(units=10, activation='linear')])\n",
        "\n",
        "\n",
        "\n",
        "# Build fully connected student.\n",
        "fc_model = tf.keras.Sequential([Flatten(),\n",
        "                                Dense(units=784, activation='relu'),\n",
        "                                Dense(units=784, activation='relu'),\n",
        "                                Dense(units=10, activation='linear')])\n"
      ],
      "metadata": {
        "id": "zINgDkA7P7BP"
      },
      "execution_count": null,
      "outputs": []
    },
    {
      "cell_type": "markdown",
      "source": [
        "# Teacher loss function"
      ],
      "metadata": {
        "id": "8JWGucyrQGav"
      }
    },
    {
      "cell_type": "code",
      "source": [
        "@tf.function\n",
        "def compute_teacher_loss(images, labels):\n",
        "  \"\"\"Compute subclass knowledge distillation teacher loss for given images\n",
        "     and labels.\n",
        "\n",
        "  Args:\n",
        "    images: Tensor representing a batch of images.\n",
        "    labels: Tensor representing a batch of labels.\n",
        "\n",
        "  Returns:\n",
        "    Scalar loss Tensor.\n",
        "  \"\"\"\n",
        "  subclass_logits = cnn_model(images, training=True)\n",
        "\n",
        "  # Compute cross-entropy loss for subclasses.\n",
        "\n",
        "  # your code start from here for step 3\n",
        "  \n",
        "  loss=tf.keras.losses.CategoricalCrossentropy(axis=-1,name='categorical_crossentropy')\n",
        "  cross_entropy_loss_value = loss(labels,tf.nn.softmax(subclass_logits, axis=-1))\n",
        "\n",
        "\n",
        "  return cross_entropy_loss_value"
      ],
      "metadata": {
        "id": "DhzBP6ZLQJ57"
      },
      "execution_count": null,
      "outputs": []
    },
    {
      "cell_type": "markdown",
      "source": [
        "# Student loss function"
      ],
      "metadata": {
        "id": "JS8xkuH0QbOS"
      }
    },
    {
      "cell_type": "code",
      "source": [
        "# Hyperparameters for distillation (need to be tuned).\n",
        "ALPHA = 0.9 # task balance between cross-entropy and distillation loss\n",
        "DISTILLATION_TEMPERATURE = 8. #temperature hyperparameter\n",
        "\n",
        "def distillation_loss(teacher_logits: tf.Tensor, student_logits: tf.Tensor,\n",
        "                      temperature: Union[float, tf.Tensor]):\n",
        "  \"\"\"Compute distillation loss.\n",
        "\n",
        "  This function computes cross entropy between softened logits and softened\n",
        "  targets. The resulting loss is scaled by the squared temperature so that\n",
        "  the gradient magnitude remains approximately constant as the temperature is\n",
        "  changed. For reference, see Hinton et al., 2014, \"Distilling the knowledge in\n",
        "  a neural network.\"\n",
        "\n",
        "  Args:\n",
        "    teacher_logits: A Tensor of logits provided by the teacher.\n",
        "    student_logits: A Tensor of logits provided by the student, of the same\n",
        "      shape as `teacher_logits`.\n",
        "    temperature: Temperature to use for distillation.\n",
        "\n",
        "  Returns:\n",
        "    A scalar Tensor containing the distillation loss.\n",
        "  \"\"\"\n",
        " # your code start from here for step 3\n",
        "  soft_targets = tf.nn.softmax(teacher_logits/temperature)\n",
        "\n",
        "  return tf.reduce_mean(\n",
        "      tf.nn.softmax_cross_entropy_with_logits(\n",
        "          soft_targets, student_logits / temperature)) * temperature ** 2\n",
        "\n",
        "def compute_student_loss(images, labels, ALPHA=0.9, DISTILLATION_TEMPERATURE=8. ):\n",
        "  \"\"\"Compute subclass knowledge distillation student loss for given images\n",
        "     and labels.\n",
        "\n",
        "  Args:\n",
        "    images: Tensor representing a batch of images.\n",
        "    labels: Tensor representing a batch of labels.\n",
        "\n",
        "  Returns:\n",
        "    Scalar loss Tensor.\n",
        "  \"\"\"\n",
        "  student_subclass_logits = fc_model(images, training=True)\n",
        "\n",
        "  # Compute subclass distillation loss between student subclass logits and\n",
        "  # softened teacher subclass targets probabilities.\n",
        "\n",
        "  # your code start from here for step 3\n",
        "\n",
        "  teacher_subclass_logits = cnn_model(images, training=False)\n",
        "  distillation_loss_value =distillation_loss(teacher_subclass_logits,student_subclass_logits, DISTILLATION_TEMPERATURE )\n",
        "\n",
        "  # Compute cross-entropy loss with hard targets.\n",
        "\n",
        "  # your code start from here for step 3\n",
        "  loss=tf.keras.losses.CategoricalCrossentropy(axis=-1,name='categorical_crossentropy')\n",
        "  cross_entropy_loss_value = loss(labels,tf.nn.softmax(student_subclass_logits, axis=-1))\n",
        "\n",
        "  return (ALPHA*  distillation_loss_value + (1-ALPHA)* cross_entropy_loss_value) "
      ],
      "metadata": {
        "id": "lDKia4gPQMIr"
      },
      "execution_count": null,
      "outputs": []
    },
    {
      "cell_type": "markdown",
      "source": [
        "# Train and evaluation"
      ],
      "metadata": {
        "id": "RJ1uyvurQ3w4"
      }
    },
    {
      "cell_type": "code",
      "source": [
        "@tf.function\n",
        "def compute_num_correct(model, images, labels):\n",
        "  \"\"\"Compute number of correctly classified images in a batch.\n",
        "\n",
        "  Args:\n",
        "    model: Instance of tf.keras.Model.\n",
        "    images: Tensor representing a batch of images.\n",
        "    labels: Tensor representing a batch of labels.\n",
        "\n",
        "  Returns:\n",
        "    Number of correctly classified images.\n",
        "  \"\"\"\n",
        "  class_logits = model(images, training=False)\n",
        "  return tf.math.reduce_sum(tf.cast(tf.math.equal(tf.argmax(class_logits, -1), tf.argmax(labels, -1)),tf.float32)), tf.argmax(class_logits, -1), tf.argmax(labels, -1)\n",
        "\n",
        "\n",
        "def train_and_evaluate(model, compute_loss_fn):\n",
        "  \"\"\"Perform training and evaluation for a given model.\n",
        "\n",
        "  Args:\n",
        "    model: Instance of tf.keras.Model.\n",
        "    compute_loss_fn: A function that computes the training loss given the\n",
        "      images, and labels.\n",
        "  \"\"\"\n",
        "\n",
        "  # your code start from here for step 4\n",
        "  optimizer = tf.keras.optimizers.Adam(learning_rate=0.001)\n",
        "\n",
        "  for epoch in range(1, NUM_EPOCHS + 1):\n",
        "    # Run training.\n",
        "    print('Epoch {}: '.format(epoch), end='')\n",
        "    for images, labels in mnist_train:\n",
        "      with tf.GradientTape() as tape:\n",
        "         # your code start from here for step 4\n",
        "\n",
        "        loss_value = compute_loss_fn(images,labels)\n",
        "\n",
        "      grads = tape.gradient(loss_value, model.trainable_variables)\n",
        "      optimizer.apply_gradients(zip(grads, model.trainable_variables))\n",
        "\n",
        "    # Run evaluation.\n",
        "    num_correct = 0\n",
        "    num_total = builder.info.splits['test'].num_examples\n",
        "    for images, labels in mnist_test:\n",
        "      # your code start from here for step 4\n",
        "      num_correct += compute_num_correct(model,images,labels)[0] \n",
        "    print(\"Class_accuracy: \" + '{:.2f}%'.format(\n",
        "        num_correct / num_total * 100))\n"
      ],
      "metadata": {
        "id": "EtoLbp8uQ4Vl"
      },
      "execution_count": null,
      "outputs": []
    },
    {
      "cell_type": "code",
      "source": [
        "def train_and_evaluate_student(model, compute_loss_fn, ALPHA=0.9, DISTILLATION_TEMPERATURE=8. ):\n",
        "  \"\"\"Perform training and evaluation for a given model.\n",
        "\n",
        "  Args:\n",
        "    model: Instance of tf.keras.Model.\n",
        "    compute_loss_fn: A function that computes the training loss given the\n",
        "      images, and labels.\n",
        "  \"\"\"\n",
        "\n",
        "  # your code start from here for step 4\n",
        "  optimizer = tf.keras.optimizers.Adam(learning_rate=0.001)\n",
        "\n",
        "  for epoch in range(1, NUM_EPOCHS + 1):\n",
        "    # Run training.\n",
        "    print('Epoch {}: '.format(epoch), end='')\n",
        "    for images, labels in mnist_train:\n",
        "      with tf.GradientTape() as tape:\n",
        "         # your code start from here for step 4\n",
        "\n",
        "        loss_value = compute_loss_fn(images,labels, ALPHA, DISTILLATION_TEMPERATURE)\n",
        "\n",
        "      grads = tape.gradient(loss_value, model.trainable_variables)\n",
        "      optimizer.apply_gradients(zip(grads, model.trainable_variables))\n",
        "\n",
        "    # Run evaluation.\n",
        "    num_correct = 0\n",
        "    num_total = builder.info.splits['test'].num_examples\n",
        "    for images, labels in mnist_test:\n",
        "      # your code start from here for step 4\n",
        "      num_correct += compute_num_correct(model,images,labels)[0] \n",
        "    print(\"Class_accuracy: \" + '{:.2f}%'.format(\n",
        "        num_correct / num_total * 100))"
      ],
      "metadata": {
        "id": "5outdUFErm0u"
      },
      "execution_count": null,
      "outputs": []
    },
    {
      "cell_type": "markdown",
      "source": [
        "# Training models"
      ],
      "metadata": {
        "id": "NQL1lJdaRPT1"
      }
    },
    {
      "cell_type": "code",
      "source": [
        "# your code start from here for step 5 \n",
        "#teacher training\n",
        "train_and_evaluate(cnn_model,compute_teacher_loss)\n"
      ],
      "metadata": {
        "id": "-AGHbyABRPz3",
        "colab": {
          "base_uri": "https://localhost:8080/"
        },
        "outputId": "5a962aa8-4b96-444c-f9bc-f1dcd2bd5da5"
      },
      "execution_count": null,
      "outputs": [
        {
          "output_type": "stream",
          "name": "stdout",
          "text": [
            "Epoch 1: Class_accuracy: 97.81%\n",
            "Epoch 2: Class_accuracy: 98.57%\n",
            "Epoch 3: Class_accuracy: 98.92%\n",
            "Epoch 4: Class_accuracy: 98.86%\n",
            "Epoch 5: Class_accuracy: 98.92%\n",
            "Epoch 6: Class_accuracy: 99.09%\n",
            "Epoch 7: Class_accuracy: 99.17%\n",
            "Epoch 8: Class_accuracy: 99.10%\n",
            "Epoch 9: Class_accuracy: 99.09%\n",
            "Epoch 10: Class_accuracy: 99.17%\n",
            "Epoch 11: Class_accuracy: 99.26%\n",
            "Epoch 12: Class_accuracy: 99.15%\n"
          ]
        }
      ]
    },
    {
      "cell_type": "code",
      "source": [
        "#use this to reinitilize the student model for training\n",
        "fc_model = tf.keras.Sequential([Flatten(),\n",
        "                                Dense(units=784, activation='relu'),\n",
        "                                Dense(units=784, activation='relu'),\n",
        "                                Dense(units=10, activation='linear')])"
      ],
      "metadata": {
        "id": "kSblD9gs9Sft"
      },
      "execution_count": null,
      "outputs": []
    },
    {
      "cell_type": "code",
      "source": [
        "ALPHA = 0.8 # task balance between cross-entropy and distillation loss\n",
        "DISTILLATION_TEMPERATURE = 8. #temperature hyperparameter\n",
        "train_and_evaluate_student(fc_model,compute_student_loss,ALPHA, DISTILLATION_TEMPERATURE)"
      ],
      "metadata": {
        "id": "8UkevHrjeKV6",
        "colab": {
          "base_uri": "https://localhost:8080/"
        },
        "outputId": "fdc05458-1ecf-4dd6-8504-839c1e9c47ff"
      },
      "execution_count": null,
      "outputs": [
        {
          "output_type": "stream",
          "name": "stdout",
          "text": [
            "Epoch 1: Class_accuracy: 96.66%\n",
            "Epoch 2: Class_accuracy: 97.76%\n",
            "Epoch 3: Class_accuracy: 98.02%\n",
            "Epoch 4: Class_accuracy: 98.35%\n",
            "Epoch 5: Class_accuracy: 98.40%\n",
            "Epoch 6: Class_accuracy: 98.44%\n",
            "Epoch 7: Class_accuracy: 98.55%\n",
            "Epoch 8: Class_accuracy: 98.59%\n",
            "Epoch 9: Class_accuracy: 98.57%\n",
            "Epoch 10: Class_accuracy: 98.63%\n",
            "Epoch 11: Class_accuracy: 98.71%\n",
            "Epoch 12: Class_accuracy: 98.78%\n"
          ]
        }
      ]
    },
    {
      "cell_type": "code",
      "source": [
        "#reinitilize the student model\n",
        "# you will have to re run the student and ditilation loss functions with the new alpha and temp. \n",
        "ALPHA = 0.5 # task balance between cross-entropy and distillation loss\n",
        "DISTILLATION_TEMPERATURE = 8. #temperature hyperparameter\n",
        "train_and_evaluate_student(fc_model,compute_student_loss,ALPHA, DISTILLATION_TEMPERATURE)"
      ],
      "metadata": {
        "id": "KItw4r8h9abk",
        "colab": {
          "base_uri": "https://localhost:8080/"
        },
        "outputId": "ad81a43c-874b-41af-b836-f504ce3d093d"
      },
      "execution_count": null,
      "outputs": [
        {
          "output_type": "stream",
          "name": "stdout",
          "text": [
            "Epoch 1: Class_accuracy: 98.82%\n",
            "Epoch 2: Class_accuracy: 98.76%\n",
            "Epoch 3: Class_accuracy: 98.84%\n",
            "Epoch 4: Class_accuracy: 98.82%\n",
            "Epoch 5: Class_accuracy: 98.85%\n",
            "Epoch 6: Class_accuracy: 98.78%\n",
            "Epoch 7: Class_accuracy: 98.87%\n",
            "Epoch 8: Class_accuracy: 98.77%\n",
            "Epoch 9: Class_accuracy: 98.81%\n",
            "Epoch 10: Class_accuracy: 98.78%\n",
            "Epoch 11: Class_accuracy: 98.84%\n",
            "Epoch 12: Class_accuracy: 98.89%\n"
          ]
        }
      ]
    },
    {
      "cell_type": "code",
      "source": [
        "#reinitilize the student model\n",
        "# you will have to re run the student and ditilation loss functions with the new alpha and temp. \n",
        "ALPHA = 0.9 # task balance between cross-entropy and distillation loss\n",
        "DISTILLATION_TEMPERATURE = 8. #temperature hyperparameter\n",
        "train_and_evaluate_student(fc_model,compute_student_loss,ALPHA, DISTILLATION_TEMPERATURE)"
      ],
      "metadata": {
        "id": "4gW3Gh6BBoYQ"
      },
      "execution_count": null,
      "outputs": []
    },
    {
      "cell_type": "markdown",
      "source": [
        "Proceeding further we use the model trained with the hyperparameters- ALPHA= 0.8 and DISTILLATION_TEMPERATURE=8\n"
      ],
      "metadata": {
        "id": "ovfPjR6eYgHd"
      }
    },
    {
      "cell_type": "markdown",
      "source": [
        "# Test accuracy vs. temperature curve"
      ],
      "metadata": {
        "id": "sj1N38fnRTNB"
      }
    },
    {
      "cell_type": "code",
      "source": [
        "# your code start from here for step 6\n",
        "temps=[1,2,4,16,32,64]\n",
        "ALPHA=0.5\n",
        "accuracy=[]\n",
        "for i in range(6):\n",
        "  fc_model = tf.keras.Sequential([Flatten(),\n",
        "                                Dense(units=784, activation='relu'),\n",
        "                                Dense(units=784, activation='relu'),\n",
        "                                Dense(units=10, activation='linear')])\n",
        "  DISTILLATION_TEMPERATURE=temps[i]\n",
        "  train_and_evaluate_student(fc_model,compute_student_loss,ALPHA, DISTILLATION_TEMPERATURE)\n",
        "  num_correct = 0\n",
        "  num_total = builder.info.splits['test'].num_examples\n",
        "  print('Case 1:')\n",
        "  for images, labels in mnist_test:\n",
        "      # your code start from here for step 4\n",
        "      num_correct += compute_num_correct(fc_model,images,labels)[0] \n",
        "  print(\"Class_accuracy: \" + '{:.2f}%'.format(\n",
        "        num_correct / num_total * 100))\n",
        "  accuracy.append(num_correct / num_total * 100)"
      ],
      "metadata": {
        "id": "gX4dbazrRWIz"
      },
      "execution_count": null,
      "outputs": []
    },
    {
      "cell_type": "code",
      "source": [
        "#ploting Test accuracy vs. tempreture curve\n",
        "plt.plot(temps, accuracy)\n",
        "plt.title('Test accuracy vs. tempreture curve')\n",
        "plt.xlabel('Temperture')\n",
        "plt.ylabel('Accuracy')\n",
        "plt.show()"
      ],
      "metadata": {
        "id": "ipCdhn35w4m7"
      },
      "execution_count": null,
      "outputs": []
    },
    {
      "cell_type": "markdown",
      "source": [
        "# Train student from scratch"
      ],
      "metadata": {
        "id": "WNrH_1emRbGA"
      }
    },
    {
      "cell_type": "code",
      "source": [
        "# Build fully connected student.\n",
        "fc_model_no_distillation = tf.keras.Sequential([Flatten(),\n",
        "                                Dense(units=784, activation='relu'),\n",
        "                                Dense(units=784, activation='relu'),\n",
        "                                Dense(units=10, activation='linear')])\n",
        "\n",
        "# your code start from here for step 7\n",
        "\n",
        "\n",
        "\n",
        "#@test {\"output\": \"ignore\"}\n",
        "\n",
        "def compute_plain_cross_entropy_loss(images, labels):\n",
        "  \"\"\"Compute plain loss for given images and labels.\n",
        "\n",
        "  For fair comparison and convenience, this function also performs a\n",
        "  LogSumExp over subclasses, but does not perform subclass distillation.\n",
        "\n",
        "  Args:\n",
        "    images: Tensor representing a batch of images.\n",
        "    labels: Tensor representing a batch of labels.\n",
        "\n",
        "  Returns:\n",
        "    Scalar loss Tensor.\n",
        "  \"\"\"\n",
        "  # your code start from here for step 7\n",
        "\n",
        "  student_subclass_logits = fc_model_no_distillation(images, training=True)\n",
        "  #print(student_subclass_logits[0])\n",
        "  #print(labels[0])\n",
        "  loss=tf.keras.losses.CategoricalCrossentropy(axis=-1,name='categorical_crossentropy')\n",
        "  cross_entropy_loss = loss(labels,tf.nn.softmax(student_subclass_logits, axis=-1))\n",
        "  #print(cross_entropy_loss)\n",
        "  return cross_entropy_loss\n",
        "\n",
        "\n",
        "train_and_evaluate(fc_model_no_distillation, compute_plain_cross_entropy_loss)"
      ],
      "metadata": {
        "id": "HjospsxIRbQ6",
        "colab": {
          "base_uri": "https://localhost:8080/"
        },
        "outputId": "c99deef0-6bfc-4296-ff85-794771b0bc2f"
      },
      "execution_count": null,
      "outputs": [
        {
          "output_type": "stream",
          "name": "stdout",
          "text": [
            "Epoch 1: Class_accuracy: 96.44%\n",
            "Epoch 2: Class_accuracy: 97.50%\n",
            "Epoch 3: Class_accuracy: 98.06%\n",
            "Epoch 4: Class_accuracy: 98.14%\n",
            "Epoch 5: Class_accuracy: 98.19%\n",
            "Epoch 6: Class_accuracy: 97.89%\n",
            "Epoch 7: Class_accuracy: 97.65%\n",
            "Epoch 8: Class_accuracy: 97.90%\n",
            "Epoch 9: Class_accuracy: 98.20%\n",
            "Epoch 10: Class_accuracy: 98.09%\n",
            "Epoch 11: Class_accuracy: 97.87%\n",
            "Epoch 12: Class_accuracy: 98.19%\n"
          ]
        }
      ]
    },
    {
      "cell_type": "markdown",
      "source": [
        "# Comparing the teacher and student model (number of of parameters and FLOPs) "
      ],
      "metadata": {
        "id": "yq3JTpQ4RuhR"
      }
    },
    {
      "cell_type": "code",
      "source": [
        "import tensorflow as tf\n",
        "from tensorflow.python.profiler.model_analyzer import profile\n",
        "from tensorflow.python.profiler.option_builder import ProfileOptionBuilder\n",
        "import numpy as np\n",
        "\n",
        "def get_flops(model):\n",
        " \n",
        "  forward_pass = tf.function(model.call,input_signature=[tf.TensorSpec(shape=(1,) + model.input_shape[1:])])\n",
        "  graph_info = profile(forward_pass.get_concrete_function().graph,\n",
        "                          options=ProfileOptionBuilder.float_operation())\n",
        "\n",
        "  # The //2 is important since `profile` counts multiply and accumulate as two flops\n",
        "  # We have calculated the total number of multiply accumulate ops\n",
        "  flops = graph_info.total_float_ops // 2\n",
        "  # Calculate no. of model parameters including trainable and non-trainable parameters\n",
        "  trainableParams = np.sum([np.prod(v.get_shape()) for v in model.trainable_weights])\n",
        "  nonTrainableParams = np.sum([np.prod(v.get_shape()) for v in model.non_trainable_weights])\n",
        "  totalParams = trainableParams + nonTrainableParams\n",
        "\n",
        "  return flops,trainableParams,nonTrainableParams,totalParams"
      ],
      "metadata": {
        "id": "4V8GB2yRRuxF"
      },
      "execution_count": null,
      "outputs": []
    },
    {
      "cell_type": "code",
      "source": [
        "#Calculating FLOPs and no. of parameters for the teacher model\n",
        "\n",
        "flops_teacher,teacher_trainableParams,teacher_nonTrainableParams,teacher_totalParams = get_flops(cnn_model)\n",
        "print('Flops for teacher model: {:,}'.format(flops_teacher))\n",
        "print('Total Parameters for teacher model: {:,}'.format(teacher_totalParams))"
      ],
      "metadata": {
        "colab": {
          "base_uri": "https://localhost:8080/"
        },
        "id": "T3u6HhC6kxS3",
        "outputId": "bb58d15c-2237-40e4-a62a-086819b20950"
      },
      "execution_count": null,
      "outputs": [
        {
          "output_type": "stream",
          "name": "stdout",
          "text": [
            "Flops for teacher model: 15,152,677\n",
            "Total Parameters for teacher model: 1,404,682.0\n"
          ]
        }
      ]
    },
    {
      "cell_type": "code",
      "source": [
        "#Calculating FLOPs and no. of parameters for the student model \n",
        "\n",
        "flops_student,student_trainableParams,student_nonTrainableParams,student_totalParams = get_flops(fc_model)\n",
        "print('Flops for student model: {:,}'.format(flops_student))\n",
        "print('Total Parameters for student model: {:,}'.format(student_totalParams))"
      ],
      "metadata": {
        "colab": {
          "base_uri": "https://localhost:8080/"
        },
        "id": "6gsTKCuAIZ2t",
        "outputId": "294253c4-130b-44ce-f478-13b301869f30"
      },
      "execution_count": null,
      "outputs": [
        {
          "output_type": "stream",
          "name": "stdout",
          "text": [
            "Flops for teacher model: 1,237,941\n",
            "Total Parameters for student model: 1,238,730.0\n"
          ]
        }
      ]
    },
    {
      "cell_type": "markdown",
      "source": [
        "# XAI method to explain models"
      ],
      "metadata": {
        "id": "8b5yNhJfRu-7"
      }
    },
    {
      "cell_type": "markdown",
      "source": [
        "## Saliency Map using Vanilla Gradients Explanations"
      ],
      "metadata": {
        "id": "ZdKPM7uu-cFW"
      }
    },
    {
      "cell_type": "code",
      "source": [
        "class SaliencyMap():\n",
        "    def __init__(self, model):\n",
        "        \"\"\"Constructs a Vanilla Gradient Map by computing dy/dx.\n",
        "\n",
        "        Args:\n",
        "            model: The TensorFlow model used to evaluate Gradient Map.\n",
        "                model takes image as input and outputs probabilities vector.\n",
        "        \"\"\"\n",
        "        self.model = model\n",
        "\n",
        "\n",
        "    def get_top_predicted_idx(self, image):\n",
        "        \"\"\"Outputs top predicted class for the input image.\n",
        "\n",
        "        Args:\n",
        "            img_processed: numpy image array in NHWC format, pre-processed according\n",
        "                to the defined model standard.\n",
        "\n",
        "        Returns:\n",
        "            Index of the top predicted class for the input image.\n",
        "        \"\"\"\n",
        "        preds = self.model.predict(image)\n",
        "        top_pred_idx = tf.argmax(preds[0])\n",
        "        return top_pred_idx\n",
        "\n",
        "\n",
        "    def get_gradients(self, image):\n",
        "        \"\"\"Computes the gradients of outputs w.r.t input image.\n",
        "\n",
        "        Args:\n",
        "            image: numpy image array in NHWC format, pre-processed according\n",
        "                to the defined model standard.\n",
        "\n",
        "        Returns:\n",
        "            Gradients of the predictions w.r.t image (same shape as input image)\n",
        "        \"\"\"\n",
        "        image = tf.convert_to_tensor(image)\n",
        "        top_pred_idx = self.get_top_predicted_idx(image)\n",
        "\n",
        "        with tf.GradientTape() as tape:\n",
        "            tape.watch(image)\n",
        "            preds = self.model(image)\n",
        "            top_class = preds[:, top_pred_idx]\n",
        "\n",
        "        grads = tape.gradient(top_class, image)\n",
        "        return grads\n",
        "\n",
        "\n",
        "    def norm_grad(self, grad_x):\n",
        "        \"\"\"Normalizes gradient to the range between 0 and 1\n",
        "        (for visualization purposes).\n",
        "\n",
        "        Args:\n",
        "            grad_x: numpy gradients array.\n",
        "\n",
        "        Returns:\n",
        "            Gradients of the predictions w.r.t image (same shape as input image)\n",
        "        \"\"\"\n",
        "        abs_grads = np.abs(grad_x)\n",
        "        grad_max_ = np.max(abs_grads, axis=3)[0]\n",
        "        arr_min, arr_max  = np.min(grad_max_), np.max(grad_max_)\n",
        "        normalized_grad = (grad_max_ - arr_min) / (arr_max - arr_min + 1e-18)\n",
        "        normalized_grad = normalized_grad.reshape(1,grad_x.shape[1],grad_x.shape[2],1)\n",
        "\n",
        "        return normalized_grad"
      ],
      "metadata": {
        "id": "BpL2z69CBNmS"
      },
      "execution_count": null,
      "outputs": []
    },
    {
      "cell_type": "code",
      "source": [
        "#Obtaining sample image\n",
        "sample_test = np.expand_dims(images[0].numpy(),axis=0)\n",
        "\n",
        "#Generating Saliency Map Explanation for Teacher Model \n",
        "S=SaliencyMap(cnn_model)\n",
        "norm_gradient_squeezed_final_teacher = np.squeeze(np.squeeze(S.norm_grad(S.get_gradients(sample_test)),axis=3),axis=0)\n",
        "\n",
        "\n",
        "#Generating Saliency Map Explanation for Student Model with KD\n",
        "S=SaliencyMap(fc_model)\n",
        "norm_gradient_squeezed_final_student_with_KD = np.squeeze(np.squeeze(S.norm_grad(S.get_gradients(sample_test)),axis=3),axis=0)\n",
        "\n",
        "\n",
        "#Generating Saliency Map Explanation for Student Model without KD\n",
        "S=SaliencyMap(fc_model_no_distillation)\n",
        "norm_gradient_squeezed_final_student_without_KD = np.squeeze(np.squeeze(S.norm_grad(S.get_gradients(sample_test)),axis=3),axis=0)"
      ],
      "metadata": {
        "colab": {
          "base_uri": "https://localhost:8080/"
        },
        "id": "ktyL0FegGrMq",
        "outputId": "f47a7132-fd6c-4a92-df31-1625f016855a"
      },
      "execution_count": null,
      "outputs": [
        {
          "output_type": "stream",
          "name": "stdout",
          "text": [
            "(28, 28)\n"
          ]
        }
      ]
    },
    {
      "cell_type": "code",
      "source": [
        "plt.figure(figsize=(20, 5))\n",
        "\n",
        "plt.subplot(141)\n",
        "plt.title('Input Image')\n",
        "plt.imshow(images[0,:,:,0])\n",
        "\n",
        "plt.subplot(142)\n",
        "plt.imshow(norm_gradient_squeezed_final_teacher)\n",
        "plt.title('Explanation Map for Teacher Model')\n",
        "\n",
        "plt.subplot(143)\n",
        "plt.imshow(norm_gradient_squeezed_final_student_with_KD)\n",
        "plt.title('Explanation Map for Student with KD Model')\n",
        "\n",
        "plt.subplot(144)\n",
        "plt.imshow(norm_gradient_squeezed_final_student_without_KD)\n",
        "plt.title('Explanation Map for Student without KD Model')\n",
        "\n",
        "plt.show()"
      ],
      "metadata": {
        "colab": {
          "base_uri": "https://localhost:8080/",
          "height": 307
        },
        "id": "YVef3WhUFMbi",
        "outputId": "5ec08990-7b2f-4fe9-8651-56a5f9453742"
      },
      "execution_count": null,
      "outputs": [
        {
          "output_type": "display_data",
          "data": {
            "text/plain": [
              "<Figure size 1440x360 with 4 Axes>"
            ],
            "image/png": "[encoded data removed]"
          },
          "metadata": {
            "needs_background": "light"
          }
        }
      ]
    },
    {
      "cell_type": "markdown",
      "source": [
        "# Implementing the state-of-the-art KD algorithm using fitnets"
      ],
      "metadata": {
        "id": "X2qI3Iej5-j6"
      }
    },
    {
      "cell_type": "code",
      "source": [
        "#Model Creation for student baby till the guided layer\n",
        "student_baby = tf.keras.Sequential([Flatten(),\n",
        "                                Dense(units=784, activation='relu'),\n",
        "                                Dense(units=784, activation='relu'),\n",
        "                                Dense(units=128, activation='relu')])\n",
        "#Model Creation for student test incorporating student baby and the rest of the layers\n",
        "student_test =  tf.keras.Sequential([student_baby,Dense(units=10, activation='linear')])\n",
        "\n",
        "#Model Creation for teacher baby till the hint layer\n",
        "teacher_baby = tf.keras.Sequential([Conv2D(filters=32, \n",
        "                           kernel_size=(3,3), \n",
        "                           strides=1, \n",
        "                           padding='same',\n",
        "                           activation='relu',\n",
        "                           input_shape=(28,28,1)),\n",
        "\n",
        "                    MaxPool2D(pool_size=(2, 2), strides=1),\n",
        "\n",
        "                    Conv2D(filters=64, \n",
        "                           kernel_size=(3,3), \n",
        "                           strides=1, \n",
        "                           padding='same',\n",
        "                           activation='relu'),\n",
        "\n",
        "                   MaxPool2D(pool_size=(2, 2), strides=2),\n",
        "                   Flatten(),\n",
        "                   Dropout(rate=0.5),\n",
        "                   Dense(units=128, activation='relu')])\n",
        "\n",
        "\n",
        "#Model Creation for teacher test incorporating student baby and the rest of the layers\n",
        "teacher_test =   tf.keras.Sequential([ teacher_baby,\n",
        "                                     Dropout(rate=0.5),\n",
        "                                     Dense(units=10, activation='linear')])\n",
        "                                                                 "
      ],
      "metadata": {
        "id": "68xyPUdQ6CAX"
      },
      "execution_count": null,
      "outputs": []
    },
    {
      "cell_type": "code",
      "source": [
        "def compute_teacher_loss_Fitnets(images, labels):\n",
        "  \"\"\"Compute subclass knowledge distillation teacher baby loss for given images\n",
        "     and labels.\n",
        "  Args:\n",
        "    images: Tensor representing a batch of images.\n",
        "    labels: Tensor representing a batch of labels.\n",
        "\n",
        "  Returns:\n",
        "    Scalar loss Tensor.\n",
        "  \"\"\"\n",
        "  subclass_logits = teacher_test(images, training=True)\n",
        "\n",
        "  # Compute cross-entropy loss for subclasses.\n",
        "\n",
        "  loss=tf.keras.losses.CategoricalCrossentropy(axis=-1,name='categorical_crossentropy')\n",
        "  cross_entropy_loss_value = loss(labels,tf.nn.softmax(subclass_logits, axis=-1))\n",
        "  return cross_entropy_loss_value"
      ],
      "metadata": {
        "id": "yYJ4KxKbCMeC"
      },
      "execution_count": null,
      "outputs": []
    },
    {
      "cell_type": "code",
      "source": [
        "#Calculating teacher loss with the Fitnet teacher setup\n",
        "train_and_evaluate(teacher_test,compute_teacher_loss_Fitnets)"
      ],
      "metadata": {
        "colab": {
          "base_uri": "https://localhost:8080/"
        },
        "id": "cV0y_1J7ASU7",
        "outputId": "728bd4e3-4d39-4a3a-c373-f2f6a8644b42"
      },
      "execution_count": null,
      "outputs": [
        {
          "output_type": "stream",
          "name": "stdout",
          "text": [
            "Epoch 1: Class_accuracy: 97.96%\n",
            "Epoch 2: Class_accuracy: 98.30%\n",
            "Epoch 3: Class_accuracy: 98.69%\n",
            "Epoch 4: Class_accuracy: 98.93%\n",
            "Epoch 5: Class_accuracy: 99.22%\n",
            "Epoch 6: Class_accuracy: 99.08%\n",
            "Epoch 7: Class_accuracy: 99.18%\n",
            "Epoch 8: Class_accuracy: 99.10%\n",
            "Epoch 9: Class_accuracy: 99.14%\n",
            "Epoch 10: Class_accuracy: 99.06%\n",
            "Epoch 11: Class_accuracy: 99.15%\n",
            "Epoch 12: Class_accuracy: 99.25%\n"
          ]
        }
      ]
    },
    {
      "cell_type": "code",
      "source": [
        "student_test.build(input_shape=(None,28,28,1))\n",
        "student_test.summary()"
      ],
      "metadata": {
        "colab": {
          "base_uri": "https://localhost:8080/"
        },
        "id": "0tUzTpF6_fW4",
        "outputId": "a0ff4e7d-ca25-4df1-abdc-e7d9d2f67373"
      },
      "execution_count": null,
      "outputs": [
        {
          "output_type": "stream",
          "name": "stdout",
          "text": [
            "Model: \"sequential_4\"\n",
            "_________________________________________________________________\n",
            " Layer (type)                Output Shape              Param #   \n",
            "=================================================================\n",
            " sequential_3 (Sequential)   (None, 128)               1331360   \n",
            "                                                                 \n",
            " dense_11 (Dense)            (None, 10)                1290      \n",
            "                                                                 \n",
            "=================================================================\n",
            "Total params: 1,332,650\n",
            "Trainable params: 1,332,650\n",
            "Non-trainable params: 0\n",
            "_________________________________________________________________\n"
          ]
        }
      ]
    },
    {
      "cell_type": "code",
      "source": [
        "#Calculate the student L2 norm loss\n",
        "def compute_student_loss_new(teacher_baby, student_baby, inp_imag):\n",
        "  \"\"\"\n",
        "  Compute L2 norm of the outputs of these hint and guided layers \n",
        "  Args:\n",
        "    images: Tensor representing a batch of images.\n",
        "    teacher_baby: The TensorFlow teacher model with final layer as hint layer \n",
        "    student_baby: The TensorFlow student model with final layer as guided layer\n",
        "    \n",
        "  Returns:\n",
        "    Scalar loss Tensor.\n",
        "  \"\"\"\n",
        "    prediction_student_baby = student_baby(inp_imag)\n",
        "    prediction_teacher_baby = teacher_baby(inp_imag)\n",
        "    loss = tf.math.sqrt(tf.math.reduce_sum(tf.math.pow((prediction_teacher_baby-prediction_student_baby),2)))\n",
        "    #print('loss: ',loss)\n",
        "    return loss "
      ],
      "metadata": {
        "id": "1teylmyB88Pr"
      },
      "execution_count": null,
      "outputs": []
    },
    {
      "cell_type": "code",
      "source": [
        "def compute_student_loss(images, labels,teacher_baby, student_baby, ALPHA=0.9):\n",
        "  \"\"\"\n",
        "  Compute subclass knowledge distillation student test loss using fitnets method for the given images\n",
        "     and labels. Fitnets loss is calculated as the weighted sum of the L2 norm of the outputs of these hint \n",
        "     and guided layers along with the hard labels’ cross entropy loss for the student. \n",
        "\n",
        "  Args:\n",
        "    images: Tensor representing a batch of images.\n",
        "    labels: Tensor representing a batch of labels.\n",
        "    teacher_baby: The TensorFlow teacher model with final layer as hint layer \n",
        "    student_baby: The TensorFlow student model with final layer as guided layer\n",
        "    ALPHA: weight parameter to balance the contribution of two losses\n",
        "  Returns:\n",
        "    Scalar loss Tensor.\n",
        "  \"\"\"\n",
        "  student_subclass_logits = student_test(images, training=True)\n",
        "\n",
        "  # Compute subclass distillation loss between student subclass logits and\n",
        "  # softened teacher subclass targets probabilities.\n",
        "\n",
        "  teacher_subclass_logits = teacher_test(images, training=False)\n",
        "  distillation_loss_value = compute_student_loss_new(teacher_baby, student_baby, images)\n",
        "\n",
        "  # Compute cross-entropy loss with hard targets.\n",
        "  \n",
        "  loss=tf.keras.losses.CategoricalCrossentropy(axis=-1,name='categorical_crossentropy')\n",
        "  cross_entropy_loss_value = loss(labels,tf.nn.softmax(student_subclass_logits, axis=-1))\n",
        "  return (ALPHA*  distillation_loss_value + (1-ALPHA)* cross_entropy_loss_value) "
      ],
      "metadata": {
        "id": "vWLms8qHEDF3"
      },
      "execution_count": null,
      "outputs": []
    },
    {
      "cell_type": "code",
      "source": [
        "def train_and_evaluate_new(teacher,student,teacher_baby,student_baby,compute_loss_fn):\n",
        "  \"\"\"\n",
        "  Compute subclass knowledge distillation student test loss using fitnets method for the given images\n",
        "     and labels. Fitnets loss is calculated as the weighted sum of the L2 norm of the outputs of these hint \n",
        "     and guided layers along with the hard labels’ cross entropy loss for the student. \n",
        "\n",
        "  Args:\n",
        "\n",
        "    teacher_baby: The TensorFlow teacher model with final layer as hint layer \n",
        "    student_baby: The TensorFlow student model with final layer as guided layer\n",
        "    student: The Tensorflow student model consisting of baby student followed by the classification layer \n",
        "    teacher: The TensorFlow teacher model consisting of baby teacher followed by the dropout and the classification layer\n",
        "    compute_loss_fn: loss function for fitnets\n",
        "  Returns:\n",
        "    Prints the Epoch wise model accuracy.\n",
        "  \"\"\"\n",
        "  optimizer = tf.keras.optimizers.Adam(learning_rate=0.001)\n",
        "\n",
        "  for epoch in range(1, NUM_EPOCHS + 1):\n",
        "    # Run training.\n",
        "    print('Epoch {}: '.format(epoch), end='')\n",
        "    for images, labels in mnist_train:\n",
        "      with tf.GradientTape() as tape:\n",
        "        loss_value = compute_student_loss(images, labels,teacher_baby, student_baby, ALPHA=0.8)\n",
        "      grads = tape.gradient(loss_value, student.trainable_variables)\n",
        "      optimizer.apply_gradients(zip(grads, student.trainable_variables))\n",
        "    \n",
        "    # Run evaluation.\n",
        "    num_correct = 0\n",
        "    num_total = builder.info.splits['test'].num_examples\n",
        "    for images, labels in mnist_test:\n",
        "      num_correct += compute_num_correct(student,images,labels)[0] \n",
        "    print(\"Class_accuracy: \" + '{:.2f}%'.format(\n",
        "        num_correct / num_total * 100))"
      ],
      "metadata": {
        "id": "SA_TBlkf9HnL"
      },
      "execution_count": null,
      "outputs": []
    },
    {
      "cell_type": "code",
      "source": [
        "#Calculating student loss with the Fitnets setup\n",
        "train_and_evaluate_new(teacher_test,student_test,teacher_baby,student_baby, compute_student_loss)"
      ],
      "metadata": {
        "colab": {
          "base_uri": "https://localhost:8080/"
        },
        "id": "FDUtDCl49UY-",
        "outputId": "c36d6b78-ded5-4f4b-c244-1481107e6592"
      },
      "execution_count": null,
      "outputs": [
        {
          "output_type": "stream",
          "name": "stdout",
          "text": [
            "Epoch 1: Class_accuracy: 96.09%\n",
            "Epoch 2: Class_accuracy: 97.51%\n",
            "Epoch 3: Class_accuracy: 98.04%\n",
            "Epoch 4: Class_accuracy: 98.32%\n",
            "Epoch 5: Class_accuracy: 98.42%\n",
            "Epoch 6: Class_accuracy: 98.50%\n",
            "Epoch 7: Class_accuracy: 98.70%\n",
            "Epoch 8: Class_accuracy: 98.81%\n",
            "Epoch 9: Class_accuracy: 98.76%\n",
            "Epoch 10: Class_accuracy: 98.80%\n",
            "Epoch 11: Class_accuracy: 98.83%\n",
            "Epoch 12: Class_accuracy: 98.89%\n"
          ]
        }
      ]
    }
  ]
}