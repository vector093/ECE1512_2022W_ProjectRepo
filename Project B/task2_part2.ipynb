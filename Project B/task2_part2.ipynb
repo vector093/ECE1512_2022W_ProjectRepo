{
  "cells": [
    {
      "cell_type": "code",
      "execution_count": null,
      "metadata": {
        "id": "3E_uB2ArSwBY"
      },
      "outputs": [],
      "source": [
        "import tensorflow.compat.v2 as tf #\n",
        "from typing import Union\n",
        "from tensorflow.keras.layers import * \n",
        "from keras.preprocessing.image import ImageDataGenerator\n",
        "from keras.utils.np_utils import to_categorical\n",
        "import keras\n",
        "import numpy\n",
        "import pandas as pd\n",
        "import numpy as np\n",
        "import matplotlib.pyplot as plt\n",
        "\n",
        "\n",
        "tf.enable_v2_behavior()"
      ]
    },
    {
      "cell_type": "code",
      "execution_count": null,
      "metadata": {
        "id": "CTmY6TPBS61j",
        "colab": {
          "base_uri": "https://localhost:8080/"
        },
        "outputId": "b601a913-0f7b-4b87-ed2b-65ab940e622d"
      },
      "outputs": [
        {
          "output_type": "stream",
          "name": "stdout",
          "text": [
            "Mounted at /content/drive\n"
          ]
        }
      ],
      "source": [
        "from google.colab import drive\n",
        "drive.mount('/content/drive')"
      ]
    },
    {
      "cell_type": "code",
      "execution_count": null,
      "metadata": {
        "id": "xaePJB_BS8Tb"
      },
      "outputs": [],
      "source": [
        "import os\n",
        "os.chdir(r'/content/drive/My Drive/mhist_dataset')  # Change the directory to the project folder in your drive"
      ]
    },
    {
      "cell_type": "markdown",
      "metadata": {
        "id": "1olnIkbYTOKL"
      },
      "source": [
        "#Import dataset\n"
      ]
    },
    {
      "cell_type": "code",
      "execution_count": null,
      "metadata": {
        "id": "DPN8Jz2-Uy71"
      },
      "outputs": [],
      "source": [
        "image_table=pd.read_csv('annotations.csv') #make sure this is pointing to the csv location"
      ]
    },
    {
      "cell_type": "code",
      "execution_count": null,
      "metadata": {
        "id": "pirvU9F7VS8r",
        "colab": {
          "base_uri": "https://localhost:8080/"
        },
        "outputId": "890ec50b-c183-4876-eb58-b849816d9f80"
      },
      "outputs": [
        {
          "output_type": "stream",
          "name": "stdout",
          "text": [
            "(2175, 4)\n"
          ]
        }
      ],
      "source": [
        "train_set=image_table.loc[image_table['Partition'] == 'train']\n",
        "print(train_set.shape)"
      ]
    },
    {
      "cell_type": "code",
      "execution_count": null,
      "metadata": {
        "id": "I2mCJFLpV255",
        "colab": {
          "base_uri": "https://localhost:8080/"
        },
        "outputId": "3681caa3-c06b-4c7d-d03e-1fde95381fb4"
      },
      "outputs": [
        {
          "output_type": "stream",
          "name": "stdout",
          "text": [
            "(977, 4)\n"
          ]
        }
      ],
      "source": [
        "test_set=image_table.loc[image_table['Partition'] == 'test']\n",
        "print(test_set.shape)"
      ]
    },
    {
      "cell_type": "code",
      "execution_count": null,
      "metadata": {
        "id": "6wzn3mh0V5Ks"
      },
      "outputs": [],
      "source": [
        "image_dir = '/content/drive/My Drive/mhist_dataset/images'  #you should change to your directory "
      ]
    },
    {
      "cell_type": "code",
      "execution_count": null,
      "metadata": {
        "id": "Cu1qiZ9yV_PQ"
      },
      "outputs": [],
      "source": [
        "train_datagen = ImageDataGenerator(rescale=1/255.,\n",
        "shear_range=0.1,\n",
        "rotation_range=15,\n",
        "horizontal_flip=True,\n",
        "vertical_flip=True)\n",
        "\n",
        "test_datagen = ImageDataGenerator(rescale=1/255.)"
      ]
    },
    {
      "cell_type": "code",
      "execution_count": null,
      "metadata": {
        "colab": {
          "base_uri": "https://localhost:8080/"
        },
        "id": "oQRMDQNAWAN4",
        "outputId": "3ea1b755-c4d4-42db-d701-30f27687268b"
      },
      "outputs": [
        {
          "output_type": "stream",
          "name": "stdout",
          "text": [
            "Found 2175 validated image filenames belonging to 2 classes.\n"
          ]
        }
      ],
      "source": [
        "train_generator=train_datagen.flow_from_dataframe(\n",
        "dataframe=train_set,\n",
        "directory=image_dir,\n",
        "x_col=\"Image Name\",\n",
        "y_col=\"Majority Vote Label\",\n",
        "batch_size=32,\n",
        "seed=42,\n",
        "shuffle=True,\n",
        "interpolation='bilinear',\n",
        "class_mode=\"categorical\",\n",
        "target_size=(224, 224))"
      ]
    },
    {
      "cell_type": "code",
      "execution_count": null,
      "metadata": {
        "colab": {
          "base_uri": "https://localhost:8080/"
        },
        "id": "VRksftvSWKXj",
        "outputId": "f142ff04-951f-4857-d6cc-cc6e96c8ab1d"
      },
      "outputs": [
        {
          "output_type": "stream",
          "name": "stdout",
          "text": [
            "Found 977 validated image filenames belonging to 2 classes.\n"
          ]
        }
      ],
      "source": [
        "test_generator=test_datagen.flow_from_dataframe(\n",
        "dataframe=test_set,\n",
        "directory=image_dir,\n",
        "x_col=\"Image Name\",\n",
        "y_col=\"Majority Vote Label\",\n",
        "seed=42,\n",
        "class_mode='categorical',\n",
        "interpolation='bilinear',\n",
        "target_size=(224, 224),\n",
        "batch_size=32,\n",
        "shuffle=False)"
      ]
    },
    {
      "cell_type": "markdown",
      "metadata": {
        "id": "QJu0n1YaWOso"
      },
      "source": [
        "#Create models"
      ]
    },
    {
      "cell_type": "code",
      "execution_count": null,
      "metadata": {
        "id": "0unEE9iyWSiw"
      },
      "outputs": [],
      "source": [
        "#download resnet\n",
        "resnet=tf.keras.applications.ResNet50V2(\n",
        "    include_top=False,\n",
        "    weights=\"imagenet\",\n",
        "    input_tensor=None,\n",
        "    input_shape=(224, 224, 3),\n",
        "    pooling='avg',\n",
        ")"
      ]
    },
    {
      "cell_type": "code",
      "execution_count": null,
      "metadata": {
        "id": "Pa3I7r-8WXXP",
        "colab": {
          "base_uri": "https://localhost:8080/"
        },
        "outputId": "9bc54f98-a3f7-4857-8cb9-be5f035d7fcb"
      },
      "outputs": [
        {
          "output_type": "stream",
          "name": "stdout",
          "text": [
            "191\n"
          ]
        }
      ],
      "source": [
        "#making select layers trainable\n",
        "count=0\n",
        "for layers in resnet.layers:\n",
        "  count+=1\n",
        "  if count== 191:\n",
        "    continue\n",
        "  if(layers.name[0:5]== 'conv5' or layers.name[0:5]== 'post_'):\n",
        "    continue\n",
        "  else:\n",
        "    layers.trainable=False\n",
        "print(count)"
      ]
    },
    {
      "cell_type": "code",
      "execution_count": null,
      "metadata": {
        "id": "fKR22QXNWd8U",
        "colab": {
          "base_uri": "https://localhost:8080/"
        },
        "outputId": "f5057f00-8d9e-4109-a0a8-d2d8a32615a2"
      },
      "outputs": [
        {
          "output_type": "stream",
          "name": "stdout",
          "text": [
            "False input 1\n",
            "False conv1 2\n",
            "False conv1 3\n",
            "False pool1 4\n",
            "False pool1 5\n",
            "False conv2 6\n",
            "False conv2 7\n",
            "False conv2 8\n",
            "False conv2 9\n",
            "False conv2 10\n",
            "False conv2 11\n",
            "False conv2 12\n",
            "False conv2 13\n",
            "False conv2 14\n",
            "False conv2 15\n",
            "False conv2 16\n",
            "False conv2 17\n",
            "False conv2 18\n",
            "False conv2 19\n",
            "False conv2 20\n",
            "False conv2 21\n",
            "False conv2 22\n",
            "False conv2 23\n",
            "False conv2 24\n",
            "False conv2 25\n",
            "False conv2 26\n",
            "False conv2 27\n",
            "False conv2 28\n",
            "False conv2 29\n",
            "False conv2 30\n",
            "False conv2 31\n",
            "False conv2 32\n",
            "False conv2 33\n",
            "False conv2 34\n",
            "False conv2 35\n",
            "False conv2 36\n",
            "False conv2 37\n",
            "False max_p 38\n",
            "False conv2 39\n",
            "False conv2 40\n",
            "False conv3 41\n",
            "False conv3 42\n",
            "False conv3 43\n",
            "False conv3 44\n",
            "False conv3 45\n",
            "False conv3 46\n",
            "False conv3 47\n",
            "False conv3 48\n",
            "False conv3 49\n",
            "False conv3 50\n",
            "False conv3 51\n",
            "False conv3 52\n",
            "False conv3 53\n",
            "False conv3 54\n",
            "False conv3 55\n",
            "False conv3 56\n",
            "False conv3 57\n",
            "False conv3 58\n",
            "False conv3 59\n",
            "False conv3 60\n",
            "False conv3 61\n",
            "False conv3 62\n",
            "False conv3 63\n",
            "False conv3 64\n",
            "False conv3 65\n",
            "False conv3 66\n",
            "False conv3 67\n",
            "False conv3 68\n",
            "False conv3 69\n",
            "False conv3 70\n",
            "False conv3 71\n",
            "False conv3 72\n",
            "False conv3 73\n",
            "False conv3 74\n",
            "False conv3 75\n",
            "False conv3 76\n",
            "False conv3 77\n",
            "False conv3 78\n",
            "False conv3 79\n",
            "False conv3 80\n",
            "False conv3 81\n",
            "False conv3 82\n",
            "False conv3 83\n",
            "False max_p 84\n",
            "False conv3 85\n",
            "False conv3 86\n",
            "False conv4 87\n",
            "False conv4 88\n",
            "False conv4 89\n",
            "False conv4 90\n",
            "False conv4 91\n",
            "False conv4 92\n",
            "False conv4 93\n",
            "False conv4 94\n",
            "False conv4 95\n",
            "False conv4 96\n",
            "False conv4 97\n",
            "False conv4 98\n",
            "False conv4 99\n",
            "False conv4 100\n",
            "False conv4 101\n",
            "False conv4 102\n",
            "False conv4 103\n",
            "False conv4 104\n",
            "False conv4 105\n",
            "False conv4 106\n",
            "False conv4 107\n",
            "False conv4 108\n",
            "False conv4 109\n",
            "False conv4 110\n",
            "False conv4 111\n",
            "False conv4 112\n",
            "False conv4 113\n",
            "False conv4 114\n",
            "False conv4 115\n",
            "False conv4 116\n",
            "False conv4 117\n",
            "False conv4 118\n",
            "False conv4 119\n",
            "False conv4 120\n",
            "False conv4 121\n",
            "False conv4 122\n",
            "False conv4 123\n",
            "False conv4 124\n",
            "False conv4 125\n",
            "False conv4 126\n",
            "False conv4 127\n",
            "False conv4 128\n",
            "False conv4 129\n",
            "False conv4 130\n",
            "False conv4 131\n",
            "False conv4 132\n",
            "False conv4 133\n",
            "False conv4 134\n",
            "False conv4 135\n",
            "False conv4 136\n",
            "False conv4 137\n",
            "False conv4 138\n",
            "False conv4 139\n",
            "False conv4 140\n",
            "False conv4 141\n",
            "False conv4 142\n",
            "False conv4 143\n",
            "False conv4 144\n",
            "False conv4 145\n",
            "False conv4 146\n",
            "False conv4 147\n",
            "False conv4 148\n",
            "False conv4 149\n",
            "False conv4 150\n",
            "False conv4 151\n",
            "False max_p 152\n",
            "False conv4 153\n",
            "False conv4 154\n",
            "True conv5 155\n",
            "True conv5 156\n",
            "True conv5 157\n",
            "True conv5 158\n",
            "True conv5 159\n",
            "True conv5 160\n",
            "True conv5 161\n",
            "True conv5 162\n",
            "True conv5 163\n",
            "True conv5 164\n",
            "True conv5 165\n",
            "True conv5 166\n",
            "True conv5 167\n",
            "True conv5 168\n",
            "True conv5 169\n",
            "True conv5 170\n",
            "True conv5 171\n",
            "True conv5 172\n",
            "True conv5 173\n",
            "True conv5 174\n",
            "True conv5 175\n",
            "True conv5 176\n",
            "True conv5 177\n",
            "True conv5 178\n",
            "True conv5 179\n",
            "True conv5 180\n",
            "True conv5 181\n",
            "True conv5 182\n",
            "True conv5 183\n",
            "True conv5 184\n",
            "True conv5 185\n",
            "True conv5 186\n",
            "True conv5 187\n",
            "True conv5 188\n",
            "True post_ 189\n",
            "True post_ 190\n",
            "True avg_p 191\n"
          ]
        }
      ],
      "source": [
        "#checking the layers\n",
        "count=0\n",
        "for layers in resnet.layers:\n",
        "  count+=1\n",
        "  print(layers.trainable, layers.name[0:5], count)\n",
        "  "
      ]
    },
    {
      "cell_type": "code",
      "execution_count": null,
      "metadata": {
        "id": "5oEXB64TWhC4"
      },
      "outputs": [],
      "source": [
        "#final teacher model\n",
        "teacher_res=tf.keras.Sequential([resnet,Dense(units=2, activation='linear')])"
      ]
    },
    {
      "cell_type": "code",
      "execution_count": null,
      "metadata": {
        "id": "tjrrtSAxSIwb",
        "colab": {
          "base_uri": "https://localhost:8080/"
        },
        "outputId": "d1f4c50c-e424-4e8e-f36a-d5319f114214"
      },
      "outputs": [
        {
          "output_type": "stream",
          "name": "stdout",
          "text": [
            "Model: \"sequential_3\"\n",
            "_________________________________________________________________\n",
            " Layer (type)                Output Shape              Param #   \n",
            "=================================================================\n",
            " resnet50v2 (Functional)     (None, 2048)              23564800  \n",
            "                                                                 \n",
            " dense_3 (Dense)             (None, 2)                 4098      \n",
            "                                                                 \n",
            "=================================================================\n",
            "Total params: 23,568,898\n",
            "Trainable params: 14,974,978\n",
            "Non-trainable params: 8,593,920\n",
            "_________________________________________________________________\n"
          ]
        }
      ],
      "source": [
        "teacher_res.summary()"
      ]
    },
    {
      "cell_type": "code",
      "execution_count": null,
      "metadata": {
        "id": "XwCg9CsMWjFB"
      },
      "outputs": [],
      "source": [
        "#download mobilenet\n",
        "mobilenet=tf.keras.applications.MobileNetV2(\n",
        "    include_top=False,\n",
        "    input_shape=(224, 224, 3),\n",
        "    alpha=1.0,\n",
        "    weights=\"imagenet\",\n",
        "    input_tensor=None,\n",
        "    pooling='max',\n",
        ")"
      ]
    },
    {
      "cell_type": "code",
      "execution_count": null,
      "metadata": {
        "id": "iNIFhyXYWmsa",
        "colab": {
          "base_uri": "https://localhost:8080/"
        },
        "outputId": "cb684a7b-b2c4-4074-de6d-177d62524065"
      },
      "outputs": [
        {
          "output_type": "stream",
          "name": "stdout",
          "text": [
            "155\n"
          ]
        }
      ],
      "source": [
        "#making select layers trainable\n",
        "count=0\n",
        "for layers in mobilenet.layers:\n",
        "  count+=1\n",
        "  if count> 151:\n",
        "    continue\n",
        "  if(layers.name[0:8]== 'block_16' ):\n",
        "    continue\n",
        "  else:\n",
        "    layers.trainable=False\n",
        "print(count)"
      ]
    },
    {
      "cell_type": "code",
      "execution_count": null,
      "metadata": {
        "id": "Skx5OXukWo4Z",
        "colab": {
          "base_uri": "https://localhost:8080/"
        },
        "outputId": "da853d3f-50a0-47fe-bf45-e6ba291d28bc"
      },
      "outputs": [
        {
          "output_type": "stream",
          "name": "stdout",
          "text": [
            "False input_5 0\n",
            "False Conv1 1\n",
            "False bn_Conv1 2\n",
            "False Conv1_re 3\n",
            "False expanded 4\n",
            "False expanded 5\n",
            "False expanded 6\n",
            "False expanded 7\n",
            "False expanded 8\n",
            "False block_1_ 9\n",
            "False block_1_ 10\n",
            "False block_1_ 11\n",
            "False block_1_ 12\n",
            "False block_1_ 13\n",
            "False block_1_ 14\n",
            "False block_1_ 15\n",
            "False block_1_ 16\n",
            "False block_1_ 17\n",
            "False block_2_ 18\n",
            "False block_2_ 19\n",
            "False block_2_ 20\n",
            "False block_2_ 21\n",
            "False block_2_ 22\n",
            "False block_2_ 23\n",
            "False block_2_ 24\n",
            "False block_2_ 25\n",
            "False block_2_ 26\n",
            "False block_3_ 27\n",
            "False block_3_ 28\n",
            "False block_3_ 29\n",
            "False block_3_ 30\n",
            "False block_3_ 31\n",
            "False block_3_ 32\n",
            "False block_3_ 33\n",
            "False block_3_ 34\n",
            "False block_3_ 35\n",
            "False block_4_ 36\n",
            "False block_4_ 37\n",
            "False block_4_ 38\n",
            "False block_4_ 39\n",
            "False block_4_ 40\n",
            "False block_4_ 41\n",
            "False block_4_ 42\n",
            "False block_4_ 43\n",
            "False block_4_ 44\n",
            "False block_5_ 45\n",
            "False block_5_ 46\n",
            "False block_5_ 47\n",
            "False block_5_ 48\n",
            "False block_5_ 49\n",
            "False block_5_ 50\n",
            "False block_5_ 51\n",
            "False block_5_ 52\n",
            "False block_5_ 53\n",
            "False block_6_ 54\n",
            "False block_6_ 55\n",
            "False block_6_ 56\n",
            "False block_6_ 57\n",
            "False block_6_ 58\n",
            "False block_6_ 59\n",
            "False block_6_ 60\n",
            "False block_6_ 61\n",
            "False block_6_ 62\n",
            "False block_7_ 63\n",
            "False block_7_ 64\n",
            "False block_7_ 65\n",
            "False block_7_ 66\n",
            "False block_7_ 67\n",
            "False block_7_ 68\n",
            "False block_7_ 69\n",
            "False block_7_ 70\n",
            "False block_7_ 71\n",
            "False block_8_ 72\n",
            "False block_8_ 73\n",
            "False block_8_ 74\n",
            "False block_8_ 75\n",
            "False block_8_ 76\n",
            "False block_8_ 77\n",
            "False block_8_ 78\n",
            "False block_8_ 79\n",
            "False block_8_ 80\n",
            "False block_9_ 81\n",
            "False block_9_ 82\n",
            "False block_9_ 83\n",
            "False block_9_ 84\n",
            "False block_9_ 85\n",
            "False block_9_ 86\n",
            "False block_9_ 87\n",
            "False block_9_ 88\n",
            "False block_9_ 89\n",
            "False block_10 90\n",
            "False block_10 91\n",
            "False block_10 92\n",
            "False block_10 93\n",
            "False block_10 94\n",
            "False block_10 95\n",
            "False block_10 96\n",
            "False block_10 97\n",
            "False block_11 98\n",
            "False block_11 99\n",
            "False block_11 100\n",
            "False block_11 101\n",
            "False block_11 102\n",
            "False block_11 103\n",
            "False block_11 104\n",
            "False block_11 105\n",
            "False block_11 106\n",
            "False block_12 107\n",
            "False block_12 108\n",
            "False block_12 109\n",
            "False block_12 110\n",
            "False block_12 111\n",
            "False block_12 112\n",
            "False block_12 113\n",
            "False block_12 114\n",
            "False block_12 115\n",
            "False block_13 116\n",
            "False block_13 117\n",
            "False block_13 118\n",
            "False block_13 119\n",
            "False block_13 120\n",
            "False block_13 121\n",
            "False block_13 122\n",
            "False block_13 123\n",
            "False block_13 124\n",
            "False block_14 125\n",
            "False block_14 126\n",
            "False block_14 127\n",
            "False block_14 128\n",
            "False block_14 129\n",
            "False block_14 130\n",
            "False block_14 131\n",
            "False block_14 132\n",
            "False block_14 133\n",
            "False block_15 134\n",
            "False block_15 135\n",
            "False block_15 136\n",
            "False block_15 137\n",
            "False block_15 138\n",
            "False block_15 139\n",
            "False block_15 140\n",
            "False block_15 141\n",
            "False block_15 142\n",
            "True block_16 143\n",
            "True block_16 144\n",
            "True block_16 145\n",
            "True block_16 146\n",
            "True block_16 147\n",
            "True block_16 148\n",
            "True block_16 149\n",
            "True block_16 150\n",
            "True Conv_1 151\n",
            "True Conv_1_b 152\n",
            "True out_relu 153\n",
            "True global_m 154\n"
          ]
        }
      ],
      "source": [
        "#checking layers\n",
        "count=0\n",
        "for layers in mobilenet.layers:\n",
        "  print(layers.trainable, layers.name[0:8], count)\n",
        "  count+=1"
      ]
    },
    {
      "cell_type": "code",
      "execution_count": null,
      "metadata": {
        "id": "gpFFJPosWt0Q"
      },
      "outputs": [],
      "source": [
        "#final student model\n",
        "student_mobile=tf.keras.Sequential([mobilenet,Dense(units=2, activation='linear')])"
      ]
    },
    {
      "cell_type": "code",
      "execution_count": null,
      "metadata": {
        "id": "Yxs2mVwhVuo4"
      },
      "outputs": [],
      "source": [
        "#download mobile net again\n",
        "mobilenet2=tf.keras.applications.MobileNetV2(\n",
        "    include_top=False,\n",
        "    input_shape=(224, 224, 3),\n",
        "    alpha=1.0,\n",
        "    weights=\"imagenet\",\n",
        "    input_tensor=None,\n",
        "    pooling='max',\n",
        ")"
      ]
    },
    {
      "cell_type": "code",
      "execution_count": null,
      "metadata": {
        "id": "74X6FkSIV0Zn",
        "colab": {
          "base_uri": "https://localhost:8080/"
        },
        "outputId": "8db04a47-3c9e-4cb2-d714-97d913686640"
      },
      "outputs": [
        {
          "output_type": "stream",
          "name": "stdout",
          "text": [
            "155\n"
          ]
        }
      ],
      "source": [
        "#making salect layers trainable\n",
        "count=0\n",
        "for layers in mobilenet2.layers:\n",
        "  count+=1\n",
        "  if count> 151:\n",
        "    continue\n",
        "  if(layers.name[0:8]== 'block_16' ):\n",
        "    continue\n",
        "  else:\n",
        "    layers.trainable=False\n",
        "print(count)"
      ]
    },
    {
      "cell_type": "code",
      "execution_count": null,
      "metadata": {
        "id": "uaLRS_7gWwOR"
      },
      "outputs": [],
      "source": [
        "#final student without kd\n",
        "mobilenet_no_kd=tf.keras.Sequential([mobilenet2,Dense(units=2, activation='linear')])"
      ]
    },
    {
      "cell_type": "code",
      "execution_count": null,
      "metadata": {
        "id": "C2-2UJFlq8_H",
        "colab": {
          "base_uri": "https://localhost:8080/"
        },
        "outputId": "0f07f18a-f88b-4228-92e1-721319304291"
      },
      "outputs": [
        {
          "output_type": "stream",
          "name": "stdout",
          "text": [
            "Model: \"sequential_5\"\n",
            "_________________________________________________________________\n",
            " Layer (type)                Output Shape              Param #   \n",
            "=================================================================\n",
            " mobilenetv2_1.00_224 (Funct  (None, 1280)             2257984   \n",
            " ional)                                                          \n",
            "                                                                 \n",
            " dense_5 (Dense)             (None, 2)                 2562      \n",
            "                                                                 \n",
            "=================================================================\n",
            "Total params: 2,260,546\n",
            "Trainable params: 888,642\n",
            "Non-trainable params: 1,371,904\n",
            "_________________________________________________________________\n"
          ]
        }
      ],
      "source": [
        "mobilenet_no_kd.summary()"
      ]
    },
    {
      "cell_type": "markdown",
      "metadata": {
        "id": "XlLYcw9aX3RF"
      },
      "source": [
        "#Training functions"
      ]
    },
    {
      "cell_type": "code",
      "execution_count": null,
      "metadata": {
        "id": "tMIFSSfAX7gC"
      },
      "outputs": [],
      "source": [
        "def compute_teacher_loss_res(images, labels):\n",
        "  \"\"\"Compute subclass knowledge distillation teacher loss for given images\n",
        "     and labels.\n",
        "\n",
        "  Args:\n",
        "    images: Tensor representing a batch of images.\n",
        "    labels: Tensor representing a batch of labels.\n",
        "\n",
        "  Returns:\n",
        "    Scalar loss Tensor.\n",
        "  \"\"\"\n",
        "  subclass_logits = teacher_res(images, training=True)\n",
        "\n",
        "  # Compute cross-entropy loss for subclasses.\n",
        "\n",
        "  # your code start from here for step 3\n",
        "  \n",
        "  loss=tf.keras.losses.CategoricalCrossentropy(axis=-1,name='categorical_crossentropy')\n",
        "  cross_entropy_loss_value = loss(labels,tf.nn.softmax(subclass_logits, axis=-1))\n",
        "\n",
        "\n",
        "  return cross_entropy_loss_value"
      ]
    },
    {
      "cell_type": "code",
      "execution_count": null,
      "metadata": {
        "id": "GmWL7aA32P3q"
      },
      "outputs": [],
      "source": [
        "# Hyperparameters for distillation (need to be tuned).\n",
        "ALPHA = 0.9 # task balance between cross-entropy and distillation loss\n",
        "DISTILLATION_TEMPERATURE = 8. #temperature hyperparameter\n",
        "\n",
        "def distillation_loss(teacher_logits: tf.Tensor, student_logits: tf.Tensor,\n",
        "                      temperature: Union[float, tf.Tensor]):\n",
        "  \"\"\"Compute distillation loss.\n",
        "\n",
        "  This function computes cross entropy between softened logits and softened\n",
        "  targets. The resulting loss is scaled by the squared temperature so that\n",
        "  the gradient magnitude remains approximately constant as the temperature is\n",
        "  changed. For reference, see Hinton et al., 2014, \"Distilling the knowledge in\n",
        "  a neural network.\"\n",
        "\n",
        "  Args:\n",
        "    teacher_logits: A Tensor of logits provided by the teacher.\n",
        "    student_logits: A Tensor of logits provided by the student, of the same\n",
        "      shape as `teacher_logits`.\n",
        "    temperature: Temperature to use for distillation.\n",
        "\n",
        "  Returns:\n",
        "    A scalar Tensor containing the distillation loss.\n",
        "  \"\"\"\n",
        " # your code start from here for step 3\n",
        "  soft_targets = tf.nn.softmax(teacher_logits/temperature)\n",
        "\n",
        "  return tf.reduce_mean(\n",
        "      tf.nn.softmax_cross_entropy_with_logits(\n",
        "          soft_targets, student_logits / temperature)) * temperature ** 2\n",
        "\n",
        "def compute_student_loss(images, labels, ALPHA=0.8, DISTILLATION_TEMPERATURE=8. ):\n",
        "  \"\"\"Compute subclass knowledge distillation student loss for given images\n",
        "     and labels.\n",
        "\n",
        "  Args:\n",
        "    images: Tensor representing a batch of images.\n",
        "    labels: Tensor representing a batch of labels.\n",
        "\n",
        "  Returns:\n",
        "    Scalar loss Tensor.\n",
        "  \"\"\"\n",
        "  student_subclass_logits = student_mobile(images, training=True)\n",
        "\n",
        "  # Compute subclass distillation loss between student subclass logits and\n",
        "  # softened teacher subclass targets probabilities.\n",
        "\n",
        "  # your code start from here for step 3\n",
        "\n",
        "  teacher_subclass_logits = teacher_res(images, training=False)\n",
        "  distillation_loss_value =distillation_loss(teacher_subclass_logits,student_subclass_logits, DISTILLATION_TEMPERATURE )\n",
        "\n",
        "  # Compute cross-entropy loss with hard targets.\n",
        "\n",
        "  # your code start from here for step 3\n",
        "  loss=tf.keras.losses.CategoricalCrossentropy(axis=-1,name='categorical_crossentropy')\n",
        "  cross_entropy_loss_value = loss(labels,tf.nn.softmax(student_subclass_logits, axis=-1))\n",
        "\n",
        "  return (ALPHA*  distillation_loss_value + (1-ALPHA)* cross_entropy_loss_value) "
      ]
    },
    {
      "cell_type": "code",
      "execution_count": null,
      "metadata": {
        "id": "bLJudWf1YjZf"
      },
      "outputs": [],
      "source": [
        "def compute_num_correct(model, images, labels):\n",
        "  \"\"\"Compute number of correctly classified images in a batch.\n",
        "\n",
        "  Args:\n",
        "    model: Instance of tf.keras.Model.\n",
        "    images: Tensor representing a batch of images.\n",
        "    labels: Tensor representing a batch of labels.\n",
        "\n",
        "  Returns:\n",
        "    Number of correctly classified images.\n",
        "  \"\"\"\n",
        "  class_logits = model(images, training=False)\n",
        "  return tf.math.reduce_sum(tf.cast(tf.math.equal(tf.argmax(class_logits, -1), tf.argmax(labels, -1)),tf.float32)), tf.argmax(class_logits, -1), tf.argmax(labels, -1)"
      ]
    },
    {
      "cell_type": "code",
      "execution_count": null,
      "metadata": {
        "id": "zJDdZYJEZKY9"
      },
      "outputs": [],
      "source": [
        "def train_and_evaluate_teacher(model, compute_loss_fn):\n",
        "  \"\"\"Perform training and evaluation for a given model.\n",
        "\n",
        "  Args:\n",
        "    model: Instance of tf.keras.Model.\n",
        "    compute_loss_fn: A function that computes the training loss given the\n",
        "      images, and labels.\n",
        "  \"\"\"\n",
        "\n",
        "  # your code start from here for step 4\n",
        "  optimizer = tf.keras.optimizers.Adam(learning_rate=0.0001)\n",
        "\n",
        "  for epoch in range(1, 10 + 1):\n",
        "    # Run training.\n",
        "    print('Epoch {}: '.format(epoch), end='')\n",
        "    train_generator.reset()\n",
        "    for _ in range(68):\n",
        "      images, labels=train_generator.next()\n",
        "      with tf.GradientTape() as tape:\n",
        "         # your code start from here for step 4\n",
        "\n",
        "        loss_value = compute_loss_fn(images,labels)\n",
        "\n",
        "      grads = tape.gradient(loss_value, model.trainable_variables)\n",
        "      optimizer.apply_gradients(zip(grads, model.trainable_variables))\n",
        "        \n",
        "        # Run evaluation.\n",
        "    num_correct = 0\n",
        "    num_total = 0\n",
        "    for _ in range(31):\n",
        "      # your code start from here for step 4\n",
        "      images, labels=test_generator.next()\n",
        "      num_total+= len(labels)\n",
        "      num_correct += compute_num_correct(model,images,labels)[0] \n",
        "    print(\"Class_accuracy: \" + '{:.2f}%'.format(\n",
        "        num_correct / num_total * 100))\n",
        "    \n",
        "  #fine tuning\n",
        "  print('fine tuning')\n",
        "  optimizer = tf.keras.optimizers.Adam(learning_rate=0.00001)\n",
        "\n",
        "  m=teacher_res.get_layer('resnet50v2')\n",
        "  count=0\n",
        "  for layers in m.layers:\n",
        "    count+=1\n",
        "    if count== 152:\n",
        "      layers.trainable=True\n",
        "    if(layers.name[0:5]== 'conv4'):\n",
        "      layers.trainable=True\n",
        "    else:\n",
        "      continue\n",
        "\n",
        "  count=0  \n",
        "  for layers in m.layers:\n",
        "    count+=1\n",
        "    print(layers.trainable, layers.name[0:5], count)\n",
        "\n",
        "  for epoch in range(1, 25 + 1):\n",
        "  # Run training.\n",
        "    print('Epoch {}: '.format(epoch), end='')\n",
        "    train_generator.reset()\n",
        "    for _ in range(68):\n",
        "      images, labels=train_generator.next()\n",
        "      with tf.GradientTape() as tape:\n",
        "        # your code start from here for step 4\n",
        "\n",
        "        loss_value = compute_loss_fn(images,labels)\n",
        "\n",
        "      grads = tape.gradient(loss_value, model.trainable_variables)\n",
        "      optimizer.apply_gradients(zip(grads, model.trainable_variables))\n",
        "    \n",
        "    # Run evaluation.\n",
        "    num_correct = 0\n",
        "    num_total = 0\n",
        "    for _ in range(31):\n",
        "      # your code start from here for step 4\n",
        "      images, labels=test_generator.next()\n",
        "      num_total+= len(labels)\n",
        "      num_correct += compute_num_correct(model,images,labels)[0] \n",
        "    print(\"Class_accuracy: \" + '{:.2f}%'.format(\n",
        "        num_correct / num_total * 100))"
      ]
    },
    {
      "cell_type": "code",
      "execution_count": null,
      "metadata": {
        "id": "j_Bahk4_ZZ9w"
      },
      "outputs": [],
      "source": [
        "def train_and_evaluate_kd(model, compute_loss_fn, ALPHA=0.8, DISTILLATION_TEMPERATURE=8.):\n",
        "  \"\"\"Perform training and evaluation for a given model.\n",
        "\n",
        "  Args:\n",
        "    model: Instance of tf.keras.Model.\n",
        "    compute_loss_fn: A function that computes the training loss given the\n",
        "      images, and labels.\n",
        "  \"\"\"\n",
        "\n",
        "  # your code start from here for step 4\n",
        "  optimizer = tf.keras.optimizers.Adam(learning_rate=0.001)\n",
        "\n",
        "  for epoch in range(1, 10 + 1):\n",
        "    # Run training.\n",
        "    print('Epoch {}: '.format(epoch), end='')\n",
        "    train_generator.reset()\n",
        "    for _ in range(68):\n",
        "      images, labels=train_generator.next()\n",
        "      with tf.GradientTape() as tape:\n",
        "         # your code start from here for step 4\n",
        "\n",
        "        loss_value = compute_loss_fn(images,labels, ALPHA, DISTILLATION_TEMPERATURE)\n",
        "\n",
        "      grads = tape.gradient(loss_value, model.trainable_variables)\n",
        "      optimizer.apply_gradients(zip(grads, model.trainable_variables))\n",
        "\n",
        "    # Run evaluation.\n",
        "    num_correct = 0\n",
        "    num_total = 0\n",
        "    for _ in range(31):\n",
        "      # your code start from here for step 4\n",
        "      images, labels=test_generator.next()\n",
        "      num_total+= len(labels)\n",
        "      num_correct += compute_num_correct(model,images,labels)[0] \n",
        "    print(\"Class_accuracy: \" + '{:.2f}%'.format(\n",
        "        num_correct / num_total * 100))\n",
        "  \n",
        "  #fine tuning\n",
        "  print('fine tuning')\n",
        "  optimizer = tf.keras.optimizers.Adam(learning_rate=0.0001)\n",
        "\n",
        "  m=student_mobile.get_layer('mobilenetv2_1.00_224')\n",
        "\n",
        "  for layers in m.layers:\n",
        "    if(layers.name[0:8]== 'block_15'):\n",
        "      layers.trainable=True\n",
        "    else:\n",
        "      continue\n",
        "\n",
        "  count=0  \n",
        "  for layers in m.layers:\n",
        "    count+=1\n",
        "    print(layers.trainable, layers.name[0:8], count)\n",
        "\n",
        "  for epoch in range(1, 25 + 1):\n",
        "  # Run training.\n",
        "    print('Epoch {}: '.format(epoch), end='')\n",
        "    train_generator.reset()\n",
        "    for _ in range(68):\n",
        "      images, labels=train_generator.next()\n",
        "      with tf.GradientTape() as tape:\n",
        "        # your code start from here for step 4\n",
        "\n",
        "        loss_value = compute_loss_fn(images,labels, ALPHA, DISTILLATION_TEMPERATURE)\n",
        "\n",
        "      grads = tape.gradient(loss_value, model.trainable_variables)\n",
        "      optimizer.apply_gradients(zip(grads, model.trainable_variables))\n",
        "    \n",
        "    # Run evaluation.\n",
        "    num_correct = 0\n",
        "    num_total = 0\n",
        "    for _ in range(31):\n",
        "      # your code start from here for step 4\n",
        "      images, labels=test_generator.next()\n",
        "      num_total+= len(labels)\n",
        "      num_correct += compute_num_correct(model,images,labels)[0] \n",
        "    print(\"Class_accuracy: \" + '{:.2f}%'.format(\n",
        "        num_correct / num_total * 100))"
      ]
    },
    {
      "cell_type": "code",
      "execution_count": null,
      "metadata": {
        "id": "mpjnASIJbt_R"
      },
      "outputs": [],
      "source": [
        "def train_and_evaluate_no_kd(model, compute_loss_fn):\n",
        "  \"\"\"Perform training and evaluation for a given model.\n",
        "\n",
        "  Args:\n",
        "    model: Instance of tf.keras.Model.\n",
        "    compute_loss_fn: A function that computes the training loss given the\n",
        "      images, and labels.\n",
        "  \"\"\"\n",
        "\n",
        "  # your code start from here for step 4\n",
        "  optimizer = tf.keras.optimizers.Adam(learning_rate=0.001)\n",
        "\n",
        "  for epoch in range(1, 10 + 1):\n",
        "    # Run training.\n",
        "    print('Epoch {}: '.format(epoch), end='')\n",
        "    train_generator.reset()\n",
        "    for _ in range(68):\n",
        "      images, labels=train_generator.next()\n",
        "      with tf.GradientTape() as tape:\n",
        "         # your code start from here for step 4\n",
        "\n",
        "        loss_value = compute_loss_fn(images,labels)\n",
        "\n",
        "      grads = tape.gradient(loss_value, model.trainable_variables)\n",
        "      optimizer.apply_gradients(zip(grads, model.trainable_variables))\n",
        "\n",
        "          # Run evaluation.\n",
        "    num_correct = 0\n",
        "    num_total = 0\n",
        "    for _ in range(31):\n",
        "      # your code start from here for step 4\n",
        "      images, labels=test_generator.next()\n",
        "      num_total+= len(labels)\n",
        "      num_correct += compute_num_correct(model,images,labels)[0] \n",
        "    print(\"Class_accuracy: \" + '{:.2f}%'.format(\n",
        "        num_correct / num_total * 100))\n",
        "    \n",
        "  #fine tuning\n",
        "  print('fine tuning')\n",
        "  optimizer = tf.keras.optimizers.Adam(learning_rate=0.0001)\n",
        "\n",
        "  m=mobilenet_no_kd.get_layer('mobilenetv2_1.00_224')\n",
        "\n",
        "  for layers in m.layers:\n",
        "    if(layers.name[0:8]== 'block_15'):\n",
        "      layers.trainable=True\n",
        "    else:\n",
        "      continue\n",
        "\n",
        "  count=0  \n",
        "  for layers in m.layers:\n",
        "    count+=1\n",
        "    print(layers.trainable, layers.name[0:8], count)\n",
        "\n",
        "  for epoch in range(1, 25 + 1):\n",
        "  # Run training.\n",
        "    print('Epoch {}: '.format(epoch), end='')\n",
        "    train_generator.reset()\n",
        "    for _ in range(68):\n",
        "      images, labels=train_generator.next()\n",
        "      with tf.GradientTape() as tape:\n",
        "        # your code start from here for step 4\n",
        "\n",
        "        loss_value = compute_loss_fn(images,labels)\n",
        "\n",
        "      grads = tape.gradient(loss_value, model.trainable_variables)\n",
        "      optimizer.apply_gradients(zip(grads, model.trainable_variables))\n",
        "    \n",
        "    # Run evaluation.\n",
        "    num_correct = 0\n",
        "    num_total = 0\n",
        "    for _ in range(31):\n",
        "      # your code start from here for step 4\n",
        "      images, labels=test_generator.next()\n",
        "      num_total+= len(labels)\n",
        "      num_correct += compute_num_correct(model,images,labels)[0] \n",
        "    print(\"Class_accuracy: \" + '{:.2f}%'.format(\n",
        "        num_correct / num_total * 100))\n",
        "   "
      ]
    },
    {
      "cell_type": "code",
      "execution_count": null,
      "metadata": {
        "id": "XkvvtVz2ZaIT"
      },
      "outputs": [],
      "source": [
        "def compute_plain_cross_entropy_loss_mobile(images, labels):\n",
        "  \"\"\"Compute plain loss for given images and labels.\n",
        "\n",
        "  For fair comparison and convenience, this function also performs a\n",
        "  LogSumExp over subclasses, but does not perform subclass distillation.\n",
        "\n",
        "  Args:\n",
        "    images: Tensor representing a batch of images.\n",
        "    labels: Tensor representing a batch of labels.\n",
        "\n",
        "  Returns:\n",
        "    Scalar loss Tensor.\n",
        "  \"\"\"\n",
        "  # your code start from here for step 7\n",
        "\n",
        "  student_subclass_logits = mobilenet_no_kd(images, training=True)\n",
        "  #print(student_subclass_logits[0])\n",
        "  #print(labels[0])\n",
        "  loss=tf.keras.losses.CategoricalCrossentropy(axis=-1,name='categorical_crossentropy')\n",
        "  cross_entropy_loss = loss(labels,tf.nn.softmax(student_subclass_logits, axis=-1))\n",
        "  #print(cross_entropy_loss)\n",
        "  return cross_entropy_loss\n",
        "\n",
        "\n"
      ]
    },
    {
      "cell_type": "markdown",
      "metadata": {
        "id": "CZgnutu0n3Im"
      },
      "source": [
        "#Training"
      ]
    },
    {
      "cell_type": "code",
      "execution_count": null,
      "metadata": {
        "colab": {
          "base_uri": "https://localhost:8080/"
        },
        "id": "sryCp_-SLw0O",
        "outputId": "48c65fdc-dd92-493d-9bd6-2660d929e3e1"
      },
      "outputs": [
        {
          "name": "stdout",
          "output_type": "stream",
          "text": [
            "Epoch 1: Class_accuracy: 74.62%\n",
            "Epoch 2: Class_accuracy: 82.09%\n",
            "Epoch 3: Class_accuracy: 78.71%\n",
            "Epoch 4: Class_accuracy: 78.71%\n",
            "Epoch 5: Class_accuracy: 82.80%\n",
            "Epoch 6: Class_accuracy: 83.21%\n",
            "Epoch 7: Class_accuracy: 82.19%\n",
            "Epoch 8: Class_accuracy: 83.42%\n",
            "Epoch 9: Class_accuracy: 77.28%\n",
            "Epoch 10: Class_accuracy: 81.06%\n",
            "fine tuning\n",
            "False input 1\n",
            "False conv1 2\n",
            "False conv1 3\n",
            "False pool1 4\n",
            "False pool1 5\n",
            "False conv2 6\n",
            "False conv2 7\n",
            "False conv2 8\n",
            "False conv2 9\n",
            "False conv2 10\n",
            "False conv2 11\n",
            "False conv2 12\n",
            "False conv2 13\n",
            "False conv2 14\n",
            "False conv2 15\n",
            "False conv2 16\n",
            "False conv2 17\n",
            "False conv2 18\n",
            "False conv2 19\n",
            "False conv2 20\n",
            "False conv2 21\n",
            "False conv2 22\n",
            "False conv2 23\n",
            "False conv2 24\n",
            "False conv2 25\n",
            "False conv2 26\n",
            "False conv2 27\n",
            "False conv2 28\n",
            "False conv2 29\n",
            "False conv2 30\n",
            "False conv2 31\n",
            "False conv2 32\n",
            "False conv2 33\n",
            "False conv2 34\n",
            "False conv2 35\n",
            "False conv2 36\n",
            "False conv2 37\n",
            "False max_p 38\n",
            "False conv2 39\n",
            "False conv2 40\n",
            "False conv3 41\n",
            "False conv3 42\n",
            "False conv3 43\n",
            "False conv3 44\n",
            "False conv3 45\n",
            "False conv3 46\n",
            "False conv3 47\n",
            "False conv3 48\n",
            "False conv3 49\n",
            "False conv3 50\n",
            "False conv3 51\n",
            "False conv3 52\n",
            "False conv3 53\n",
            "False conv3 54\n",
            "False conv3 55\n",
            "False conv3 56\n",
            "False conv3 57\n",
            "False conv3 58\n",
            "False conv3 59\n",
            "False conv3 60\n",
            "False conv3 61\n",
            "False conv3 62\n",
            "False conv3 63\n",
            "False conv3 64\n",
            "False conv3 65\n",
            "False conv3 66\n",
            "False conv3 67\n",
            "False conv3 68\n",
            "False conv3 69\n",
            "False conv3 70\n",
            "False conv3 71\n",
            "False conv3 72\n",
            "False conv3 73\n",
            "False conv3 74\n",
            "False conv3 75\n",
            "False conv3 76\n",
            "False conv3 77\n",
            "False conv3 78\n",
            "False conv3 79\n",
            "False conv3 80\n",
            "False conv3 81\n",
            "False conv3 82\n",
            "False conv3 83\n",
            "False max_p 84\n",
            "False conv3 85\n",
            "False conv3 86\n",
            "True conv4 87\n",
            "True conv4 88\n",
            "True conv4 89\n",
            "True conv4 90\n",
            "True conv4 91\n",
            "True conv4 92\n",
            "True conv4 93\n",
            "True conv4 94\n",
            "True conv4 95\n",
            "True conv4 96\n",
            "True conv4 97\n",
            "True conv4 98\n",
            "True conv4 99\n",
            "True conv4 100\n",
            "True conv4 101\n",
            "True conv4 102\n",
            "True conv4 103\n",
            "True conv4 104\n",
            "True conv4 105\n",
            "True conv4 106\n",
            "True conv4 107\n",
            "True conv4 108\n",
            "True conv4 109\n",
            "True conv4 110\n",
            "True conv4 111\n",
            "True conv4 112\n",
            "True conv4 113\n",
            "True conv4 114\n",
            "True conv4 115\n",
            "True conv4 116\n",
            "True conv4 117\n",
            "True conv4 118\n",
            "True conv4 119\n",
            "True conv4 120\n",
            "True conv4 121\n",
            "True conv4 122\n",
            "True conv4 123\n",
            "True conv4 124\n",
            "True conv4 125\n",
            "True conv4 126\n",
            "True conv4 127\n",
            "True conv4 128\n",
            "True conv4 129\n",
            "True conv4 130\n",
            "True conv4 131\n",
            "True conv4 132\n",
            "True conv4 133\n",
            "True conv4 134\n",
            "True conv4 135\n",
            "True conv4 136\n",
            "True conv4 137\n",
            "True conv4 138\n",
            "True conv4 139\n",
            "True conv4 140\n",
            "True conv4 141\n",
            "True conv4 142\n",
            "True conv4 143\n",
            "True conv4 144\n",
            "True conv4 145\n",
            "True conv4 146\n",
            "True conv4 147\n",
            "True conv4 148\n",
            "True conv4 149\n",
            "True conv4 150\n",
            "True conv4 151\n",
            "True max_p 152\n",
            "True conv4 153\n",
            "True conv4 154\n",
            "True conv5 155\n",
            "True conv5 156\n",
            "True conv5 157\n",
            "True conv5 158\n",
            "True conv5 159\n",
            "True conv5 160\n",
            "True conv5 161\n",
            "True conv5 162\n",
            "True conv5 163\n",
            "True conv5 164\n",
            "True conv5 165\n",
            "True conv5 166\n",
            "True conv5 167\n",
            "True conv5 168\n",
            "True conv5 169\n",
            "True conv5 170\n",
            "True conv5 171\n",
            "True conv5 172\n",
            "True conv5 173\n",
            "True conv5 174\n",
            "True conv5 175\n",
            "True conv5 176\n",
            "True conv5 177\n",
            "True conv5 178\n",
            "True conv5 179\n",
            "True conv5 180\n",
            "True conv5 181\n",
            "True conv5 182\n",
            "True conv5 183\n",
            "True conv5 184\n",
            "True conv5 185\n",
            "True conv5 186\n",
            "True conv5 187\n",
            "True conv5 188\n",
            "True post_ 189\n",
            "True post_ 190\n",
            "True avg_p 191\n",
            "Epoch 1: Class_accuracy: 82.19%\n",
            "Epoch 2: Class_accuracy: 81.68%\n",
            "Epoch 3: Class_accuracy: 83.21%\n",
            "Epoch 4: Class_accuracy: 83.83%\n",
            "Epoch 5: Class_accuracy: 84.44%\n",
            "Epoch 6: Class_accuracy: 85.06%\n",
            "Epoch 7: Class_accuracy: 83.83%\n",
            "Epoch 8: Class_accuracy: 84.65%\n",
            "Epoch 9: Class_accuracy: 84.85%\n",
            "Epoch 10: Class_accuracy: 84.34%\n",
            "Epoch 11: Class_accuracy: 84.44%\n",
            "Epoch 12: Class_accuracy: 84.95%\n",
            "Epoch 13: Class_accuracy: 85.16%\n",
            "Epoch 14: Class_accuracy: 84.75%\n",
            "Epoch 15: Class_accuracy: 84.85%\n",
            "Epoch 16: Class_accuracy: 84.34%\n",
            "Epoch 17: Class_accuracy: 85.06%\n",
            "Epoch 18: Class_accuracy: 84.24%\n",
            "Epoch 19: Class_accuracy: 85.06%\n",
            "Epoch 20: Class_accuracy: 84.54%\n",
            "Epoch 21: Class_accuracy: 83.83%\n",
            "Epoch 22: Class_accuracy: 84.14%\n",
            "Epoch 23: Class_accuracy: 84.34%\n",
            "Epoch 24: Class_accuracy: 85.67%\n",
            "Epoch 25: Class_accuracy: 84.14%\n"
          ]
        }
      ],
      "source": [
        "#teacher training\n",
        "train_and_evaluate_teacher(teacher_res,compute_teacher_loss_res)"
      ]
    },
    {
      "cell_type": "code",
      "execution_count": null,
      "metadata": {
        "colab": {
          "base_uri": "https://localhost:8080/"
        },
        "id": "02vkpVAUkq9f",
        "outputId": "1e3a635b-e3f7-49d7-8679-d09bb7071c2d"
      },
      "outputs": [
        {
          "name": "stdout",
          "output_type": "stream",
          "text": [
            "WARNING:tensorflow:Compiled the loaded model, but the compiled metrics have yet to be built. `model.compile_metrics` will be empty until you train or evaluate the model.\n",
            "INFO:tensorflow:Assets written to: teacher_res_new/assets\n"
          ]
        }
      ],
      "source": [
        "#saving the teacher model\n",
        "teacher_res.save('teacher_res_new')"
      ]
    },
    {
      "cell_type": "code",
      "execution_count": null,
      "metadata": {
        "colab": {
          "base_uri": "https://localhost:8080/"
        },
        "id": "LXiOVQ7qo11f",
        "outputId": "72526799-03ff-4070-b367-aafaa688d84b"
      },
      "outputs": [
        {
          "output_type": "stream",
          "name": "stdout",
          "text": [
            "WARNING:tensorflow:No training configuration found in save file, so the model was *not* compiled. Compile it manually.\n"
          ]
        }
      ],
      "source": [
        "#loading the teacher model\n",
        "teacher_res=keras.models.load_model('/content/drive/MyDrive/mhist_dataset/teacher_res_new')"
      ]
    },
    {
      "cell_type": "code",
      "execution_count": null,
      "metadata": {
        "colab": {
          "base_uri": "https://localhost:8080/"
        },
        "id": "7MGXi227sgT3",
        "outputId": "8254fe24-01b4-4ee3-dc9b-d1242ab66334"
      },
      "outputs": [
        {
          "output_type": "stream",
          "name": "stdout",
          "text": [
            "Epoch 1: Class_accuracy: 67.27%\n",
            "Epoch 2: Class_accuracy: 67.27%\n",
            "Epoch 3: Class_accuracy: 72.42%\n",
            "Epoch 4: Class_accuracy: 75.97%\n",
            "Epoch 5: Class_accuracy: 74.36%\n",
            "Epoch 6: Class_accuracy: 79.08%\n",
            "Epoch 7: Class_accuracy: 75.21%\n",
            "Epoch 8: Class_accuracy: 72.85%\n",
            "Epoch 9: Class_accuracy: 77.36%\n",
            "Epoch 10: Class_accuracy: 72.70%\n",
            "fine tuning\n",
            "False input_3 1\n",
            "False Conv1 2\n",
            "False bn_Conv1 3\n",
            "False Conv1_re 4\n",
            "False expanded 5\n",
            "False expanded 6\n",
            "False expanded 7\n",
            "False expanded 8\n",
            "False expanded 9\n",
            "False block_1_ 10\n",
            "False block_1_ 11\n",
            "False block_1_ 12\n",
            "False block_1_ 13\n",
            "False block_1_ 14\n",
            "False block_1_ 15\n",
            "False block_1_ 16\n",
            "False block_1_ 17\n",
            "False block_1_ 18\n",
            "False block_2_ 19\n",
            "False block_2_ 20\n",
            "False block_2_ 21\n",
            "False block_2_ 22\n",
            "False block_2_ 23\n",
            "False block_2_ 24\n",
            "False block_2_ 25\n",
            "False block_2_ 26\n",
            "False block_2_ 27\n",
            "False block_3_ 28\n",
            "False block_3_ 29\n",
            "False block_3_ 30\n",
            "False block_3_ 31\n",
            "False block_3_ 32\n",
            "False block_3_ 33\n",
            "False block_3_ 34\n",
            "False block_3_ 35\n",
            "False block_3_ 36\n",
            "False block_4_ 37\n",
            "False block_4_ 38\n",
            "False block_4_ 39\n",
            "False block_4_ 40\n",
            "False block_4_ 41\n",
            "False block_4_ 42\n",
            "False block_4_ 43\n",
            "False block_4_ 44\n",
            "False block_4_ 45\n",
            "False block_5_ 46\n",
            "False block_5_ 47\n",
            "False block_5_ 48\n",
            "False block_5_ 49\n",
            "False block_5_ 50\n",
            "False block_5_ 51\n",
            "False block_5_ 52\n",
            "False block_5_ 53\n",
            "False block_5_ 54\n",
            "False block_6_ 55\n",
            "False block_6_ 56\n",
            "False block_6_ 57\n",
            "False block_6_ 58\n",
            "False block_6_ 59\n",
            "False block_6_ 60\n",
            "False block_6_ 61\n",
            "False block_6_ 62\n",
            "False block_6_ 63\n",
            "False block_7_ 64\n",
            "False block_7_ 65\n",
            "False block_7_ 66\n",
            "False block_7_ 67\n",
            "False block_7_ 68\n",
            "False block_7_ 69\n",
            "False block_7_ 70\n",
            "False block_7_ 71\n",
            "False block_7_ 72\n",
            "False block_8_ 73\n",
            "False block_8_ 74\n",
            "False block_8_ 75\n",
            "False block_8_ 76\n",
            "False block_8_ 77\n",
            "False block_8_ 78\n",
            "False block_8_ 79\n",
            "False block_8_ 80\n",
            "False block_8_ 81\n",
            "False block_9_ 82\n",
            "False block_9_ 83\n",
            "False block_9_ 84\n",
            "False block_9_ 85\n",
            "False block_9_ 86\n",
            "False block_9_ 87\n",
            "False block_9_ 88\n",
            "False block_9_ 89\n",
            "False block_9_ 90\n",
            "False block_10 91\n",
            "False block_10 92\n",
            "False block_10 93\n",
            "False block_10 94\n",
            "False block_10 95\n",
            "False block_10 96\n",
            "False block_10 97\n",
            "False block_10 98\n",
            "False block_11 99\n",
            "False block_11 100\n",
            "False block_11 101\n",
            "False block_11 102\n",
            "False block_11 103\n",
            "False block_11 104\n",
            "False block_11 105\n",
            "False block_11 106\n",
            "False block_11 107\n",
            "False block_12 108\n",
            "False block_12 109\n",
            "False block_12 110\n",
            "False block_12 111\n",
            "False block_12 112\n",
            "False block_12 113\n",
            "False block_12 114\n",
            "False block_12 115\n",
            "False block_12 116\n",
            "False block_13 117\n",
            "False block_13 118\n",
            "False block_13 119\n",
            "False block_13 120\n",
            "False block_13 121\n",
            "False block_13 122\n",
            "False block_13 123\n",
            "False block_13 124\n",
            "False block_13 125\n",
            "False block_14 126\n",
            "False block_14 127\n",
            "False block_14 128\n",
            "False block_14 129\n",
            "False block_14 130\n",
            "False block_14 131\n",
            "False block_14 132\n",
            "False block_14 133\n",
            "False block_14 134\n",
            "True block_15 135\n",
            "True block_15 136\n",
            "True block_15 137\n",
            "True block_15 138\n",
            "True block_15 139\n",
            "True block_15 140\n",
            "True block_15 141\n",
            "True block_15 142\n",
            "True block_15 143\n",
            "True block_16 144\n",
            "True block_16 145\n",
            "True block_16 146\n",
            "True block_16 147\n",
            "True block_16 148\n",
            "True block_16 149\n",
            "True block_16 150\n",
            "True block_16 151\n",
            "True Conv_1 152\n",
            "True Conv_1_b 153\n",
            "True out_relu 154\n",
            "True global_m 155\n",
            "Epoch 1: Class_accuracy: 74.79%\n",
            "Epoch 2: Class_accuracy: 75.97%\n",
            "Epoch 3: Class_accuracy: 75.21%\n",
            "Epoch 4: Class_accuracy: 76.50%\n",
            "Epoch 5: Class_accuracy: 76.93%\n",
            "Epoch 6: Class_accuracy: 76.93%\n",
            "Epoch 7: Class_accuracy: 77.47%\n",
            "Epoch 8: Class_accuracy: 79.51%\n",
            "Epoch 9: Class_accuracy: 79.72%\n",
            "Epoch 10: Class_accuracy: 81.36%\n",
            "Epoch 11: Class_accuracy: 79.94%\n",
            "Epoch 12: Class_accuracy: 80.58%\n",
            "Epoch 13: Class_accuracy: 81.65%\n",
            "Epoch 14: Class_accuracy: 80.04%\n",
            "Epoch 15: Class_accuracy: 81.65%\n",
            "Epoch 16: Class_accuracy: 81.97%\n",
            "Epoch 17: Class_accuracy: 80.90%\n",
            "Epoch 18: Class_accuracy: 80.79%\n",
            "Epoch 19: Class_accuracy: 78.86%\n",
            "Epoch 20: Class_accuracy: 77.96%\n",
            "Epoch 21: Class_accuracy: 80.04%\n",
            "Epoch 22: Class_accuracy: 80.58%\n",
            "Epoch 23: Class_accuracy: 80.90%\n",
            "Epoch 24: Class_accuracy: 80.36%\n",
            "Epoch 25: Class_accuracy: 80.36%\n"
          ]
        }
      ],
      "source": [
        "# training student without KD\n",
        "train_and_evaluate_no_kd(mobilenet_no_kd, compute_plain_cross_entropy_loss_mobile)"
      ]
    },
    {
      "cell_type": "code",
      "execution_count": null,
      "metadata": {
        "colab": {
          "base_uri": "https://localhost:8080/"
        },
        "id": "zcYQ9ULLSxfX",
        "outputId": "cf945754-48c8-4aad-a64f-14c5068ab471"
      },
      "outputs": [
        {
          "name": "stdout",
          "output_type": "stream",
          "text": [
            "WARNING:tensorflow:Compiled the loaded model, but the compiled metrics have yet to be built. `model.compile_metrics` will be empty until you train or evaluate the model.\n"
          ]
        },
        {
          "name": "stderr",
          "output_type": "stream",
          "text": [
            "WARNING:absl:Function `_wrapped_model` contains input name(s) mobilenetv2_1.00_224_input with unsupported characters which will be renamed to mobilenetv2_1_00_224_input in the SavedModel.\n"
          ]
        },
        {
          "name": "stdout",
          "output_type": "stream",
          "text": [
            "INFO:tensorflow:Assets written to: mobilenet_no_kd_new/assets\n"
          ]
        },
        {
          "name": "stderr",
          "output_type": "stream",
          "text": [
            "INFO:tensorflow:Assets written to: mobilenet_no_kd_new/assets\n"
          ]
        }
      ],
      "source": [
        "#save student model with no kd\n",
        "mobilenet_no_kd.save('mobilenet_no_kd_new')"
      ]
    },
    {
      "cell_type": "code",
      "execution_count": null,
      "metadata": {
        "id": "oSxptSzMy-1-",
        "colab": {
          "base_uri": "https://localhost:8080/"
        },
        "outputId": "5b21efd5-f559-420f-e424-8d9e4eca5547"
      },
      "outputs": [
        {
          "output_type": "stream",
          "name": "stdout",
          "text": [
            "WARNING:tensorflow:No training configuration found in save file, so the model was *not* compiled. Compile it manually.\n"
          ]
        }
      ],
      "source": [
        "#load student model with no kd\n",
        "mobilenet_no_kd=keras.models.load_model('/content/drive/MyDrive/mhist_dataset/mobilenet_no_kd_new')"
      ]
    },
    {
      "cell_type": "code",
      "execution_count": null,
      "metadata": {
        "colab": {
          "base_uri": "https://localhost:8080/"
        },
        "id": "DVKoYWys93P0",
        "outputId": "2876a8a2-ddac-4c3d-8e1d-c8e454990ec5"
      },
      "outputs": [
        {
          "name": "stdout",
          "output_type": "stream",
          "text": [
            "Epoch 1: Class_accuracy: 72.36%\n",
            "Epoch 2: Class_accuracy: 64.79%\n",
            "Epoch 3: Class_accuracy: 68.78%\n",
            "Epoch 4: Class_accuracy: 73.39%\n",
            "Epoch 5: Class_accuracy: 76.56%\n",
            "Epoch 6: Class_accuracy: 74.51%\n",
            "Epoch 7: Class_accuracy: 74.00%\n",
            "Epoch 8: Class_accuracy: 79.63%\n",
            "Epoch 9: Class_accuracy: 70.73%\n",
            "Epoch 10: Class_accuracy: 76.36%\n",
            "fine tuning\n",
            "False input_2 1\n",
            "False Conv1 2\n",
            "False bn_Conv1 3\n",
            "False Conv1_re 4\n",
            "False expanded 5\n",
            "False expanded 6\n",
            "False expanded 7\n",
            "False expanded 8\n",
            "False expanded 9\n",
            "False block_1_ 10\n",
            "False block_1_ 11\n",
            "False block_1_ 12\n",
            "False block_1_ 13\n",
            "False block_1_ 14\n",
            "False block_1_ 15\n",
            "False block_1_ 16\n",
            "False block_1_ 17\n",
            "False block_1_ 18\n",
            "False block_2_ 19\n",
            "False block_2_ 20\n",
            "False block_2_ 21\n",
            "False block_2_ 22\n",
            "False block_2_ 23\n",
            "False block_2_ 24\n",
            "False block_2_ 25\n",
            "False block_2_ 26\n",
            "False block_2_ 27\n",
            "False block_3_ 28\n",
            "False block_3_ 29\n",
            "False block_3_ 30\n",
            "False block_3_ 31\n",
            "False block_3_ 32\n",
            "False block_3_ 33\n",
            "False block_3_ 34\n",
            "False block_3_ 35\n",
            "False block_3_ 36\n",
            "False block_4_ 37\n",
            "False block_4_ 38\n",
            "False block_4_ 39\n",
            "False block_4_ 40\n",
            "False block_4_ 41\n",
            "False block_4_ 42\n",
            "False block_4_ 43\n",
            "False block_4_ 44\n",
            "False block_4_ 45\n",
            "False block_5_ 46\n",
            "False block_5_ 47\n",
            "False block_5_ 48\n",
            "False block_5_ 49\n",
            "False block_5_ 50\n",
            "False block_5_ 51\n",
            "False block_5_ 52\n",
            "False block_5_ 53\n",
            "False block_5_ 54\n",
            "False block_6_ 55\n",
            "False block_6_ 56\n",
            "False block_6_ 57\n",
            "False block_6_ 58\n",
            "False block_6_ 59\n",
            "False block_6_ 60\n",
            "False block_6_ 61\n",
            "False block_6_ 62\n",
            "False block_6_ 63\n",
            "False block_7_ 64\n",
            "False block_7_ 65\n",
            "False block_7_ 66\n",
            "False block_7_ 67\n",
            "False block_7_ 68\n",
            "False block_7_ 69\n",
            "False block_7_ 70\n",
            "False block_7_ 71\n",
            "False block_7_ 72\n",
            "False block_8_ 73\n",
            "False block_8_ 74\n",
            "False block_8_ 75\n",
            "False block_8_ 76\n",
            "False block_8_ 77\n",
            "False block_8_ 78\n",
            "False block_8_ 79\n",
            "False block_8_ 80\n",
            "False block_8_ 81\n",
            "False block_9_ 82\n",
            "False block_9_ 83\n",
            "False block_9_ 84\n",
            "False block_9_ 85\n",
            "False block_9_ 86\n",
            "False block_9_ 87\n",
            "False block_9_ 88\n",
            "False block_9_ 89\n",
            "False block_9_ 90\n",
            "False block_10 91\n",
            "False block_10 92\n",
            "False block_10 93\n",
            "False block_10 94\n",
            "False block_10 95\n",
            "False block_10 96\n",
            "False block_10 97\n",
            "False block_10 98\n",
            "False block_11 99\n",
            "False block_11 100\n",
            "False block_11 101\n",
            "False block_11 102\n",
            "False block_11 103\n",
            "False block_11 104\n",
            "False block_11 105\n",
            "False block_11 106\n",
            "False block_11 107\n",
            "False block_12 108\n",
            "False block_12 109\n",
            "False block_12 110\n",
            "False block_12 111\n",
            "False block_12 112\n",
            "False block_12 113\n",
            "False block_12 114\n",
            "False block_12 115\n",
            "False block_12 116\n",
            "False block_13 117\n",
            "False block_13 118\n",
            "False block_13 119\n",
            "False block_13 120\n",
            "False block_13 121\n",
            "False block_13 122\n",
            "False block_13 123\n",
            "False block_13 124\n",
            "False block_13 125\n",
            "False block_14 126\n",
            "False block_14 127\n",
            "False block_14 128\n",
            "False block_14 129\n",
            "False block_14 130\n",
            "False block_14 131\n",
            "False block_14 132\n",
            "False block_14 133\n",
            "False block_14 134\n",
            "True block_15 135\n",
            "True block_15 136\n",
            "True block_15 137\n",
            "True block_15 138\n",
            "True block_15 139\n",
            "True block_15 140\n",
            "True block_15 141\n",
            "True block_15 142\n",
            "True block_15 143\n",
            "True block_16 144\n",
            "True block_16 145\n",
            "True block_16 146\n",
            "True block_16 147\n",
            "True block_16 148\n",
            "True block_16 149\n",
            "True block_16 150\n",
            "True block_16 151\n",
            "True Conv_1 152\n",
            "True Conv_1_b 153\n",
            "True out_relu 154\n",
            "True global_m 155\n",
            "Epoch 1: Class_accuracy: 76.25%\n",
            "Epoch 2: Class_accuracy: 79.12%\n",
            "Epoch 3: Class_accuracy: 78.40%\n",
            "Epoch 4: Class_accuracy: 81.27%\n",
            "Epoch 5: Class_accuracy: 80.45%\n",
            "Epoch 6: Class_accuracy: 79.32%\n",
            "Epoch 7: Class_accuracy: 78.81%\n",
            "Epoch 8: Class_accuracy: 77.79%\n",
            "Epoch 9: Class_accuracy: 73.18%\n",
            "Epoch 10: Class_accuracy: 72.67%\n",
            "Epoch 11: Class_accuracy: 72.98%\n",
            "Epoch 12: Class_accuracy: 76.87%\n",
            "Epoch 13: Class_accuracy: 76.87%\n",
            "Epoch 14: Class_accuracy: 80.14%\n",
            "Epoch 15: Class_accuracy: 81.58%\n",
            "Epoch 16: Class_accuracy: 81.37%\n",
            "Epoch 17: Class_accuracy: 80.96%\n",
            "Epoch 18: Class_accuracy: 75.74%\n",
            "Epoch 19: Class_accuracy: 78.30%\n",
            "Epoch 20: Class_accuracy: 70.93%\n",
            "Epoch 21: Class_accuracy: 72.16%\n",
            "Epoch 22: Class_accuracy: 71.34%\n",
            "Epoch 23: Class_accuracy: 75.33%\n",
            "Epoch 24: Class_accuracy: 77.18%\n",
            "Epoch 25: Class_accuracy: 80.96%\n"
          ]
        }
      ],
      "source": [
        "# training student with KD\n",
        "train_and_evaluate_kd(student_mobile, compute_student_loss)"
      ]
    },
    {
      "cell_type": "code",
      "execution_count": null,
      "metadata": {
        "colab": {
          "base_uri": "https://localhost:8080/"
        },
        "id": "Wdd5mQfjrBB8",
        "outputId": "db02d307-78ab-498d-a224-c4ff4c6a142a"
      },
      "outputs": [
        {
          "name": "stdout",
          "output_type": "stream",
          "text": [
            "WARNING:tensorflow:Compiled the loaded model, but the compiled metrics have yet to be built. `model.compile_metrics` will be empty until you train or evaluate the model.\n"
          ]
        },
        {
          "name": "stderr",
          "output_type": "stream",
          "text": [
            "WARNING:absl:Function `_wrapped_model` contains input name(s) mobilenetv2_1.00_224_input with unsupported characters which will be renamed to mobilenetv2_1_00_224_input in the SavedModel.\n"
          ]
        },
        {
          "name": "stdout",
          "output_type": "stream",
          "text": [
            "INFO:tensorflow:Assets written to: student_mobile/assets\n"
          ]
        },
        {
          "name": "stderr",
          "output_type": "stream",
          "text": [
            "INFO:tensorflow:Assets written to: student_mobile/assets\n"
          ]
        }
      ],
      "source": [
        "# save student with KD\n",
        "student_mobile.save('student_mobile_new')"
      ]
    },
    {
      "cell_type": "code",
      "execution_count": null,
      "metadata": {
        "colab": {
          "base_uri": "https://localhost:8080/"
        },
        "id": "oCXfYmfv4Dgu",
        "outputId": "8b736884-925c-4620-c41d-182f5bd69ac2"
      },
      "outputs": [
        {
          "output_type": "stream",
          "name": "stdout",
          "text": [
            "WARNING:tensorflow:No training configuration found in save file, so the model was *not* compiled. Compile it manually.\n"
          ]
        }
      ],
      "source": [
        "# load student with KD\n",
        "student_mobile=keras.models.load_model('/content/drive/MyDrive/mhist_dataset/student_mobile')"
      ]
    },
    {
      "cell_type": "markdown",
      "metadata": {
        "id": "NvgFnQclWIg3"
      },
      "source": [
        "#Accuracy"
      ]
    },
    {
      "cell_type": "code",
      "execution_count": null,
      "metadata": {
        "id": "7h16HxfBWMKn"
      },
      "outputs": [],
      "source": [
        "#test labels for our test set\n",
        "test_label = test_generator.labels"
      ]
    },
    {
      "cell_type": "code",
      "execution_count": null,
      "metadata": {
        "id": "yUONVOFRaAJi"
      },
      "outputs": [],
      "source": [
        "# converting test labels to one hot encoded\n",
        "test_label_o = to_categorical(test_label, num_classes=2)"
      ]
    },
    {
      "cell_type": "code",
      "execution_count": null,
      "metadata": {
        "colab": {
          "base_uri": "https://localhost:8080/"
        },
        "id": "yiZF7BPyaFuA",
        "outputId": "a8139438-5bb7-495b-dbe8-dadde93b021c"
      },
      "outputs": [
        {
          "output_type": "stream",
          "name": "stdout",
          "text": [
            "10/10 [==============================] - 5s 202ms/step\n"
          ]
        }
      ],
      "source": [
        "#teacher prediction\n",
        "y_pred_o = teacher_res.predict(test_generator, verbose=1)\n",
        "y_pred = np.argmax(y_pred_o,axis=1)"
      ]
    },
    {
      "cell_type": "code",
      "execution_count": null,
      "metadata": {
        "id": "0QJLeNA0bkDx"
      },
      "outputs": [],
      "source": [
        "y_pred_onehot=to_categorical(y_pred, num_classes=2)"
      ]
    },
    {
      "cell_type": "code",
      "execution_count": null,
      "metadata": {
        "colab": {
          "base_uri": "https://localhost:8080/"
        },
        "id": "tJs5la9Rauoo",
        "outputId": "d4ba4452-f424-4497-a8a2-836876ced63d"
      },
      "outputs": [
        {
          "name": "stdout",
          "output_type": "stream",
          "text": [
            "[0 0 1 0 0 0 0 0 0 0 0 0 0 0 0 0 0 1 0 0 1 0 0 0 0 0 0 0 0 0 0 1 0 0 0 0 0\n",
            " 1 0 0 0 0 0 0 1 0 0 0 0 1 0 0 0 1 0 0 0 0 0 1 0 0 0 0 0 0 0 0 0 0 0 0 0 0\n",
            " 0 0 0 0 0 0 0 0 1 0 0 0 0 0 0 0 0 0 0 0 0 0 0 0 0 0 0 1 0 0 1 0 0 1 0 0 1\n",
            " 0 0 1 0 0 0 1 0 0 0 0 1 0 0 0 0 0 1 0 0 0 0 0 0 0 0 0 0 0 0 0 1 0 0 0 0 0\n",
            " 0 0 0 0 0 0 0 0 0 0 0 0 1 1 0 0 0 0 0 0 0 0 0 0 0 1 0 1 0 0 0 0 0 0 1 0 0\n",
            " 0 0 0 0 0 0 0 0 0 0 0 0 0 0 0 0 0 0 0 0 0 0 0 0 0 0 0 0 0 0 0 0 0 0 0 0 0\n",
            " 0 0 0 0 0 0 0 0 0 0 0 0 0 0 0 0 0 0 1 0 0 1 0 0 0 0 0 0 0 0 0 0 0 0 0 0 0\n",
            " 0 0 0 0 0 0 0 0 0 1 0 0 0 0 0 0 0 1 0 0 0 0 0 0 0 1 0 0 1 0 0 0 0 0 0 0 0\n",
            " 0 0 0 0 0 0 0 0 0 0 0 0 1 0 0 0 0 0 0 0 0 1 0 0 0 0 0 0 0 1 0 0 1 0 0 0 0\n",
            " 0 0 0 0 0 0 0 0 0 0 0 0 0 0 1 0 0 0 0 1 0 0 0 0 0 0 0 1 0 0 0 1 0 0 0 0 1\n",
            " 0 0 0 1 0 0 0 0 1 0 0 0 0 0 0 0 0 0 0 1 0 0 1 0 0 1 0 0 0 0 0 0 0 0 0 0 1\n",
            " 0 1 0 0 0 0 0 0 0 0 0 0 0 1 0 0 0 0 0 0 0 0 0 0 1 0 0 0 0 0 0 0 0 0 0 0 0\n",
            " 0 0 0 0 0 0 0 0 0 0 0 1 0 0 0 0 0 0 0 0 0 0 0 0 0 0 0 0 0 0 0 0 0 0 0 1 1\n",
            " 0 0 0 0 0 0 0 0 0 1 1 0 0 1 0 0 0 1 0 0 0 0 0 1 0 0 1 0 0 0 0 0 0 0 1 0 0\n",
            " 0 0 0 1 0 1 0 0 0 0 0 0 0 0 1 0 0 0 0 0 0 0 0 0 0 0 0 0 0 1 0 0 1 0 1 0 1\n",
            " 0 0 0 0 1 0 0 1 0 0 0 0 0 0 0 0 0 0 0 0 0 0 0 0 0 0 1 1 0 0 0 0 0 0 0 0 0\n",
            " 0 0 0 1 0 1 0 0 0 0 0 0 0 0 0 0 0 0 0 0 0 0 0 1 0 0 0 0 0 0 0 0 1 0 0 0 0\n",
            " 0 0 0 0 0 1 0 0 1 0 1 0 0 0 0 0 1 1 0 1 0 0 1 0 0 1 0 1 0 0 0 0 0 0 0 1 0\n",
            " 0 0 0 0 0 0 1 0 0 1 1 0 0 0 0 0 1 1 1 0 0 0 0 0 0 0 0 0 0 0 0 0 0 0 0 0 0\n",
            " 0 0 0 0 0 0 1 1 0 0 0 1 0 0 1 1 0 1 0 1 1 1 1 0 1 1 0 1 1 0 0 1 1 1 0 1 1\n",
            " 0 0 1 1 1 0 0 0 1 1 1 1 1 0 1 1 0 1 1 1 0 1 1 1 0 0 1 0 1 1 0 1 0 1 1 1 0\n",
            " 1 1 0 1 1 1 1 1 1 1 0 1 0 0 1 1 0 1 1 1 1 1 1 1 1 1 1 1 1 1 1 1 1 1 1 1 1\n",
            " 1 1 1 1 1 1 1 0 1 1 1 1 1 0 0 0 1 0 1 0 1 0 1 0 1 1 1 1 1 1 0 1 1 1 1 0 1\n",
            " 1 1 1 1 1 0 1 1 1 0 1 1 1 1 1 0 1 1 1 1 0 1 1 1 1 1 0 1 1 0 1 1 1 0 1 1 1\n",
            " 1 1 1 0 1 0 1 1 0 1 1 1 0 0 1 1 1 1 1 1 1 1 1 1 1 1 1 1 0 1 1 0 1 1 1 1 1\n",
            " 1 1 1 1 1 1 1 1 1 1 0 1 0 1 1 0 1 0 1 1 1 1 0 0 0 1 1 1 1 1 1 1 1 1 1 0 1\n",
            " 1 1 0 1 0 1 0 0 0 1 1 1 1 1 1]\n"
          ]
        }
      ],
      "source": [
        "print (y_pred)"
      ]
    },
    {
      "cell_type": "code",
      "execution_count": null,
      "metadata": {
        "colab": {
          "base_uri": "https://localhost:8080/"
        },
        "id": "rHPZ2vF1ajWI",
        "outputId": "ccc013a2-a22d-498e-903b-107e91be967a"
      },
      "outputs": [
        {
          "output_type": "stream",
          "name": "stdout",
          "text": [
            "Evaluating the teacher\n",
            "Precision:  0.77011496\n",
            "Recall:  0.65686274\n",
            "F1_score:  0.7089947032485918\n"
          ]
        }
      ],
      "source": [
        "# Precision, Recall, and F-1 score on the test set using teacher model\n",
        "\n",
        "precision_obj = tf.keras.metrics.Precision()\n",
        "precision_obj.update_state(test_label, y_pred)\n",
        "precision = precision_obj.result().numpy()\n",
        "\n",
        "\n",
        "recall_obj = tf.keras.metrics.Recall()\n",
        "recall_obj.update_state(test_label,  y_pred)\n",
        "recall = recall_obj.result().numpy()\n",
        "\n",
        "\n",
        "f1_score = 2*(precision*recall)/(recall+precision)\n",
        "print(\"Evaluating the teacher\")\n",
        "print('Precision: ',precision)\n",
        "print('Recall: ',recall)\n",
        "print('F1_score: ',f1_score)"
      ]
    },
    {
      "cell_type": "code",
      "execution_count": null,
      "metadata": {
        "colab": {
          "base_uri": "https://localhost:8080/"
        },
        "id": "XTLr-0m43kZK",
        "outputId": "1318ce0f-7fa2-430d-f34f-4607c62e3b57"
      },
      "outputs": [
        {
          "name": "stdout",
          "output_type": "stream",
          "text": [
            "31/31 [==============================] - 4s 123ms/step\n",
            "Evaluating the student with KD\n",
            "Precision:  0.88839287\n",
            "Recall:  0.55277777\n",
            "F1_score:  0.6815068238201084\n"
          ]
        }
      ],
      "source": [
        "# Precision, Recall, and F-1 score on the test set using student model with KD\n",
        "\n",
        "y_pred_o = student_mobile.predict(test_generator, verbose=1)\n",
        "y_pred = np.argmax(y_pred_o,axis=1)\n",
        "\n",
        "precision_obj = tf.keras.metrics.Precision()\n",
        "precision_obj.update_state(test_label, y_pred)\n",
        "precision = precision_obj.result().numpy()\n",
        "\n",
        "\n",
        "recall_obj = tf.keras.metrics.Recall()\n",
        "recall_obj.update_state(test_label,  y_pred)\n",
        "recall = recall_obj.result().numpy()\n",
        "\n",
        "\n",
        "f1_score = 2*(precision*recall)/(recall+precision)\n",
        "print(\"Evaluating the student with KD\")\n",
        "print('Precision: ',precision)\n",
        "print('Recall: ',recall)\n",
        "print('F1_score: ',f1_score)"
      ]
    },
    {
      "cell_type": "code",
      "execution_count": null,
      "metadata": {
        "colab": {
          "base_uri": "https://localhost:8080/"
        },
        "id": "zXphA3ygWLLH",
        "outputId": "c754216c-1b76-4b23-db09-b00980cdb17c"
      },
      "outputs": [
        {
          "name": "stdout",
          "output_type": "stream",
          "text": [
            "31/31 [==============================] - 5s 177ms/step\n",
            "Evaluating the student without KD\n",
            "Precision:  0.875\n",
            "Recall:  0.175\n",
            "F1_score:  0.29166668558877695\n"
          ]
        }
      ],
      "source": [
        "# Precision, Recall, and F-1 score on the test set using student model without KD\n",
        "\n",
        "y_pred_o = mobilenet_no_kd.predict(test_generator, verbose=1)\n",
        "y_pred = np.argmax(y_pred_o,axis=1)\n",
        "\n",
        "precision_obj = tf.keras.metrics.Precision()\n",
        "precision_obj.update_state(test_label, y_pred)\n",
        "precision = precision_obj.result().numpy()\n",
        "\n",
        "\n",
        "recall_obj = tf.keras.metrics.Recall()\n",
        "recall_obj.update_state(test_label,  y_pred)\n",
        "recall = recall_obj.result().numpy()\n",
        "\n",
        "\n",
        "f1_score = 2*(precision*recall)/(recall+precision)\n",
        "print(\"Evaluating the student without KD\")\n",
        "print('Precision: ',precision)\n",
        "print('Recall: ',recall)\n",
        "print('F1_score: ',f1_score)"
      ]
    },
    {
      "cell_type": "code",
      "source": [
        "# Precision, Recall, and F-1 score on the test set using student model without KD\n",
        "\n",
        "y_pred_o = mobilenet_no_kd.predict(test_generator, verbose=1)\n",
        "y_pred = np.argmax(y_pred_o,axis=1)\n",
        "\n",
        "precision_obj = tf.keras.metrics.Precision()\n",
        "precision_obj.update_state(test_label, y_pred)\n",
        "precision = precision_obj.result().numpy()\n",
        "\n",
        "\n",
        "recall_obj = tf.keras.metrics.Recall()\n",
        "recall_obj.update_state(test_label,  y_pred)\n",
        "recall = recall_obj.result().numpy()\n",
        "\n",
        "\n",
        "f1_score = 2*(precision*recall)/(recall+precision)\n",
        "print(\"Evaluating the student without KD\")\n",
        "print('Precision: ',precision)\n",
        "print('Recall: ',recall)\n",
        "print('F1_score: ',f1_score)"
      ],
      "metadata": {
        "colab": {
          "base_uri": "https://localhost:8080/"
        },
        "id": "D2rkI78myFah",
        "outputId": "6d5614d9-3d30-4ffa-b20d-9c9e03b00d36"
      },
      "execution_count": null,
      "outputs": [
        {
          "output_type": "stream",
          "name": "stdout",
          "text": [
            "10/10 [==============================] - 2s 157ms/step\n",
            "Evaluating the student without KD\n",
            "Precision:  0.83870965\n",
            "Recall:  0.50980395\n",
            "F1_score:  0.6341463587122945\n"
          ]
        }
      ]
    },
    {
      "cell_type": "markdown",
      "metadata": {
        "id": "cYsfOXv2oHe6"
      },
      "source": [
        "#Graph"
      ]
    },
    {
      "cell_type": "code",
      "source": [
        "def train_and_evaluate_kd_graph(model, compute_loss_fn, ALPHA=0.9, DISTILLATION_TEMPERATURE=8.):\n",
        "  \"\"\"Perform training and evaluation for a given model.\n",
        "\n",
        "  Args:\n",
        "    model: Instance of tf.keras.Model.\n",
        "    compute_loss_fn: A function that computes the training loss given the\n",
        "      images, and labels.\n",
        "  \"\"\"\n",
        "\n",
        "  # your code start from here for step 4\n",
        "  optimizer = tf.keras.optimizers.Adam(learning_rate=0.001)\n",
        "\n",
        "  for epoch in range(1, 10 + 1):\n",
        "    # Run training.\n",
        "    print('Epoch {}: '.format(epoch), end='')\n",
        "    train_generator.reset()\n",
        "    for _ in range(68):\n",
        "      images, labels=train_generator.next()\n",
        "      with tf.GradientTape() as tape:\n",
        "         # your code start from here for step 4\n",
        "\n",
        "        loss_value = compute_loss_fn(images,labels, ALPHA, DISTILLATION_TEMPERATURE)\n",
        "\n",
        "      grads = tape.gradient(loss_value, model.trainable_variables)\n",
        "      optimizer.apply_gradients(zip(grads, model.trainable_variables))\n",
        "\n",
        "    # Run evaluation.\n",
        "    num_correct = 0\n",
        "    num_total = 0\n",
        "    for _ in range(31):\n",
        "      # your code start from here for step 4\n",
        "      images, labels=test_generator.next()\n",
        "      num_total+= len(labels)\n",
        "      num_correct += compute_num_correct(model,images,labels)[0] \n",
        "    print(\"Class_accuracy: \" + '{:.2f}%'.format(\n",
        "        num_correct / num_total * 100))\n",
        "  \n",
        "  #fine tuning was removed due to compute time\n",
        " "
      ],
      "metadata": {
        "id": "tfictPJ0WTL-"
      },
      "execution_count": null,
      "outputs": []
    },
    {
      "cell_type": "code",
      "execution_count": null,
      "metadata": {
        "id": "W6lhJf4Fl8Ga",
        "colab": {
          "base_uri": "https://localhost:8080/"
        },
        "outputId": "1054abf5-fa76-49dc-bfa7-d1f57c1cac01"
      },
      "outputs": [
        {
          "output_type": "stream",
          "name": "stdout",
          "text": [
            "temp= 1\n",
            "Epoch 1: Class_accuracy: 63.25%\n",
            "Epoch 2: Class_accuracy: 63.25%\n",
            "Epoch 3: Class_accuracy: 63.66%\n",
            "Epoch 4: Class_accuracy: 74.31%\n",
            "Epoch 5: Class_accuracy: 78.71%\n",
            "Epoch 6: Class_accuracy: 75.95%\n",
            "Epoch 7: Class_accuracy: 80.76%\n",
            "Epoch 8: Class_accuracy: 81.58%\n",
            "Epoch 9: Class_accuracy: 76.46%\n",
            "Epoch 10: Class_accuracy: 77.58%\n",
            "31/31 [==============================] - 7s 161ms/step\n",
            "Evaluating the student with KD\n",
            "Precision:  0.83732057\n",
            "Recall:  0.4861111\n",
            "F1_score:  0.6151141937081992\n",
            "temp= 2\n",
            "Epoch 1: Class_accuracy: 65.61%\n",
            "Epoch 2: Class_accuracy: 68.17%\n",
            "Epoch 3: Class_accuracy: 67.76%\n",
            "Epoch 4: Class_accuracy: 77.99%\n",
            "Epoch 5: Class_accuracy: 73.69%\n",
            "Epoch 6: Class_accuracy: 75.95%\n",
            "Epoch 7: Class_accuracy: 79.02%\n",
            "Epoch 8: Class_accuracy: 80.66%\n",
            "Epoch 9: Class_accuracy: 78.30%\n",
            "Epoch 10: Class_accuracy: 75.13%\n",
            "31/31 [==============================] - 5s 139ms/step\n",
            "Evaluating the student with KD\n",
            "Precision:  0.6186613\n",
            "Recall:  0.8472222\n",
            "F1_score:  0.715123103539301\n",
            "temp= 4\n",
            "Epoch 1: Class_accuracy: 63.36%\n",
            "Epoch 2: Class_accuracy: 63.36%\n",
            "Epoch 3: Class_accuracy: 65.71%\n",
            "Epoch 4: Class_accuracy: 71.24%\n",
            "Epoch 5: Class_accuracy: 78.71%\n",
            "Epoch 6: Class_accuracy: 76.05%\n",
            "Epoch 7: Class_accuracy: 79.22%\n",
            "Epoch 8: Class_accuracy: 77.28%\n",
            "Epoch 9: Class_accuracy: 76.15%\n",
            "Epoch 10: Class_accuracy: 76.77%\n",
            "31/31 [==============================] - 5s 143ms/step\n",
            "Evaluating the student with KD\n",
            "Precision:  0.88439304\n",
            "Recall:  0.425\n",
            "F1_score:  0.5741088047734952\n",
            "temp= 16\n",
            "Epoch 1: Class_accuracy: 63.77%\n",
            "Epoch 2: Class_accuracy: 65.81%\n",
            "Epoch 3: Class_accuracy: 67.04%\n",
            "Epoch 4: Class_accuracy: 77.28%\n",
            "Epoch 5: Class_accuracy: 78.10%\n",
            "Epoch 6: Class_accuracy: 72.26%\n",
            "Epoch 7: Class_accuracy: 65.81%\n",
            "Epoch 8: Class_accuracy: 78.71%\n",
            "Epoch 9: Class_accuracy: 81.47%\n",
            "Epoch 10: Class_accuracy: 80.35%\n",
            "31/31 [==============================] - 5s 145ms/step\n",
            "Evaluating the student with KD\n",
            "Precision:  0.78571427\n",
            "Recall:  0.64166665\n",
            "F1_score:  0.7064220290754626\n",
            "temp= 32\n",
            "Epoch 1: Class_accuracy: 64.38%\n",
            "Epoch 2: Class_accuracy: 53.63%\n",
            "Epoch 3: Class_accuracy: 80.86%\n",
            "Epoch 4: Class_accuracy: 76.66%\n",
            "Epoch 5: Class_accuracy: 75.44%\n",
            "Epoch 6: Class_accuracy: 76.15%\n",
            "Epoch 7: Class_accuracy: 77.48%\n",
            "Epoch 8: Class_accuracy: 77.89%\n",
            "Epoch 9: Class_accuracy: 76.25%\n",
            "Epoch 10: Class_accuracy: 79.63%\n",
            "31/31 [==============================] - 5s 146ms/step\n",
            "Evaluating the student with KD\n",
            "Precision:  0.7948718\n",
            "Recall:  0.6027778\n",
            "F1_score:  0.6856240618870121\n",
            "temp= 64\n",
            "Epoch 1: Class_accuracy: 64.69%\n",
            "Epoch 2: Class_accuracy: 64.48%\n",
            "Epoch 3: Class_accuracy: 64.69%\n",
            "Epoch 4: Class_accuracy: 78.61%\n",
            "Epoch 5: Class_accuracy: 80.35%\n",
            "Epoch 6: Class_accuracy: 66.02%\n",
            "Epoch 7: Class_accuracy: 77.89%\n",
            "Epoch 8: Class_accuracy: 67.25%\n",
            "Epoch 9: Class_accuracy: 68.27%\n",
            "Epoch 10: Class_accuracy: 63.87%\n",
            "31/31 [==============================] - 5s 143ms/step\n",
            "Evaluating the student with KD\n",
            "Precision:  0.73333335\n",
            "Recall:  0.030555556\n",
            "F1_score:  0.058666669813791886\n"
          ]
        }
      ],
      "source": [
        "temps=[1,2,4,16,32,64]\n",
        "ALPHA=0.5\n",
        "accuracy=[]\n",
        "for i in range(6):\n",
        "  print('temp=',temps[i])\n",
        "  mobilenet=tf.keras.applications.MobileNetV2(\n",
        "    include_top=False,\n",
        "    input_shape=(224, 224, 3),\n",
        "    alpha=1.0,\n",
        "    weights=\"imagenet\",\n",
        "    input_tensor=None,\n",
        "    pooling='max',\n",
        "  )\n",
        "  count=0\n",
        "  for layers in mobilenet.layers:\n",
        "    count+=1\n",
        "    if count> 151:\n",
        "      continue\n",
        "    if(layers.name[0:8]== 'block_16' ):\n",
        "      continue\n",
        "    else:\n",
        "      layers.trainable=False\n",
        "\n",
        "  student_mobile=tf.keras.Sequential([mobilenet,Dense(units=2, activation='linear')])\n",
        "\n",
        "  DISTILLATION_TEMPERATURE=temps[i]\n",
        "\n",
        "  train_and_evaluate_kd_graph(student_mobile, compute_student_loss, ALPHA,  DISTILLATION_TEMPERATURE)\n",
        "  y_pred_o = student_mobile.predict(test_generator, verbose=1)\n",
        "  y_pred = np.argmax(y_pred_o,axis=1)\n",
        "\n",
        "  precision_obj = tf.keras.metrics.Precision()\n",
        "  precision_obj.update_state(test_label, y_pred)\n",
        "  precision = precision_obj.result().numpy()\n",
        "\n",
        "\n",
        "  recall_obj = tf.keras.metrics.Recall()\n",
        "  recall_obj.update_state(test_label,  y_pred)\n",
        "  recall = recall_obj.result().numpy()\n",
        "\n",
        "\n",
        "  f1_score = 2*(precision*recall)/(recall+precision)\n",
        "  print(\"Evaluating the student with KD\")\n",
        "  print('Precision: ',precision)\n",
        "  print('Recall: ',recall)\n",
        "  print('F1_score: ',f1_score)\n",
        "  accuracy.append(f1_score)"
      ]
    },
    {
      "cell_type": "code",
      "source": [
        "#ploting Test accuracy(F1 score) vs. tempreture curve\n",
        "plt.plot(temps, accuracy)\n",
        "plt.title('Test performance vs. tempreture curve')\n",
        "plt.xlabel('Temperture')\n",
        "plt.ylabel('F1 score')\n",
        "plt.show()"
      ],
      "metadata": {
        "id": "xJkeX4-gm5zX",
        "colab": {
          "base_uri": "https://localhost:8080/",
          "height": 294
        },
        "outputId": "298d13f6-8127-4d26-ec91-f54db4045c83"
      },
      "execution_count": null,
      "outputs": [
        {
          "output_type": "display_data",
          "data": {
            "text/plain": [
              "<Figure size 432x288 with 1 Axes>"
            ],
            "image/png": "[encoded data removed]"
          },
          "metadata": {
            "needs_background": "light"
          }
        }
      ]
    },
    {
      "cell_type": "markdown",
      "metadata": {
        "id": "ucjW0EtUyQ92"
      },
      "source": [
        "#Comparing the teacher and student model (number of of parameters and FLOPs)"
      ]
    },
    {
      "cell_type": "code",
      "execution_count": null,
      "metadata": {
        "id": "INBsTZ2IyWZD"
      },
      "outputs": [],
      "source": [
        "import tensorflow as tf\n",
        "from tensorflow.python.profiler.model_analyzer import profile\n",
        "from tensorflow.python.profiler.option_builder import ProfileOptionBuilder\n",
        "import numpy as np\n",
        "\n",
        "def get_flops(model):\n",
        " \n",
        "  forward_pass = tf.function(model.call,input_signature=[tf.TensorSpec(shape=(1,) + model.input_shape[1:])])\n",
        "  graph_info = profile(forward_pass.get_concrete_function().graph,\n",
        "                          options=ProfileOptionBuilder.float_operation())\n",
        "\n",
        "  # The //2 is important since `profile` counts multiply and accumulate as two flops\n",
        "  # We have calculated the total number of multiply accumulate ops\n",
        "  flops = graph_info.total_float_ops // 2\n",
        "  # Calculate no. of model parameters including trainable and non-trainable parameters\n",
        "  trainableParams = np.sum([np.prod(v.get_shape()) for v in model.trainable_weights])\n",
        "  nonTrainableParams = np.sum([np.prod(v.get_shape()) for v in model.non_trainable_weights])\n",
        "  totalParams = trainableParams + nonTrainableParams\n",
        "\n",
        "  return flops,trainableParams,nonTrainableParams,totalParams"
      ]
    },
    {
      "cell_type": "code",
      "execution_count": null,
      "metadata": {
        "colab": {
          "base_uri": "https://localhost:8080/"
        },
        "id": "fHjLa0OUyXKx",
        "outputId": "c4c72c7b-6d4b-4cc2-8a97-527ef16053c6"
      },
      "outputs": [
        {
          "name": "stdout",
          "output_type": "stream",
          "text": [
            "WARNING:tensorflow:From /usr/local/lib/python3.7/dist-packages/tensorflow/python/ops/nn_ops.py:5214: tensor_shape_from_node_def_name (from tensorflow.python.framework.graph_util_impl) is deprecated and will be removed in a future version.\n",
            "Instructions for updating:\n",
            "Use `tf.compat.v1.graph_util.tensor_shape_from_node_def_name`\n",
            "Flops for teacher model: 3,484,727,297\n",
            "Total Parameters for teacher model: 23,568,898\n"
          ]
        }
      ],
      "source": [
        "#Calculating FLOPs and no. of parameters for the teacher model\n",
        "\n",
        "flops_teacher,teacher_trainableParams,teacher_nonTrainableParams,teacher_totalParams = get_flops(teacher_res)\n",
        "print('Flops for teacher model: {:,}'.format(flops_teacher))\n",
        "print('Total Parameters for teacher model: {:,}'.format(teacher_totalParams))"
      ]
    },
    {
      "cell_type": "code",
      "execution_count": null,
      "metadata": {
        "colab": {
          "base_uri": "https://localhost:8080/"
        },
        "id": "aRj3HCS8yaSH",
        "outputId": "5665c2dc-7867-4366-d6bd-77618b595edc"
      },
      "outputs": [
        {
          "name": "stdout",
          "output_type": "stream",
          "text": [
            "Flops for student model with KD: 299,496,833\n",
            "Total Parameters for student model with KD: 2,260,546\n"
          ]
        }
      ],
      "source": [
        "#Calculating FLOPs and no. of parameters for the student model\n",
        "\n",
        "flops_student,student_trainableParams,student_nonTrainableParams,student_totalParams = get_flops(student_mobile)\n",
        "print('Flops for student model with KD: {:,}'.format(flops_student))\n",
        "print('Total Parameters for student model with KD: {:,}'.format(student_totalParams))"
      ]
    },
    {
      "cell_type": "markdown",
      "metadata": {
        "id": "7fKFVXltLQl-"
      },
      "source": [
        "# XAI method to explain models"
      ]
    },
    {
      "cell_type": "markdown",
      "metadata": {
        "id": "h3QIJy2OLXDk"
      },
      "source": [
        "## Saliency Map using Vanilla Gradients Explanations"
      ]
    },
    {
      "cell_type": "code",
      "execution_count": null,
      "metadata": {
        "id": "EIjiTQy_LaN1"
      },
      "outputs": [],
      "source": [
        "class SaliencyMap():\n",
        "    def __init__(self, model):\n",
        "        \"\"\"Constructs a Vanilla Gradient Map by computing dy/dx.\n",
        "\n",
        "        Args:\n",
        "            model: The TensorFlow model used to evaluate Gradient Map.\n",
        "                model takes image as input and outputs probabilities vector.\n",
        "        \"\"\"\n",
        "        self.model = model\n",
        "\n",
        "\n",
        "    def get_top_predicted_idx(self, image):\n",
        "        \"\"\"Outputs top predicted class for the input image.\n",
        "\n",
        "        Args:\n",
        "            img_processed: numpy image array in NHWC format, pre-processed according\n",
        "                to the defined model standard.\n",
        "\n",
        "        Returns:\n",
        "            Index of the top predicted class for the input image.\n",
        "        \"\"\"\n",
        "        preds = self.model.predict(image)\n",
        "        top_pred_idx = tf.argmax(preds[0])\n",
        "        return top_pred_idx\n",
        "\n",
        "\n",
        "    def get_gradients(self, image):\n",
        "        \"\"\"Computes the gradients of outputs w.r.t input image.\n",
        "\n",
        "        Args:\n",
        "            image: numpy image array in NHWC format, pre-processed according\n",
        "                to the defined model standard.\n",
        "\n",
        "        Returns:\n",
        "            Gradients of the predictions w.r.t image (same shape as input image)\n",
        "        \"\"\"\n",
        "        image = tf.convert_to_tensor(image)\n",
        "        top_pred_idx = self.get_top_predicted_idx(image)\n",
        "\n",
        "        with tf.GradientTape() as tape:\n",
        "            tape.watch(image)\n",
        "            preds = self.model(image)\n",
        "            top_class = preds[:, top_pred_idx]\n",
        "\n",
        "        grads = tape.gradient(top_class, image)\n",
        "        return grads\n",
        "\n",
        "\n",
        "    def norm_grad(self, grad_x):\n",
        "        \"\"\"Normalizes gradient to the range between 0 and 1\n",
        "        (for visualization purposes).\n",
        "\n",
        "        Args:\n",
        "            grad_x: numpy gradients array.\n",
        "\n",
        "        Returns:\n",
        "            Gradients of the predictions w.r.t image (same shape as input image)\n",
        "        \"\"\"\n",
        "        abs_grads = np.abs(grad_x)\n",
        "        grad_max_ = np.max(abs_grads, axis=3)[0]\n",
        "        arr_min, arr_max  = np.min(grad_max_), np.max(grad_max_)\n",
        "        normalized_grad = (grad_max_ - arr_min) / (arr_max - arr_min + 1e-18)\n",
        "        normalized_grad = normalized_grad.reshape(1,grad_x.shape[1],grad_x.shape[2],1)\n",
        "\n",
        "        return normalized_grad"
      ]
    },
    {
      "cell_type": "code",
      "execution_count": null,
      "metadata": {
        "colab": {
          "base_uri": "https://localhost:8080/"
        },
        "id": "stkofZq7Lcke",
        "outputId": "4fb98954-43ba-490a-ad9e-67300395b3db"
      },
      "outputs": [
        {
          "name": "stdout",
          "output_type": "stream",
          "text": [
            "(1, 224, 224, 3)\n"
          ]
        }
      ],
      "source": [
        "#Obtaining sample image\n",
        "sample_image = test_generator[0][0]\n",
        "sample_test = np.expand_dims(sample_image[0,:,:,:],axis=0)\n",
        "print(sample_test.shape)\n",
        "\n",
        "#Generating Saliency Map Explanation for Teacher Model \n",
        "S=SaliencyMap(teacher_res)\n",
        "norm_gradient_squeezed_final_teacher = np.squeeze(np.squeeze(S.norm_grad(S.get_gradients(sample_test)),axis=3),axis=0)\n",
        "\n",
        "#Generating Saliency Map Explanation for Student Model with kD\n",
        "S=SaliencyMap(student_mobile)\n",
        "norm_gradient_squeezed_final_student_with_KD = np.squeeze(np.squeeze(S.norm_grad(S.get_gradients(sample_test)),axis=3),axis=0)\n",
        "\n",
        "#Generating Saliency Map Explanation for Student Model without KD \n",
        "S=SaliencyMap(mobilenet_no_kd)\n",
        "norm_gradient_squeezed_final_student_without_KD = np.squeeze(np.squeeze(S.norm_grad(S.get_gradients(sample_test)),axis=3),axis=0)"
      ]
    },
    {
      "cell_type": "code",
      "execution_count": null,
      "metadata": {
        "colab": {
          "base_uri": "https://localhost:8080/",
          "height": 307
        },
        "id": "ckICZwyRLevJ",
        "outputId": "aefd4dff-4fee-4650-c321-b2c867999497"
      },
      "outputs": [
        {
          "data": {
            "image/png": "[encoded data removed]",
            "text/plain": [
              "<Figure size 1440x360 with 4 Axes>"
            ]
          },
          "metadata": {},
          "output_type": "display_data"
        }
      ],
      "source": [
        "import matplotlib.pyplot as plt\n",
        "plt.figure(figsize=(20, 5))\n",
        "\n",
        "plt.subplot(141)\n",
        "plt.title('Input Image')\n",
        "plt.imshow(sample_image[0,:,:,:])\n",
        "\n",
        "plt.subplot(142)\n",
        "plt.imshow(norm_gradient_squeezed_final_teacher)\n",
        "plt.title('Explanation Map for Teacher Model')\n",
        "\n",
        "plt.subplot(143)\n",
        "plt.imshow(norm_gradient_squeezed_final_student_with_KD)\n",
        "plt.title('Explanation Map for Student with KD Model')\n",
        "\n",
        "plt.subplot(144)\n",
        "plt.imshow(norm_gradient_squeezed_final_student_without_KD)\n",
        "plt.title('Explanation Map for Student without KD Model')\n",
        "\n",
        "plt.show()"
      ]
    },
    {
      "cell_type": "markdown",
      "metadata": {
        "id": "nSgPvajRgh7l"
      },
      "source": [
        "# Implementing the state-of-the-art KD algorithm using fitnets"
      ]
    },
    {
      "cell_type": "markdown",
      "source": [
        "\n",
        "## Experimentation Dataset\n",
        "Again dataset was loaded as we faced some OOM issues with the previous batch size. Hence, Implemented fitnets with reduced batch size of the dataset."
      ],
      "metadata": {
        "id": "RWYj2s2oDQaC"
      }
    },
    {
      "cell_type": "code",
      "execution_count": null,
      "metadata": {
        "id": "VGSAnTszDT0p"
      },
      "outputs": [],
      "source": [
        "image_table=pd.read_csv('annotations.csv') #D:/FILES/University of Toronto/Subjects/Winter 2022/Digital Image processing/Project B/Project_B_Supp/mhist_dataset/"
      ]
    },
    {
      "cell_type": "code",
      "execution_count": null,
      "metadata": {
        "colab": {
          "base_uri": "https://localhost:8080/"
        },
        "outputId": "6793dfc0-f2a2-43b0-d4d4-29633623b84c",
        "id": "SO5n8xFSDT0r"
      },
      "outputs": [
        {
          "output_type": "stream",
          "name": "stdout",
          "text": [
            "(2175, 4)\n"
          ]
        }
      ],
      "source": [
        "train_set=image_table.loc[image_table['Partition'] == 'train']\n",
        "print(train_set.shape)"
      ]
    },
    {
      "cell_type": "code",
      "execution_count": null,
      "metadata": {
        "colab": {
          "base_uri": "https://localhost:8080/"
        },
        "outputId": "099617a1-3e7a-47c2-f975-22b19cfe2437",
        "id": "d2xtZUa0DT0t"
      },
      "outputs": [
        {
          "output_type": "stream",
          "name": "stdout",
          "text": [
            "(977, 4)\n"
          ]
        }
      ],
      "source": [
        "test_set=image_table.loc[image_table['Partition'] == 'test']\n",
        "print(test_set.shape)"
      ]
    },
    {
      "cell_type": "code",
      "execution_count": null,
      "metadata": {
        "id": "l_zJ4gdxDT0u"
      },
      "outputs": [],
      "source": [
        "image_dir = '/content/drive/My Drive/mhist_dataset/images'  #you should change to your directory #D:/FILES/University of Toronto/Subjects/Winter 2022/Digital Image processing/Project B/Project_B_Supp/mhist_dataset/images"
      ]
    },
    {
      "cell_type": "code",
      "execution_count": null,
      "metadata": {
        "id": "RPtblBR_DT0v"
      },
      "outputs": [],
      "source": [
        "train_datagen = ImageDataGenerator(rescale=1/255.,\n",
        "shear_range=0.1,\n",
        "rotation_range=15,\n",
        "horizontal_flip=True,\n",
        "vertical_flip=True)\n",
        "\n",
        "test_datagen = ImageDataGenerator(rescale=1/255.)"
      ]
    },
    {
      "cell_type": "code",
      "execution_count": null,
      "metadata": {
        "colab": {
          "base_uri": "https://localhost:8080/"
        },
        "outputId": "d08610e3-874b-466d-e84e-e2873459f8c0",
        "id": "zPfsu3BxDT0w"
      },
      "outputs": [
        {
          "output_type": "stream",
          "name": "stdout",
          "text": [
            "Found 489 validated image filenames belonging to 2 classes.\n"
          ]
        },
        {
          "output_type": "stream",
          "name": "stderr",
          "text": [
            "/usr/local/lib/python3.7/dist-packages/keras_preprocessing/image/dataframe_iterator.py:282: UserWarning: Found 1686 invalid image filename(s) in x_col=\"Image Name\". These filename(s) will be ignored.\n",
            "  .format(n_invalid, x_col)\n"
          ]
        }
      ],
      "source": [
        "train_generator=train_datagen.flow_from_dataframe(\n",
        "dataframe=train_set,\n",
        "directory=image_dir,\n",
        "x_col=\"Image Name\",\n",
        "y_col=\"Majority Vote Label\",\n",
        "batch_size=24,\n",
        "seed=42,\n",
        "shuffle=True,\n",
        "interpolation='bilinear',\n",
        "class_mode=\"categorical\",\n",
        "target_size=(224, 224))"
      ]
    },
    {
      "cell_type": "code",
      "execution_count": null,
      "metadata": {
        "colab": {
          "base_uri": "https://localhost:8080/"
        },
        "outputId": "96d0780a-d5e5-4061-d7a5-686960f8a7a6",
        "id": "EYArYtolDT0y"
      },
      "outputs": [
        {
          "output_type": "stream",
          "name": "stdout",
          "text": [
            "Found 300 validated image filenames belonging to 2 classes.\n"
          ]
        },
        {
          "output_type": "stream",
          "name": "stderr",
          "text": [
            "/usr/local/lib/python3.7/dist-packages/keras_preprocessing/image/dataframe_iterator.py:282: UserWarning: Found 677 invalid image filename(s) in x_col=\"Image Name\". These filename(s) will be ignored.\n",
            "  .format(n_invalid, x_col)\n"
          ]
        }
      ],
      "source": [
        "test_generator=test_datagen.flow_from_dataframe(\n",
        "dataframe=test_set,\n",
        "directory=image_dir,\n",
        "x_col=\"Image Name\",\n",
        "y_col=\"Majority Vote Label\",\n",
        "seed=42,\n",
        "class_mode='categorical',\n",
        "interpolation='bilinear',\n",
        "target_size=(224, 224),\n",
        "batch_size=24,\n",
        "shuffle=False)"
      ]
    },
    {
      "cell_type": "markdown",
      "source": [
        "## Fitnets KD Implementation with Transfer Learning"
      ],
      "metadata": {
        "id": "jY30ZBXRDWzF"
      }
    },
    {
      "cell_type": "markdown",
      "source": [
        "### Model Creation with Fitnets setup"
      ],
      "metadata": {
        "id": "OH6FkIwLi5co"
      }
    },
    {
      "cell_type": "code",
      "execution_count": null,
      "metadata": {
        "id": "Q-BdjrJY9q8o"
      },
      "outputs": [],
      "source": [
        "resnet_fitnets=tf.keras.applications.ResNet50V2(\n",
        "    include_top=False,\n",
        "    weights=\"imagenet\",\n",
        "    input_tensor=None,\n",
        "    input_shape=(224, 224, 3),\n",
        "    pooling='avg',\n",
        ")"
      ]
    },
    {
      "cell_type": "code",
      "execution_count": null,
      "metadata": {
        "colab": {
          "base_uri": "https://localhost:8080/"
        },
        "outputId": "d1ca563f-a3e2-4a31-fa49-1c424c237896",
        "id": "fg2MTcMy9q8x"
      },
      "outputs": [
        {
          "output_type": "stream",
          "name": "stdout",
          "text": [
            "191\n"
          ]
        }
      ],
      "source": [
        "count=0\n",
        "for layers in resnet_fitnets.layers:\n",
        "  count+=1\n",
        "  if count== 191:\n",
        "    continue\n",
        "  if(layers.name[0:5]== 'conv5' or layers.name[0:5]== 'post_'):\n",
        "    continue\n",
        "  else:\n",
        "    layers.trainable=False\n",
        "print(count)"
      ]
    },
    {
      "cell_type": "code",
      "execution_count": null,
      "metadata": {
        "id": "XjYAhHpz-D_6"
      },
      "outputs": [],
      "source": [
        "mobilenet_fitnets=tf.keras.applications.MobileNetV2(\n",
        "    include_top=False,\n",
        "    input_shape=(224, 224, 3),\n",
        "    alpha=1.0,\n",
        "    weights=\"imagenet\",\n",
        "    input_tensor=None,\n",
        "    pooling='max',\n",
        ")"
      ]
    },
    {
      "cell_type": "code",
      "execution_count": null,
      "metadata": {
        "colab": {
          "base_uri": "https://localhost:8080/"
        },
        "outputId": "ca83f9d0-464f-450a-f05d-4bda80284e5f",
        "id": "UtaZg9iD-D_7"
      },
      "outputs": [
        {
          "output_type": "stream",
          "name": "stdout",
          "text": [
            "155\n"
          ]
        }
      ],
      "source": [
        "count=0\n",
        "for layers in mobilenet_fitnets.layers:\n",
        "  count+=1\n",
        "  if count> 151:\n",
        "    continue\n",
        "  if(layers.name[0:8]== 'block_16' ):\n",
        "    continue\n",
        "  else:\n",
        "    layers.trainable=False\n",
        "print(count)"
      ]
    },
    {
      "cell_type": "code",
      "execution_count": null,
      "metadata": {
        "id": "-iGoDbv7gj9h"
      },
      "outputs": [],
      "source": [
        "#Model Creation for student baby till the guided layer\n",
        "student_baby =  tf.keras.Sequential([mobilenet_fitnets,Dense(units=2048, activation='linear')])\n",
        "\n",
        "#Model Creation for student test incorporating student baby and the rest of the layers\n",
        "student_test=tf.keras.Sequential([student_baby,Dense(units=2, activation='linear')])\n",
        "\n",
        "#Model Creation for teacher baby till the hint layer\n",
        "teacher_baby =  tf.keras.Sequential([resnet_fitnets])\n",
        "\n",
        "#Model Creation for teacher test incorporating student baby and the rest of the layers\n",
        "teacher_test =  teacher_res=tf.keras.Sequential([teacher_baby,Dense(units=2, activation='linear')])                                                                "
      ]
    },
    {
      "cell_type": "code",
      "source": [
        "teacher_baby.summary()"
      ],
      "metadata": {
        "colab": {
          "base_uri": "https://localhost:8080/"
        },
        "id": "3WUSt-TRKVgz",
        "outputId": "4a741325-fb3b-4b4b-f689-af8a828c2b97"
      },
      "execution_count": null,
      "outputs": [
        {
          "output_type": "stream",
          "name": "stdout",
          "text": [
            "Model: \"sequential_5\"\n",
            "_________________________________________________________________\n",
            " Layer (type)                Output Shape              Param #   \n",
            "=================================================================\n",
            " resnet50v2 (Functional)     (None, 2048)              23564800  \n",
            "                                                                 \n",
            "=================================================================\n",
            "Total params: 23,564,800\n",
            "Trainable params: 14,970,880\n",
            "Non-trainable params: 8,593,920\n",
            "_________________________________________________________________\n"
          ]
        }
      ]
    },
    {
      "cell_type": "code",
      "source": [
        "#teacher_test.build(input_shape=(None,224,224,3))\n",
        "teacher_test.summary()"
      ],
      "metadata": {
        "colab": {
          "base_uri": "https://localhost:8080/"
        },
        "id": "-P0QgvNBJBQp",
        "outputId": "54e2b931-4645-41b9-d2bc-196855ad7d8b"
      },
      "execution_count": null,
      "outputs": [
        {
          "output_type": "stream",
          "name": "stdout",
          "text": [
            "Model: \"sequential_6\"\n",
            "_________________________________________________________________\n",
            " Layer (type)                Output Shape              Param #   \n",
            "=================================================================\n",
            " sequential_5 (Sequential)   (None, 2048)              23564800  \n",
            "                                                                 \n",
            " dense_5 (Dense)             (None, 2)                 4098      \n",
            "                                                                 \n",
            "=================================================================\n",
            "Total params: 23,568,898\n",
            "Trainable params: 14,974,978\n",
            "Non-trainable params: 8,593,920\n",
            "_________________________________________________________________\n"
          ]
        }
      ]
    },
    {
      "cell_type": "code",
      "source": [
        "def compute_teacher_loss_fit(images, labels):\n",
        "  \"\"\"Compute subclass knowledge distillation teacher loss with Fitnets setup for given images\n",
        "     and labels.\n",
        "\n",
        "  Args:\n",
        "    images: Tensor representing a batch of images.\n",
        "    labels: Tensor representing a batch of labels.\n",
        "\n",
        "  Returns:\n",
        "    Scalar loss Tensor.\n",
        "  \"\"\"\n",
        "  subclass_logits = teacher_test(images, training=True)\n",
        "\n",
        "  # Compute cross-entropy loss for subclasses.\n",
        " \n",
        "  loss=tf.keras.losses.CategoricalCrossentropy(axis=-1,name='categorical_crossentropy')\n",
        "  cross_entropy_loss_value = loss(labels,tf.nn.softmax(subclass_logits, axis=-1))\n",
        "\n",
        "  return cross_entropy_loss_value"
      ],
      "metadata": {
        "id": "vZJGsDinJKJc"
      },
      "execution_count": null,
      "outputs": []
    },
    {
      "cell_type": "code",
      "source": [
        "def train_and_evaluate_teacher_fitnets(model, compute_loss_fn):\n",
        "  \"\"\"Perform training and evaluation for a given model.\n",
        "\n",
        "  Args:\n",
        "    model: Instance of tf.keras.Model.\n",
        "    compute_loss_fn: A function that computes the training loss given the\n",
        "      images, and labels.\n",
        "  \"\"\"\n",
        "\n",
        "  # your code start from here for step 4\n",
        "  optimizer = tf.keras.optimizers.Adam(learning_rate=0.0001)\n",
        "\n",
        "  for epoch in range(1, 10 + 1):\n",
        "    # Run training.\n",
        "    print('Epoch {}: '.format(epoch), end='')\n",
        "    train_generator.reset()\n",
        "    for _ in range(68):\n",
        "      images, labels=train_generator.next()\n",
        "      with tf.GradientTape() as tape:\n",
        "         # your code start from here for step 4\n",
        "\n",
        "        loss_value = compute_loss_fn(images,labels)\n",
        "\n",
        "      grads = tape.gradient(loss_value, model.trainable_variables)\n",
        "      optimizer.apply_gradients(zip(grads, model.trainable_variables))\n",
        "        \n",
        "        # Run evaluation.\n",
        "    num_correct = 0\n",
        "    num_total = 0\n",
        "    for _ in range(41):\n",
        "      # your code start from here for step 4\n",
        "      images, labels=test_generator.next()\n",
        "      num_total+= len(labels)\n",
        "      num_correct += compute_num_correct(model,images,labels)[0] \n",
        "    print(\"Class_accuracy: \" + '{:.2f}%'.format(\n",
        "        num_correct / num_total * 100))\n",
        "    \n",
        "  #fine tuning\n",
        "  print('fine tuning')\n",
        "  optimizer = tf.keras.optimizers.Adam(learning_rate=0.00001)\n",
        "\n",
        "  m=teacher_test.get_layer('sequential_5')\n",
        "  m=m.get_layer('resnet50v2')\n",
        "  count=0\n",
        "  for layers in m.layers:\n",
        "    count+=1\n",
        "    if count== 152:\n",
        "      layers.trainable=True\n",
        "    if(layers.name[0:5]== 'conv4'):\n",
        "      layers.trainable=True\n",
        "    else:\n",
        "      continue\n",
        "\n",
        "  count=0  \n",
        "  for layers in m.layers:\n",
        "    count+=1\n",
        "    print(layers.trainable, layers.name[0:5], count)\n",
        "\n",
        "  for epoch in range(1, 25 + 1):\n",
        "  # Run training.\n",
        "    print('Epoch {}: '.format(epoch), end='')\n",
        "    train_generator.reset()\n",
        "    for _ in range(68):\n",
        "      images, labels=train_generator.next()\n",
        "      with tf.GradientTape() as tape:\n",
        "        # your code start from here for step 4\n",
        "\n",
        "        loss_value = compute_loss_fn(images,labels)\n",
        "\n",
        "      grads = tape.gradient(loss_value, model.trainable_variables)\n",
        "      optimizer.apply_gradients(zip(grads, model.trainable_variables))\n",
        "    \n",
        "    # Run evaluation.\n",
        "    num_correct = 0\n",
        "    num_total = 0\n",
        "    for _ in range(41):\n",
        "      # your code start from here for step 4\n",
        "      images, labels=test_generator.next()\n",
        "      num_total+= len(labels)\n",
        "      num_correct += compute_num_correct(model,images,labels)[0] \n",
        "    print(\"Class_accuracy: \" + '{:.2f}%'.format(\n",
        "        num_correct / num_total * 100))"
      ],
      "metadata": {
        "id": "OPc31de_I2lG"
      },
      "execution_count": null,
      "outputs": []
    },
    {
      "cell_type": "code",
      "source": [
        "train_and_evaluate_teacher_fitnets(teacher_test,compute_teacher_loss_fit)"
      ],
      "metadata": {
        "colab": {
          "base_uri": "https://localhost:8080/"
        },
        "id": "HgCY1w_NJQPk",
        "outputId": "b00c3051-9ead-48c3-d061-4d8125d29e43"
      },
      "execution_count": null,
      "outputs": [
        {
          "output_type": "stream",
          "name": "stdout",
          "text": [
            "Epoch 1: Class_accuracy: 79.32%\n",
            "Epoch 2: Class_accuracy: 80.45%\n",
            "Epoch 3: Class_accuracy: 83.21%\n",
            "Epoch 4: Class_accuracy: 79.94%\n",
            "Epoch 5: Class_accuracy: 83.01%\n",
            "Epoch 6: Class_accuracy: 81.68%\n",
            "Epoch 7: Class_accuracy: 80.66%\n",
            "Epoch 8: Class_accuracy: 82.70%\n",
            "Epoch 9: Class_accuracy: 82.70%\n",
            "Epoch 10: Class_accuracy: 79.22%\n",
            "fine tuning\n",
            "True resne 1\n",
            "Epoch 1: Class_accuracy: 82.40%\n",
            "Epoch 2: Class_accuracy: 82.91%\n",
            "Epoch 3: Class_accuracy: 83.52%\n",
            "Epoch 4: Class_accuracy: 83.73%\n",
            "Epoch 5: Class_accuracy: 84.03%\n",
            "Epoch 6: Class_accuracy: 84.75%\n",
            "Epoch 7: Class_accuracy: 84.75%\n",
            "Epoch 8: Class_accuracy: 84.44%\n",
            "Epoch 9: Class_accuracy: 84.95%\n",
            "Epoch 10: Class_accuracy: 84.44%\n",
            "Epoch 11: Class_accuracy: 84.54%\n",
            "Epoch 12: Class_accuracy: 84.34%\n",
            "Epoch 13: Class_accuracy: 84.24%\n",
            "Epoch 14: Class_accuracy: 84.03%\n",
            "Epoch 15: Class_accuracy: 83.52%\n",
            "Epoch 16: Class_accuracy: 84.03%\n",
            "Epoch 17: Class_accuracy: 84.34%\n",
            "Epoch 18: Class_accuracy: 84.14%\n",
            "Epoch 19: Class_accuracy: 85.36%\n",
            "Epoch 20: Class_accuracy: 84.95%\n",
            "Epoch 21: Class_accuracy: 83.93%\n",
            "Epoch 22: Class_accuracy: 84.85%\n",
            "Epoch 23: Class_accuracy: 84.75%\n",
            "Epoch 24: Class_accuracy: 84.65%\n",
            "Epoch 25: Class_accuracy: 84.95%\n"
          ]
        }
      ]
    },
    {
      "cell_type": "code",
      "source": [
        "teacher_test.save('teacher_test')"
      ],
      "metadata": {
        "colab": {
          "base_uri": "https://localhost:8080/"
        },
        "id": "xnQqy42oVOsP",
        "outputId": "b334976d-b0de-4007-b4d5-eaa075b7f054"
      },
      "execution_count": null,
      "outputs": [
        {
          "output_type": "stream",
          "name": "stdout",
          "text": [
            "WARNING:tensorflow:Compiled the loaded model, but the compiled metrics have yet to be built. `model.compile_metrics` will be empty until you train or evaluate the model.\n",
            "INFO:tensorflow:Assets written to: teacher_test/assets\n"
          ]
        }
      ]
    },
    {
      "cell_type": "code",
      "source": [
        "teacher_test=keras.models.load_model('/content/drive/MyDrive/mhist_dataset/teacher_test')"
      ],
      "metadata": {
        "colab": {
          "base_uri": "https://localhost:8080/",
          "height": 310
        },
        "id": "jPRyTng3iYIh",
        "outputId": "0980180b-9753-4f2f-cff9-e824208264e4"
      },
      "execution_count": null,
      "outputs": [
        {
          "output_type": "error",
          "ename": "OSError",
          "evalue": "ignored",
          "traceback": [
            "\u001b[0;31m---------------------------------------------------------------------------\u001b[0m",
            "\u001b[0;31mOSError\u001b[0m                                   Traceback (most recent call last)",
            "\u001b[0;32m<ipython-input-4-28af22ad9205>\u001b[0m in \u001b[0;36m<module>\u001b[0;34m()\u001b[0m\n\u001b[0;32m----> 1\u001b[0;31m \u001b[0mteacher_test\u001b[0m\u001b[0;34m=\u001b[0m\u001b[0mkeras\u001b[0m\u001b[0;34m.\u001b[0m\u001b[0mmodels\u001b[0m\u001b[0;34m.\u001b[0m\u001b[0mload_model\u001b[0m\u001b[0;34m(\u001b[0m\u001b[0;34m'/content/drive/MyDrive/mhist_dataset/teacher_test'\u001b[0m\u001b[0;34m)\u001b[0m\u001b[0;34m\u001b[0m\u001b[0;34m\u001b[0m\u001b[0m\n\u001b[0m",
            "\u001b[0;32m/usr/local/lib/python3.7/dist-packages/keras/utils/traceback_utils.py\u001b[0m in \u001b[0;36merror_handler\u001b[0;34m(*args, **kwargs)\u001b[0m\n\u001b[1;32m     65\u001b[0m     \u001b[0;32mexcept\u001b[0m \u001b[0mException\u001b[0m \u001b[0;32mas\u001b[0m \u001b[0me\u001b[0m\u001b[0;34m:\u001b[0m  \u001b[0;31m# pylint: disable=broad-except\u001b[0m\u001b[0;34m\u001b[0m\u001b[0;34m\u001b[0m\u001b[0m\n\u001b[1;32m     66\u001b[0m       \u001b[0mfiltered_tb\u001b[0m \u001b[0;34m=\u001b[0m \u001b[0m_process_traceback_frames\u001b[0m\u001b[0;34m(\u001b[0m\u001b[0me\u001b[0m\u001b[0;34m.\u001b[0m\u001b[0m__traceback__\u001b[0m\u001b[0;34m)\u001b[0m\u001b[0;34m\u001b[0m\u001b[0;34m\u001b[0m\u001b[0m\n\u001b[0;32m---> 67\u001b[0;31m       \u001b[0;32mraise\u001b[0m \u001b[0me\u001b[0m\u001b[0;34m.\u001b[0m\u001b[0mwith_traceback\u001b[0m\u001b[0;34m(\u001b[0m\u001b[0mfiltered_tb\u001b[0m\u001b[0;34m)\u001b[0m \u001b[0;32mfrom\u001b[0m \u001b[0;32mNone\u001b[0m\u001b[0;34m\u001b[0m\u001b[0;34m\u001b[0m\u001b[0m\n\u001b[0m\u001b[1;32m     68\u001b[0m     \u001b[0;32mfinally\u001b[0m\u001b[0;34m:\u001b[0m\u001b[0;34m\u001b[0m\u001b[0;34m\u001b[0m\u001b[0m\n\u001b[1;32m     69\u001b[0m       \u001b[0;32mdel\u001b[0m \u001b[0mfiltered_tb\u001b[0m\u001b[0;34m\u001b[0m\u001b[0;34m\u001b[0m\u001b[0m\n",
            "\u001b[0;32m/usr/local/lib/python3.7/dist-packages/keras/saving/save.py\u001b[0m in \u001b[0;36mload_model\u001b[0;34m(filepath, custom_objects, compile, options)\u001b[0m\n\u001b[1;32m    202\u001b[0m         \u001b[0;32mif\u001b[0m \u001b[0misinstance\u001b[0m\u001b[0;34m(\u001b[0m\u001b[0mfilepath_str\u001b[0m\u001b[0;34m,\u001b[0m \u001b[0mstr\u001b[0m\u001b[0;34m)\u001b[0m\u001b[0;34m:\u001b[0m\u001b[0;34m\u001b[0m\u001b[0;34m\u001b[0m\u001b[0m\n\u001b[1;32m    203\u001b[0m           \u001b[0;32mif\u001b[0m \u001b[0;32mnot\u001b[0m \u001b[0mtf\u001b[0m\u001b[0;34m.\u001b[0m\u001b[0mio\u001b[0m\u001b[0;34m.\u001b[0m\u001b[0mgfile\u001b[0m\u001b[0;34m.\u001b[0m\u001b[0mexists\u001b[0m\u001b[0;34m(\u001b[0m\u001b[0mfilepath_str\u001b[0m\u001b[0;34m)\u001b[0m\u001b[0;34m:\u001b[0m\u001b[0;34m\u001b[0m\u001b[0;34m\u001b[0m\u001b[0m\n\u001b[0;32m--> 204\u001b[0;31m             \u001b[0;32mraise\u001b[0m \u001b[0mIOError\u001b[0m\u001b[0;34m(\u001b[0m\u001b[0;34mf'No file or directory found at {filepath_str}'\u001b[0m\u001b[0;34m)\u001b[0m\u001b[0;34m\u001b[0m\u001b[0;34m\u001b[0m\u001b[0m\n\u001b[0m\u001b[1;32m    205\u001b[0m \u001b[0;34m\u001b[0m\u001b[0m\n\u001b[1;32m    206\u001b[0m           \u001b[0;32mif\u001b[0m \u001b[0mtf\u001b[0m\u001b[0;34m.\u001b[0m\u001b[0mio\u001b[0m\u001b[0;34m.\u001b[0m\u001b[0mgfile\u001b[0m\u001b[0;34m.\u001b[0m\u001b[0misdir\u001b[0m\u001b[0;34m(\u001b[0m\u001b[0mfilepath_str\u001b[0m\u001b[0;34m)\u001b[0m\u001b[0;34m:\u001b[0m\u001b[0;34m\u001b[0m\u001b[0;34m\u001b[0m\u001b[0m\n",
            "\u001b[0;31mOSError\u001b[0m: No file or directory found at /content/drive/MyDrive/mhist_dataset/teacher_test"
          ]
        }
      ]
    },
    {
      "cell_type": "code",
      "source": [
        "# Precision, Recall, and F-1 score on the test set using teacher fitnet\n",
        "\n",
        "y_pred_o = teacher_test.predict(test_generator, verbose=1)\n",
        "y_pred = np.argmax(y_pred_o,axis=1)\n",
        "\n",
        "precision_obj = tf.keras.metrics.Precision()\n",
        "precision_obj.update_state(test_label, y_pred)\n",
        "precision = precision_obj.result().numpy()\n",
        "\n",
        "\n",
        "recall_obj = tf.keras.metrics.Recall()\n",
        "recall_obj.update_state(test_label,  y_pred)\n",
        "recall = recall_obj.result().numpy()\n",
        "\n",
        "\n",
        "f1_score = 2*(precision*recall)/(recall+precision)\n",
        "print(\"Evaluating the Teacher for fitnet\")\n",
        "print('Precision: ',precision)\n",
        "print('Recall: ',recall)\n",
        "print('F1_score: ',f1_score)"
      ],
      "metadata": {
        "colab": {
          "base_uri": "https://localhost:8080/"
        },
        "id": "OjNZOzTuCFlU",
        "outputId": "535a837c-1040-497d-8498-cd5947664d13"
      },
      "execution_count": null,
      "outputs": [
        {
          "output_type": "stream",
          "name": "stdout",
          "text": [
            "10/10 [==============================] - 2s 253ms/step\n",
            "Evaluating the Teacher for fitnet\n",
            "Precision:  0.76842105\n",
            "Recall:  0.71568626\n",
            "F1_score:  0.7411167785873178\n"
          ]
        }
      ]
    },
    {
      "cell_type": "code",
      "execution_count": null,
      "metadata": {
        "id": "DqF5PxO_j1aF",
        "colab": {
          "base_uri": "https://localhost:8080/"
        },
        "outputId": "419b28b9-00df-4541-c34d-427109a7d130"
      },
      "outputs": [
        {
          "output_type": "stream",
          "name": "stdout",
          "text": [
            "Model: \"sequential_1\"\n",
            "_________________________________________________________________\n",
            " Layer (type)                Output Shape              Param #   \n",
            "=================================================================\n",
            " sequential (Sequential)     (None, 2048)              4881472   \n",
            "                                                                 \n",
            " dense_1 (Dense)             (None, 2)                 4098      \n",
            "                                                                 \n",
            "=================================================================\n",
            "Total params: 4,885,570\n",
            "Trainable params: 3,513,666\n",
            "Non-trainable params: 1,371,904\n",
            "_________________________________________________________________\n"
          ]
        }
      ],
      "source": [
        "student_test.build(input_shape=(None,224,224,3))\n",
        "student_test.summary()"
      ]
    },
    {
      "cell_type": "code",
      "source": [
        "student_baby.summary()"
      ],
      "metadata": {
        "colab": {
          "base_uri": "https://localhost:8080/"
        },
        "id": "SkEZp1V-Cf-Z",
        "outputId": "0b156754-790d-4da3-feda-d232f2d0c253"
      },
      "execution_count": null,
      "outputs": [
        {
          "output_type": "stream",
          "name": "stdout",
          "text": [
            "Model: \"sequential\"\n",
            "_________________________________________________________________\n",
            " Layer (type)                Output Shape              Param #   \n",
            "=================================================================\n",
            " mobilenetv2_1.00_224 (Funct  (None, 1280)             2257984   \n",
            " ional)                                                          \n",
            "                                                                 \n",
            " dense (Dense)               (None, 2048)              2623488   \n",
            "                                                                 \n",
            "=================================================================\n",
            "Total params: 4,881,472\n",
            "Trainable params: 3,509,568\n",
            "Non-trainable params: 1,371,904\n",
            "_________________________________________________________________\n"
          ]
        }
      ]
    },
    {
      "cell_type": "code",
      "execution_count": null,
      "metadata": {
        "id": "wsbFuu59j4pg"
      },
      "outputs": [],
      "source": [
        "def compute_student_loss(images, labels,teacher_baby, student_baby, ALPHA=0.9):\n",
        "  \"\"\"Compute subclass knowledge distillation student loss with fitnets setup for given images\n",
        "     and labels.\n",
        "\n",
        "  Args:\n",
        "    images: Tensor representing a batch of images.\n",
        "    labels: Tensor representing a batch of labels.\n",
        "    teacher_baby: The TensorFlow teacher model with final layer as hint layer \n",
        "    student_baby: The TensorFlow student model with final layer as guided layer\n",
        "    ALPHA: weight parameter to balance the contribution of two losses\n",
        "  Returns:\n",
        "    Scalar loss Tensor.\n",
        "  \"\"\"\n",
        "  student_subclass_logits = student_test(images, training=True)\n",
        "\n",
        "  # Compute subclass distillation loss between student subclass logits and\n",
        "  # softened teacher subclass targets probabilities.\n",
        "\n",
        "  teacher_subclass_logits = teacher_test(images, training=False)\n",
        "  distillation_loss_value = compute_student_loss_new(teacher_baby, student_baby, images)\n",
        "\n",
        "  # Compute cross-entropy loss with hard targets.\n",
        "\n",
        "  loss=tf.keras.losses.CategoricalCrossentropy(axis=-1,name='categorical_crossentropy')\n",
        "  cross_entropy_loss_value = loss(labels,tf.nn.softmax(student_subclass_logits, axis=-1))\n",
        "\n",
        "  return (ALPHA*  distillation_loss_value + (1-ALPHA)* cross_entropy_loss_value) "
      ]
    },
    {
      "cell_type": "code",
      "execution_count": null,
      "metadata": {
        "id": "uySgsAQPj8Mq"
      },
      "outputs": [],
      "source": [
        "def compute_student_loss_new(teacher_baby, student_baby, inp_imag):\n",
        "  \"\"\"\n",
        "  Compute L2 norm of the outputs of these hint and guided layers \n",
        "  Args:\n",
        "    images: Tensor representing a batch of images.\n",
        "    teacher_baby: The TensorFlow teacher model with final layer as hint layer \n",
        "    student_baby: The TensorFlow student model with final layer as guided layer\n",
        "    \n",
        "  Returns:\n",
        "    Scalar loss Tensor.\n",
        "  \"\"\"\n",
        "    prediction_student_baby = student_baby(inp_imag)\n",
        "    prediction_teacher_baby = teacher_baby(inp_imag)\n",
        "    loss = tf.math.sqrt(tf.math.reduce_sum(tf.math.pow((prediction_teacher_baby-prediction_student_baby),2)))\n",
        "    return loss "
      ]
    },
    {
      "cell_type": "code",
      "source": [
        "def train_and_evaluate_fitnets(student_test,teacher_baby,student_baby, compute_loss_fn):\n",
        "  \"\"\"\n",
        "  Compute subclass knowledge distillation student test loss using fitnets method for the given images\n",
        "     and labels. Fitnets loss is calculated as the weighted sum of the L2 norm of the outputs of these hint \n",
        "     and guided layers along with the hard labels’ cross entropy loss for the student. \n",
        "\n",
        "  Args:\n",
        "\n",
        "    teacher_baby: The TensorFlow teacher model with final layer as hint layer \n",
        "    student_baby: The TensorFlow student model with final layer as guided layer\n",
        "    student: The Tensorflow student model consisting of baby student followed by the classification layer \n",
        "    teacher: The TensorFlow teacher model consisting of baby teacher followed by the dropout and the classification layer\n",
        "    compute_loss_fn: loss function for fitnets\n",
        "  Returns:\n",
        "    Prints the Epoch wise model accuracy.\n",
        "  \"\"\"\n",
        "  optimizer = tf.keras.optimizers.Adam(learning_rate=0.0001)\n",
        "\n",
        "  for epoch in range(1, 10 + 1):\n",
        "    # Run training.\n",
        "    print('Epoch {}: '.format(epoch), end='')\n",
        "    train_generator.reset()\n",
        "    for _ in range(91):\n",
        "      images, labels=train_generator.next()\n",
        "      with tf.GradientTape() as tape:\n",
        "         loss_value = compute_loss_fn(images, labels,teacher_baby, student_baby,ALPHA=0.8)\n",
        "      grads = tape.gradient(loss_value, student_test.trainable_variables)\n",
        "      optimizer.apply_gradients(zip(grads, student_test.trainable_variables))\n",
        "\n",
        "    # Run evaluation.\n",
        "    num_correct = 0\n",
        "    num_total = 0\n",
        "    for _ in range(41):\n",
        "      # your code start from here for step 4\n",
        "      images, labels=test_generator.next()\n",
        "      num_total+= len(labels)\n",
        "      num_correct += compute_num_correct(student_test,images,labels)[0] \n",
        "    print(\"Class_accuracy: \" + '{:.2f}%'.format(\n",
        "        num_correct / num_total * 100))\n",
        "  \n",
        "  #fine tuning\n",
        "  print('fine tuning')\n",
        "  optimizer = tf.keras.optimizers.Adam(learning_rate=0.0001)\n",
        "\n",
        "  m=student_test.get_layer('sequential_3')\n",
        "  m=m.get_layer('mobilenetv2_1.00_224')\n",
        "\n",
        "  for layers in m.layers:\n",
        "    if(layers.name[0:8]== 'block_15'):\n",
        "      layers.trainable=True\n",
        "    else:\n",
        "      continue\n",
        "\n",
        "  count=0  \n",
        "  for layers in m.layers:\n",
        "    count+=1\n",
        "    print(layers.trainable, layers.name[0:8], count)\n",
        "\n",
        "  for epoch in range(1, 25 + 1):\n",
        "  # Run training.\n",
        "    print('Epoch {}: '.format(epoch), end='')\n",
        "    train_generator.reset()\n",
        "    for _ in range(91):\n",
        "      images, labels=train_generator.next()\n",
        "      with tf.GradientTape() as tape:\n",
        "        # your code start from here for step 4\n",
        "\n",
        "        loss_value = compute_loss_fn(images, labels,teacher_baby, student_baby,ALPHA=0.8)\n",
        "\n",
        "      grads = tape.gradient(loss_value, student_test.trainable_variables)\n",
        "      optimizer.apply_gradients(zip(grads, student_test.trainable_variables))\n",
        "    \n",
        "    # Run evaluation.\n",
        "    num_correct = 0\n",
        "    num_total = 0\n",
        "    for _ in range(41):\n",
        "      # your code start from here for step 4\n",
        "      images, labels=test_generator.next()\n",
        "      num_total+= len(labels)\n",
        "      num_correct += compute_num_correct(student_test,images,labels)[0] \n",
        "    print(\"Class_accuracy: \" + '{:.2f}%'.format(\n",
        "        num_correct / num_total * 100))"
      ],
      "metadata": {
        "id": "_hFf7opIkD3V"
      },
      "execution_count": null,
      "outputs": []
    },
    {
      "cell_type": "code",
      "execution_count": null,
      "metadata": {
        "id": "vPPX-FFwkGFF",
        "colab": {
          "base_uri": "https://localhost:8080/"
        },
        "outputId": "1c030147-bf7d-4706-fbe6-1ce509bb911c"
      },
      "outputs": [
        {
          "output_type": "stream",
          "name": "stdout",
          "text": [
            "Epoch 1: Class_accuracy: 62.03%\n",
            "Epoch 2: Class_accuracy: 54.11%\n",
            "Epoch 3: Class_accuracy: 32.91%\n",
            "Epoch 4: Class_accuracy: 37.34%\n",
            "Epoch 5: Class_accuracy: 62.39%\n",
            "Epoch 6: Class_accuracy: 58.12%\n",
            "Epoch 7: Class_accuracy: 66.88%\n",
            "Epoch 8: Class_accuracy: 70.78%\n",
            "Epoch 9: Class_accuracy: 73.84%\n",
            "Epoch 10: Class_accuracy: 76.05%\n",
            "fine tuning\n",
            "False input_5 1\n",
            "False Conv1 2\n",
            "False bn_Conv1 3\n",
            "False Conv1_re 4\n",
            "False expanded 5\n",
            "False expanded 6\n",
            "False expanded 7\n",
            "False expanded 8\n",
            "False expanded 9\n",
            "False block_1_ 10\n",
            "False block_1_ 11\n",
            "False block_1_ 12\n",
            "False block_1_ 13\n",
            "False block_1_ 14\n",
            "False block_1_ 15\n",
            "False block_1_ 16\n",
            "False block_1_ 17\n",
            "False block_1_ 18\n",
            "False block_2_ 19\n",
            "False block_2_ 20\n",
            "False block_2_ 21\n",
            "False block_2_ 22\n",
            "False block_2_ 23\n",
            "False block_2_ 24\n",
            "False block_2_ 25\n",
            "False block_2_ 26\n",
            "False block_2_ 27\n",
            "False block_3_ 28\n",
            "False block_3_ 29\n",
            "False block_3_ 30\n",
            "False block_3_ 31\n",
            "False block_3_ 32\n",
            "False block_3_ 33\n",
            "False block_3_ 34\n",
            "False block_3_ 35\n",
            "False block_3_ 36\n",
            "False block_4_ 37\n",
            "False block_4_ 38\n",
            "False block_4_ 39\n",
            "False block_4_ 40\n",
            "False block_4_ 41\n",
            "False block_4_ 42\n",
            "False block_4_ 43\n",
            "False block_4_ 44\n",
            "False block_4_ 45\n",
            "False block_5_ 46\n",
            "False block_5_ 47\n",
            "False block_5_ 48\n",
            "False block_5_ 49\n",
            "False block_5_ 50\n",
            "False block_5_ 51\n",
            "False block_5_ 52\n",
            "False block_5_ 53\n",
            "False block_5_ 54\n",
            "False block_6_ 55\n",
            "False block_6_ 56\n",
            "False block_6_ 57\n",
            "False block_6_ 58\n",
            "False block_6_ 59\n",
            "False block_6_ 60\n",
            "False block_6_ 61\n",
            "False block_6_ 62\n",
            "False block_6_ 63\n",
            "False block_7_ 64\n",
            "False block_7_ 65\n",
            "False block_7_ 66\n",
            "False block_7_ 67\n",
            "False block_7_ 68\n",
            "False block_7_ 69\n",
            "False block_7_ 70\n",
            "False block_7_ 71\n",
            "False block_7_ 72\n",
            "False block_8_ 73\n",
            "False block_8_ 74\n",
            "False block_8_ 75\n",
            "False block_8_ 76\n",
            "False block_8_ 77\n",
            "False block_8_ 78\n",
            "False block_8_ 79\n",
            "False block_8_ 80\n",
            "False block_8_ 81\n",
            "False block_9_ 82\n",
            "False block_9_ 83\n",
            "False block_9_ 84\n",
            "False block_9_ 85\n",
            "False block_9_ 86\n",
            "False block_9_ 87\n",
            "False block_9_ 88\n",
            "False block_9_ 89\n",
            "False block_9_ 90\n",
            "False block_10 91\n",
            "False block_10 92\n",
            "False block_10 93\n",
            "False block_10 94\n",
            "False block_10 95\n",
            "False block_10 96\n",
            "False block_10 97\n",
            "False block_10 98\n",
            "False block_11 99\n",
            "False block_11 100\n",
            "False block_11 101\n",
            "False block_11 102\n",
            "False block_11 103\n",
            "False block_11 104\n",
            "False block_11 105\n",
            "False block_11 106\n",
            "False block_11 107\n",
            "False block_12 108\n",
            "False block_12 109\n",
            "False block_12 110\n",
            "False block_12 111\n",
            "False block_12 112\n",
            "False block_12 113\n",
            "False block_12 114\n",
            "False block_12 115\n",
            "False block_12 116\n",
            "False block_13 117\n",
            "False block_13 118\n",
            "False block_13 119\n",
            "False block_13 120\n",
            "False block_13 121\n",
            "False block_13 122\n",
            "False block_13 123\n",
            "False block_13 124\n",
            "False block_13 125\n",
            "False block_14 126\n",
            "False block_14 127\n",
            "False block_14 128\n",
            "False block_14 129\n",
            "False block_14 130\n",
            "False block_14 131\n",
            "False block_14 132\n",
            "False block_14 133\n",
            "False block_14 134\n",
            "True block_15 135\n",
            "True block_15 136\n",
            "True block_15 137\n",
            "True block_15 138\n",
            "True block_15 139\n",
            "True block_15 140\n",
            "True block_15 141\n",
            "True block_15 142\n",
            "True block_15 143\n",
            "True block_16 144\n",
            "True block_16 145\n",
            "True block_16 146\n",
            "True block_16 147\n",
            "True block_16 148\n",
            "True block_16 149\n",
            "True block_16 150\n",
            "True block_16 151\n",
            "True Conv_1 152\n",
            "True Conv_1_b 153\n",
            "True out_relu 154\n",
            "True global_m 155\n",
            "Epoch 1: Class_accuracy: 77.43%\n",
            "Epoch 2: Class_accuracy: 72.54%\n",
            "Epoch 3: Class_accuracy: 77.64%\n",
            "Epoch 4: Class_accuracy: 77.43%\n",
            "Epoch 5: Class_accuracy: 70.89%\n",
            "Epoch 6: Class_accuracy: 76.79%\n",
            "Epoch 7: Class_accuracy: 77.32%\n",
            "Epoch 8: Class_accuracy: 70.51%\n",
            "Epoch 9: Class_accuracy: 75.74%\n",
            "Epoch 10: Class_accuracy: 79.01%\n",
            "Epoch 11: Class_accuracy: 74.26%\n",
            "Epoch 12: Class_accuracy: 77.43%\n",
            "Epoch 13: Class_accuracy: 71.84%\n",
            "Epoch 14: Class_accuracy: 76.48%\n",
            "Epoch 15: Class_accuracy: 75.75%\n",
            "Epoch 16: Class_accuracy: 76.90%\n",
            "Epoch 17: Class_accuracy: 75.63%\n",
            "Epoch 18: Class_accuracy: 76.79%\n",
            "Epoch 19: Class_accuracy: 77.32%\n",
            "Epoch 20: Class_accuracy: 75.53%\n",
            "Epoch 21: Class_accuracy: 77.88%\n",
            "Epoch 22: Class_accuracy: 78.80%\n",
            "Epoch 23: Class_accuracy: 77.95%\n",
            "Epoch 24: Class_accuracy: 80.06%\n",
            "Epoch 25: Class_accuracy: 79.11%\n"
          ]
        }
      ],
      "source": [
        "#Calculating student loss with the Fitnets setup\n",
        "train_and_evaluate_fitnets(student_test,teacher_baby,student_baby, compute_student_loss)"
      ]
    },
    {
      "cell_type": "code",
      "source": [
        "# Precision, Recall, and F-1 score on the test set using student fitnet model with KD\n",
        "\n",
        "y_pred_o = student_test.predict(test_generator, verbose=1)\n",
        "y_pred = np.argmax(y_pred_o,axis=1)\n",
        "\n",
        "precision_obj = tf.keras.metrics.Precision()\n",
        "precision_obj.update_state(test_label, y_pred)\n",
        "precision = precision_obj.result().numpy()\n",
        "\n",
        "\n",
        "recall_obj = tf.keras.metrics.Recall()\n",
        "recall_obj.update_state(test_label,  y_pred)\n",
        "recall = recall_obj.result().numpy()\n",
        "\n",
        "\n",
        "f1_score = 2*(precision*recall)/(recall+precision)\n",
        "print(\"Evaluating the student fitnet\")\n",
        "print('Precision: ',precision)\n",
        "print('Recall: ',recall)\n",
        "print('F1_score: ',f1_score)"
      ],
      "metadata": {
        "colab": {
          "base_uri": "https://localhost:8080/"
        },
        "id": "a5gLdzrQo8Js",
        "outputId": "015e4a64-9d7c-4343-cc3a-e8d4d5715126"
      },
      "execution_count": null,
      "outputs": [
        {
          "output_type": "stream",
          "name": "stdout",
          "text": [
            "10/10 [==============================] - 2s 178ms/step\n",
            "Evaluating the student fitnet\n",
            "Precision:  0.7111111\n",
            "Recall:  0.627451\n",
            "F1_score:  0.6666666666666666\n"
          ]
        }
      ]
    }
  ],
  "metadata": {
    "accelerator": "GPU",
    "colab": {
      "collapsed_sections": [
        "QJu0n1YaWOso",
        "XlLYcw9aX3RF",
        "CZgnutu0n3Im",
        "NvgFnQclWIg3",
        "cYsfOXv2oHe6",
        "RWYj2s2oDQaC"
      ],
      "name": "task2 part2.ipynb",
      "provenance": []
    },
    "kernelspec": {
      "display_name": "Python 3",
      "name": "python3"
    },
    "language_info": {
      "name": "python"
    }
  },
  "nbformat": 4,
  "nbformat_minor": 0
}